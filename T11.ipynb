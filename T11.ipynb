{
  "nbformat": 4,
  "nbformat_minor": 0,
  "metadata": {
    "colab": {
      "name": "T11.ipynb",
      "provenance": [],
      "authorship_tag": "ABX9TyNglkpf0C49EhbfiSZFTrG+",
      "include_colab_link": true
    },
    "kernelspec": {
      "name": "python3",
      "display_name": "Python 3"
    },
    "language_info": {
      "name": "python"
    }
  },
  "cells": [
    {
      "cell_type": "markdown",
      "metadata": {
        "id": "view-in-github",
        "colab_type": "text"
      },
      "source": [
        "<a href=\"https://colab.research.google.com/github/Saurav-Raghaw/Python/blob/main/T11.ipynb\" target=\"_parent\"><img src=\"https://colab.research.google.com/assets/colab-badge.svg\" alt=\"Open In Colab\"/></a>"
      ]
    },
    {
      "cell_type": "code",
      "metadata": {
        "colab": {
          "base_uri": "https://localhost:8080/"
        },
        "id": "3-ILXvWjgILM",
        "outputId": "c431a2ea-a374-4faa-dce8-bc5b9fe55112"
      },
      "source": [
        "#Iterators\n",
        "#An iterator is an object that contains a countable number of values.\n",
        "#An iterator is an object that can be iterated upon, meaning that you can traverse through all the values.\n",
        "\n",
        "#Lists, tuples, dictionaries, and sets are all iterable objects. They are iterable containers which you can get an iterator from.\n",
        "\n",
        "mytuple = (\"apple\", \"banana\", \"cherry\")\n",
        "myit = iter(mytuple)  #iter() method is used to get an iterator.\n",
        "\n",
        "print(next(myit))\n",
        "print(next(myit))\n",
        "print(next(myit))"
      ],
      "execution_count": 1,
      "outputs": [
        {
          "output_type": "stream",
          "text": [
            "apple\n",
            "banana\n",
            "cherry\n"
          ],
          "name": "stdout"
        }
      ]
    },
    {
      "cell_type": "code",
      "metadata": {
        "colab": {
          "base_uri": "https://localhost:8080/"
        },
        "id": "sZYjChUtitfP",
        "outputId": "6bc9c63a-22e0-4e93-c62d-4d29cf05564e"
      },
      "source": [
        "#strings are iterable objects, and can return an iterator.\n",
        "\n",
        "name = 'saurav'\n",
        "it = iter(name)\n",
        "\n",
        "print(next(it))\n",
        "print(next(it))\n",
        "print(next(it))\n",
        "print(next(it))\n",
        "print(next(it))\n",
        "print(next(it))"
      ],
      "execution_count": 5,
      "outputs": [
        {
          "output_type": "stream",
          "text": [
            "s\n",
            "a\n",
            "u\n",
            "r\n",
            "a\n",
            "v\n"
          ],
          "name": "stdout"
        }
      ]
    },
    {
      "cell_type": "code",
      "metadata": {
        "colab": {
          "base_uri": "https://localhost:8080/"
        },
        "id": "dDC-_UDbjQQL",
        "outputId": "b707706d-c3c9-4c1a-e93d-3121eb1ed94d"
      },
      "source": [
        "#for loop to iterate through an iterable object.\n",
        "#The for loop actually creates an iterator object and executes the next() method for each loop.\n",
        "\n",
        "name = 'saurav'\n",
        "it = iter(name)\n",
        "\n",
        "for x in it:\n",
        "  print(x)"
      ],
      "execution_count": 6,
      "outputs": [
        {
          "output_type": "stream",
          "text": [
            "s\n",
            "a\n",
            "u\n",
            "r\n",
            "a\n",
            "v\n"
          ],
          "name": "stdout"
        }
      ]
    },
    {
      "cell_type": "code",
      "metadata": {
        "colab": {
          "base_uri": "https://localhost:8080/"
        },
        "id": "oDKp2wNTl6PR",
        "outputId": "086f0ef7-fc43-454d-d120-ef6e3d7542db"
      },
      "source": [
        "#Creating a iterator that returns number starting with 1 and each sequence will increase by 1.\n",
        "\n",
        "class Number_:\n",
        "  def __iter__(self):\n",
        "    self.a = 1\n",
        "    return self\n",
        "  \n",
        "  def __next__(self):\n",
        "    x = self.a\n",
        "    self.a += 1\n",
        "    return x\n",
        "\n",
        "my_number = Number_()\n",
        "my_iter = iter(my_number)\n",
        "\n",
        "print(next(my_iter))\n",
        "print(next(my_iter))\n",
        "print(next(my_iter))\n",
        "print(next(my_iter))\n",
        "\n",
        "#If we'll use for loop it'll never stop. So required modification in __next__() method.\n"
      ],
      "execution_count": 10,
      "outputs": [
        {
          "output_type": "stream",
          "text": [
            "1\n",
            "2\n",
            "3\n",
            "4\n"
          ],
          "name": "stdout"
        }
      ]
    },
    {
      "cell_type": "code",
      "metadata": {
        "colab": {
          "base_uri": "https://localhost:8080/"
        },
        "id": "uK9Orp4toNPj",
        "outputId": "b1735c03-94dc-4ae3-8684-6735096ea849"
      },
      "source": [
        "class Number_:\n",
        "  def __iter__(self):\n",
        "    self.a = 1\n",
        "    return self\n",
        "  \n",
        "  def __next__(self):\n",
        "    if self.a <= 10:\n",
        "      x = self.a\n",
        "      self.a += 1\n",
        "      return x\n",
        "    else:\n",
        "      raise StopIteration\n",
        "\n",
        "my_number = Number_()\n",
        "my_iter = iter(my_number)\n",
        "\n",
        "for i in my_iter:\n",
        "  print(i)"
      ],
      "execution_count": 14,
      "outputs": [
        {
          "output_type": "stream",
          "text": [
            "1\n",
            "2\n",
            "3\n",
            "4\n",
            "5\n",
            "6\n",
            "7\n",
            "8\n",
            "9\n",
            "10\n"
          ],
          "name": "stdout"
        }
      ]
    },
    {
      "cell_type": "code",
      "metadata": {
        "colab": {
          "base_uri": "https://localhost:8080/"
        },
        "id": "M5M53Yraqy5G",
        "outputId": "a186d406-3982-44c5-b261-30809b10b93d"
      },
      "source": [
        "#Python Scope\n",
        "\n",
        "#Local Scope: A variable created inside a function belongs to the local scope of that function, and can only be used inside that function.\n",
        "\n",
        "def my_func():\n",
        "  x = 10\n",
        "  print(x)\n",
        "  \n",
        "my_func()"
      ],
      "execution_count": 16,
      "outputs": [
        {
          "output_type": "stream",
          "text": [
            "10\n"
          ],
          "name": "stdout"
        }
      ]
    },
    {
      "cell_type": "code",
      "metadata": {
        "colab": {
          "base_uri": "https://localhost:8080/",
          "height": 86
        },
        "id": "7ByCx5uUsQsm",
        "outputId": "8621cf6b-9c55-4844-d517-dde8e9ea2179"
      },
      "source": [
        "#global scope: A variable created in the main body of the Python code is a global variable and belongs to the global scope.\n",
        "\n",
        "#Global variables are available from within any scope, global and local.\n",
        "\n",
        "x = 5\n",
        "def my_func():\n",
        "  x = 10\n",
        "  print(x)\n",
        "  \n",
        "my_func()\n",
        "\n",
        "print(x)\n",
        "\n",
        "'''\n",
        "If you operate with the same variable name inside and outside of a function, Python will treat them as two separate variables, one available in the \n",
        "global scope (outside the function) and one available in the local scope (inside the function).\n",
        "'''"
      ],
      "execution_count": 20,
      "outputs": [
        {
          "output_type": "stream",
          "text": [
            "10\n",
            "5\n"
          ],
          "name": "stdout"
        },
        {
          "output_type": "execute_result",
          "data": {
            "application/vnd.google.colaboratory.intrinsic+json": {
              "type": "string"
            },
            "text/plain": [
              "'\\nIf you operate with the same variable name inside and outside of a function, Python will treat them as two separate variables, one available in the \\nglobal scope (outside the function) and one available in the local scope (inside the function).\\n'"
            ]
          },
          "metadata": {
            "tags": []
          },
          "execution_count": 20
        }
      ]
    },
    {
      "cell_type": "code",
      "metadata": {
        "colab": {
          "base_uri": "https://localhost:8080/"
        },
        "id": "syPhGuQ-tcXf",
        "outputId": "705b58fa-245c-48cb-c2d3-452232a15334"
      },
      "source": [
        "#global keyword: If you use the global keyword, the variable belongs to the global scope.\n",
        "\n",
        "def my_func():\n",
        "  global x \n",
        "  x = 10\n",
        "  print(x)\n",
        "  \n",
        "my_func()\n",
        "\n",
        "print(x)"
      ],
      "execution_count": 22,
      "outputs": [
        {
          "output_type": "stream",
          "text": [
            "10\n",
            "10\n"
          ],
          "name": "stdout"
        }
      ]
    },
    {
      "cell_type": "code",
      "metadata": {
        "colab": {
          "base_uri": "https://localhost:8080/"
        },
        "id": "4V2EdzVpuhzn",
        "outputId": "23b25f4c-58f2-4d6c-8f20-aa3c5cbbfebc"
      },
      "source": [
        "#Also we can use the global keyword if you want to make a change to a global variable inside a function.\n",
        "\n",
        "x = 5\n",
        "def my_func():\n",
        "  global x\n",
        "  x = 10\n",
        "  print(x)\n",
        "  \n",
        "my_func()\n",
        "\n",
        "print(x)"
      ],
      "execution_count": 23,
      "outputs": [
        {
          "output_type": "stream",
          "text": [
            "10\n",
            "10\n"
          ],
          "name": "stdout"
        }
      ]
    }
  ]
}