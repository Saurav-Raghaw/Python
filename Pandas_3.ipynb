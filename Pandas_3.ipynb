{
  "nbformat": 4,
  "nbformat_minor": 0,
  "metadata": {
    "colab": {
      "name": "Pandas_3.ipynb",
      "provenance": [],
      "mount_file_id": "10ZBfuJ08xJKgnPP5fKu0rr3AGlcl6wmH",
      "authorship_tag": "ABX9TyPrdr98TOsSwHYEMAEyoXSg",
      "include_colab_link": true
    },
    "kernelspec": {
      "name": "python3",
      "display_name": "Python 3"
    },
    "language_info": {
      "name": "python"
    }
  },
  "cells": [
    {
      "cell_type": "markdown",
      "metadata": {
        "id": "view-in-github",
        "colab_type": "text"
      },
      "source": [
        "<a href=\"https://colab.research.google.com/github/Saurav-Raghaw/Python/blob/main/Pandas_3.ipynb\" target=\"_parent\"><img src=\"https://colab.research.google.com/assets/colab-badge.svg\" alt=\"Open In Colab\"/></a>"
      ]
    },
    {
      "cell_type": "code",
      "metadata": {
        "id": "LuHgF6oAKDtf"
      },
      "source": [
        "####____Cleaning the Data___####\n",
        "\n",
        "import pandas as pd"
      ],
      "execution_count": 1,
      "outputs": []
    },
    {
      "cell_type": "code",
      "metadata": {
        "colab": {
          "base_uri": "https://localhost:8080/"
        },
        "id": "w_QtYixjKh5a",
        "outputId": "a23a2366-5203-4575-ecaa-b142287556ee"
      },
      "source": [
        "df = pd.read_csv('/content/drive/MyDrive/dirtydata.csv')\n",
        "\n",
        "print(df.to_string())\n",
        "#By default, when you print a DataFrame, you will only get the first 5 rows, and the last 5 rows."
      ],
      "execution_count": 4,
      "outputs": [
        {
          "output_type": "stream",
          "text": [
            "    Duration          Date  Pulse  Maxpulse  Calories\n",
            "0         60  '2020/12/01'    110       130     409.1\n",
            "1         60  '2020/12/02'    117       145     479.0\n",
            "2         60  '2020/12/03'    103       135     340.0\n",
            "3         45  '2020/12/04'    109       175     282.4\n",
            "4         45  '2020/12/05'    117       148     406.0\n",
            "5         60  '2020/12/06'    102       127     300.0\n",
            "6         60  '2020/12/07'    110       136     374.0\n",
            "7        450  '2020/12/08'    104       134     253.3\n",
            "8         30  '2020/12/09'    109       133     195.1\n",
            "9         60  '2020/12/10'     98       124     269.0\n",
            "10        60  '2020/12/11'    103       147     329.3\n",
            "11        60  '2020/12/12'    100       120     250.7\n",
            "12        60  '2020/12/12'    100       120     250.7\n",
            "13        60  '2020/12/13'    106       128     345.3\n",
            "14        60  '2020/12/14'    104       132     379.3\n",
            "15        60  '2020/12/15'     98       123     275.0\n",
            "16        60  '2020/12/16'     98       120     215.2\n",
            "17        60  '2020/12/17'    100       120     300.0\n",
            "18        45  '2020/12/18'     90       112       NaN\n",
            "19        60  '2020/12/19'    103       123     323.0\n",
            "20        45  '2020/12/20'     97       125     243.0\n",
            "21        60  '2020/12/21'    108       131     364.2\n",
            "22        45           NaN    100       119     282.0\n",
            "23        60  '2020/12/23'    130       101     300.0\n",
            "24        45  '2020/12/24'    105       132     246.0\n",
            "25        60  '2020/12/25'    102       126     334.5\n",
            "26        60      20201226    100       120     250.0\n",
            "27        60  '2020/12/27'     92       118     241.0\n",
            "28        60  '2020/12/28'    103       132       NaN\n",
            "29        60  '2020/12/29'    100       132     280.0\n",
            "30        60  '2020/12/30'    102       129     380.3\n",
            "31        60  '2020/12/31'     92       115     243.0\n"
          ],
          "name": "stdout"
        }
      ]
    },
    {
      "cell_type": "code",
      "metadata": {
        "colab": {
          "base_uri": "https://localhost:8080/"
        },
        "id": "6fgTGzJ6KvjY",
        "outputId": "a543e002-7931-487b-c708-2176ff31894a"
      },
      "source": [
        "#Data with Wrong Format.\n",
        "#Row number 22 and 26 are in wrong format in the Date column.\n",
        "\n",
        "#to_datetime(): Convert all cells in the 'Date' column into dates.\n",
        "\n",
        "df['Date'] = pd.to_datetime(df['Date'])\n",
        "\n",
        "print(df.to_string())\n"
      ],
      "execution_count": 5,
      "outputs": [
        {
          "output_type": "stream",
          "text": [
            "    Duration       Date  Pulse  Maxpulse  Calories\n",
            "0         60 2020-12-01    110       130     409.1\n",
            "1         60 2020-12-02    117       145     479.0\n",
            "2         60 2020-12-03    103       135     340.0\n",
            "3         45 2020-12-04    109       175     282.4\n",
            "4         45 2020-12-05    117       148     406.0\n",
            "5         60 2020-12-06    102       127     300.0\n",
            "6         60 2020-12-07    110       136     374.0\n",
            "7        450 2020-12-08    104       134     253.3\n",
            "8         30 2020-12-09    109       133     195.1\n",
            "9         60 2020-12-10     98       124     269.0\n",
            "10        60 2020-12-11    103       147     329.3\n",
            "11        60 2020-12-12    100       120     250.7\n",
            "12        60 2020-12-12    100       120     250.7\n",
            "13        60 2020-12-13    106       128     345.3\n",
            "14        60 2020-12-14    104       132     379.3\n",
            "15        60 2020-12-15     98       123     275.0\n",
            "16        60 2020-12-16     98       120     215.2\n",
            "17        60 2020-12-17    100       120     300.0\n",
            "18        45 2020-12-18     90       112       NaN\n",
            "19        60 2020-12-19    103       123     323.0\n",
            "20        45 2020-12-20     97       125     243.0\n",
            "21        60 2020-12-21    108       131     364.2\n",
            "22        45        NaT    100       119     282.0\n",
            "23        60 2020-12-23    130       101     300.0\n",
            "24        45 2020-12-24    105       132     246.0\n",
            "25        60 2020-12-25    102       126     334.5\n",
            "26        60 2020-12-26    100       120     250.0\n",
            "27        60 2020-12-27     92       118     241.0\n",
            "28        60 2020-12-28    103       132       NaN\n",
            "29        60 2020-12-29    100       132     280.0\n",
            "30        60 2020-12-30    102       129     380.3\n",
            "31        60 2020-12-31     92       115     243.0\n"
          ],
          "name": "stdout"
        }
      ]
    },
    {
      "cell_type": "code",
      "metadata": {
        "colab": {
          "base_uri": "https://localhost:8080/"
        },
        "id": "z90oEXvCMwmb",
        "outputId": "07e21199-af50-478f-9ec3-05e1386d6847"
      },
      "source": [
        "#Row number 22 is NaT = not a time and we need to remove this row.\n",
        "\n",
        "df.dropna(subset = ['Date'], inplace= True) \n",
        "\n",
        "print(df.to_string())"
      ],
      "execution_count": 6,
      "outputs": [
        {
          "output_type": "stream",
          "text": [
            "    Duration       Date  Pulse  Maxpulse  Calories\n",
            "0         60 2020-12-01    110       130     409.1\n",
            "1         60 2020-12-02    117       145     479.0\n",
            "2         60 2020-12-03    103       135     340.0\n",
            "3         45 2020-12-04    109       175     282.4\n",
            "4         45 2020-12-05    117       148     406.0\n",
            "5         60 2020-12-06    102       127     300.0\n",
            "6         60 2020-12-07    110       136     374.0\n",
            "7        450 2020-12-08    104       134     253.3\n",
            "8         30 2020-12-09    109       133     195.1\n",
            "9         60 2020-12-10     98       124     269.0\n",
            "10        60 2020-12-11    103       147     329.3\n",
            "11        60 2020-12-12    100       120     250.7\n",
            "12        60 2020-12-12    100       120     250.7\n",
            "13        60 2020-12-13    106       128     345.3\n",
            "14        60 2020-12-14    104       132     379.3\n",
            "15        60 2020-12-15     98       123     275.0\n",
            "16        60 2020-12-16     98       120     215.2\n",
            "17        60 2020-12-17    100       120     300.0\n",
            "18        45 2020-12-18     90       112       NaN\n",
            "19        60 2020-12-19    103       123     323.0\n",
            "20        45 2020-12-20     97       125     243.0\n",
            "21        60 2020-12-21    108       131     364.2\n",
            "23        60 2020-12-23    130       101     300.0\n",
            "24        45 2020-12-24    105       132     246.0\n",
            "25        60 2020-12-25    102       126     334.5\n",
            "26        60 2020-12-26    100       120     250.0\n",
            "27        60 2020-12-27     92       118     241.0\n",
            "28        60 2020-12-28    103       132       NaN\n",
            "29        60 2020-12-29    100       132     280.0\n",
            "30        60 2020-12-30    102       129     380.3\n",
            "31        60 2020-12-31     92       115     243.0\n"
          ],
          "name": "stdout"
        }
      ]
    },
    {
      "cell_type": "code",
      "metadata": {
        "colab": {
          "base_uri": "https://localhost:8080/"
        },
        "id": "clED3vfCOTh2",
        "outputId": "d9c7678a-fe82-4274-b18f-3460e80c7296"
      },
      "source": [
        "####___Cleaning The Wrong Data____####\n",
        "\n",
        "#If you take a look at our data set, you can see that in row 7, the duration is 450, but for all the other rows the duration is between 30 and 60.\n",
        "\n",
        "df.loc[7, 'Duration'] = 45\n",
        "print(df.to_string())"
      ],
      "execution_count": 8,
      "outputs": [
        {
          "output_type": "stream",
          "text": [
            "    Duration       Date  Pulse  Maxpulse  Calories\n",
            "0         60 2020-12-01    110       130     409.1\n",
            "1         60 2020-12-02    117       145     479.0\n",
            "2         60 2020-12-03    103       135     340.0\n",
            "3         45 2020-12-04    109       175     282.4\n",
            "4         45 2020-12-05    117       148     406.0\n",
            "5         60 2020-12-06    102       127     300.0\n",
            "6         60 2020-12-07    110       136     374.0\n",
            "7         45 2020-12-08    104       134     253.3\n",
            "8         30 2020-12-09    109       133     195.1\n",
            "9         60 2020-12-10     98       124     269.0\n",
            "10        60 2020-12-11    103       147     329.3\n",
            "11        60 2020-12-12    100       120     250.7\n",
            "12        60 2020-12-12    100       120     250.7\n",
            "13        60 2020-12-13    106       128     345.3\n",
            "14        60 2020-12-14    104       132     379.3\n",
            "15        60 2020-12-15     98       123     275.0\n",
            "16        60 2020-12-16     98       120     215.2\n",
            "17        60 2020-12-17    100       120     300.0\n",
            "18        45 2020-12-18     90       112       NaN\n",
            "19        60 2020-12-19    103       123     323.0\n",
            "20        45 2020-12-20     97       125     243.0\n",
            "21        60 2020-12-21    108       131     364.2\n",
            "23        60 2020-12-23    130       101     300.0\n",
            "24        45 2020-12-24    105       132     246.0\n",
            "25        60 2020-12-25    102       126     334.5\n",
            "26        60 2020-12-26    100       120     250.0\n",
            "27        60 2020-12-27     92       118     241.0\n",
            "28        60 2020-12-28    103       132       NaN\n",
            "29        60 2020-12-29    100       132     280.0\n",
            "30        60 2020-12-30    102       129     380.3\n",
            "31        60 2020-12-31     92       115     243.0\n"
          ],
          "name": "stdout"
        }
      ]
    },
    {
      "cell_type": "code",
      "metadata": {
        "id": "56S9-KW6PhpN"
      },
      "source": [
        "#For small data sets you might be able to replace the wrong data one by one, but not for big data sets.\n",
        "#Looping through all values in the \"Duration\" column.\n",
        "#If the value is higher than 120, set it to 120:\n",
        "\n",
        "for x in df.index:\n",
        "  if df.loc[x, 'Duration'] > 120:\n",
        "    df.loc[x, 'Duration'] = 120"
      ],
      "execution_count": 9,
      "outputs": []
    },
    {
      "cell_type": "code",
      "metadata": {
        "colab": {
          "base_uri": "https://localhost:8080/"
        },
        "id": "SUbEJf72P8-U",
        "outputId": "54408c7a-3516-47dc-fc29-753e9312cbf4"
      },
      "source": [
        "print(df.index)  #For getting all the indexes."
      ],
      "execution_count": 11,
      "outputs": [
        {
          "output_type": "stream",
          "text": [
            "Int64Index([ 0,  1,  2,  3,  4,  5,  6,  7,  8,  9, 10, 11, 12, 13, 14, 15, 16,\n",
            "            17, 18, 19, 20, 21, 23, 24, 25, 26, 27, 28, 29, 30, 31],\n",
            "           dtype='int64')\n"
          ],
          "name": "stdout"
        }
      ]
    },
    {
      "cell_type": "code",
      "metadata": {
        "id": "URqCHEE0QQ1d"
      },
      "source": [
        "#We can remove all the rows with wrong data.\n",
        "for x in df.index:\n",
        "  if df.loc[x, 'Duration'] > 120:\n",
        "    df.drop(x, inplace=True) "
      ],
      "execution_count": 12,
      "outputs": []
    },
    {
      "cell_type": "code",
      "metadata": {
        "colab": {
          "base_uri": "https://localhost:8080/"
        },
        "id": "1DWl64L-RO80",
        "outputId": "65ee48e7-a2fd-42ee-aa19-d811199565f2"
      },
      "source": [
        "####____Removing The Duplicates____###\n",
        "print(df.to_string())"
      ],
      "execution_count": 13,
      "outputs": [
        {
          "output_type": "stream",
          "text": [
            "    Duration       Date  Pulse  Maxpulse  Calories\n",
            "0         60 2020-12-01    110       130     409.1\n",
            "1         60 2020-12-02    117       145     479.0\n",
            "2         60 2020-12-03    103       135     340.0\n",
            "3         45 2020-12-04    109       175     282.4\n",
            "4         45 2020-12-05    117       148     406.0\n",
            "5         60 2020-12-06    102       127     300.0\n",
            "6         60 2020-12-07    110       136     374.0\n",
            "7         45 2020-12-08    104       134     253.3\n",
            "8         30 2020-12-09    109       133     195.1\n",
            "9         60 2020-12-10     98       124     269.0\n",
            "10        60 2020-12-11    103       147     329.3\n",
            "11        60 2020-12-12    100       120     250.7\n",
            "12        60 2020-12-12    100       120     250.7\n",
            "13        60 2020-12-13    106       128     345.3\n",
            "14        60 2020-12-14    104       132     379.3\n",
            "15        60 2020-12-15     98       123     275.0\n",
            "16        60 2020-12-16     98       120     215.2\n",
            "17        60 2020-12-17    100       120     300.0\n",
            "18        45 2020-12-18     90       112       NaN\n",
            "19        60 2020-12-19    103       123     323.0\n",
            "20        45 2020-12-20     97       125     243.0\n",
            "21        60 2020-12-21    108       131     364.2\n",
            "23        60 2020-12-23    130       101     300.0\n",
            "24        45 2020-12-24    105       132     246.0\n",
            "25        60 2020-12-25    102       126     334.5\n",
            "26        60 2020-12-26    100       120     250.0\n",
            "27        60 2020-12-27     92       118     241.0\n",
            "28        60 2020-12-28    103       132       NaN\n",
            "29        60 2020-12-29    100       132     280.0\n",
            "30        60 2020-12-30    102       129     380.3\n",
            "31        60 2020-12-31     92       115     243.0\n"
          ],
          "name": "stdout"
        }
      ]
    },
    {
      "cell_type": "code",
      "metadata": {
        "colab": {
          "base_uri": "https://localhost:8080/"
        },
        "id": "iEea9C8dRfYV",
        "outputId": "826dc5f6-8ac1-4579-d7dd-795bfca3797d"
      },
      "source": [
        "# row 11 and 12 are duplicates.\n",
        "#Finding the duplicates.\n",
        "#The duplicated() method returns a Boolean values for each row.\n",
        "\n",
        "print(df.duplicated())"
      ],
      "execution_count": 14,
      "outputs": [
        {
          "output_type": "stream",
          "text": [
            "0     False\n",
            "1     False\n",
            "2     False\n",
            "3     False\n",
            "4     False\n",
            "5     False\n",
            "6     False\n",
            "7     False\n",
            "8     False\n",
            "9     False\n",
            "10    False\n",
            "11    False\n",
            "12     True\n",
            "13    False\n",
            "14    False\n",
            "15    False\n",
            "16    False\n",
            "17    False\n",
            "18    False\n",
            "19    False\n",
            "20    False\n",
            "21    False\n",
            "23    False\n",
            "24    False\n",
            "25    False\n",
            "26    False\n",
            "27    False\n",
            "28    False\n",
            "29    False\n",
            "30    False\n",
            "31    False\n",
            "dtype: bool\n"
          ],
          "name": "stdout"
        }
      ]
    },
    {
      "cell_type": "code",
      "metadata": {
        "colab": {
          "base_uri": "https://localhost:8080/"
        },
        "id": "94Fas0D2R4Xt",
        "outputId": "c1807493-9d2a-4a2e-d285-8bb7b7cc3942"
      },
      "source": [
        "#drop_duplicates() method: Removes the duplicates.\n",
        "\n",
        "df.drop_duplicates(inplace=True)\n",
        "print(df.to_string())"
      ],
      "execution_count": 16,
      "outputs": [
        {
          "output_type": "stream",
          "text": [
            "    Duration       Date  Pulse  Maxpulse  Calories\n",
            "0         60 2020-12-01    110       130     409.1\n",
            "1         60 2020-12-02    117       145     479.0\n",
            "2         60 2020-12-03    103       135     340.0\n",
            "3         45 2020-12-04    109       175     282.4\n",
            "4         45 2020-12-05    117       148     406.0\n",
            "5         60 2020-12-06    102       127     300.0\n",
            "6         60 2020-12-07    110       136     374.0\n",
            "7         45 2020-12-08    104       134     253.3\n",
            "8         30 2020-12-09    109       133     195.1\n",
            "9         60 2020-12-10     98       124     269.0\n",
            "10        60 2020-12-11    103       147     329.3\n",
            "11        60 2020-12-12    100       120     250.7\n",
            "13        60 2020-12-13    106       128     345.3\n",
            "14        60 2020-12-14    104       132     379.3\n",
            "15        60 2020-12-15     98       123     275.0\n",
            "16        60 2020-12-16     98       120     215.2\n",
            "17        60 2020-12-17    100       120     300.0\n",
            "18        45 2020-12-18     90       112       NaN\n",
            "19        60 2020-12-19    103       123     323.0\n",
            "20        45 2020-12-20     97       125     243.0\n",
            "21        60 2020-12-21    108       131     364.2\n",
            "23        60 2020-12-23    130       101     300.0\n",
            "24        45 2020-12-24    105       132     246.0\n",
            "25        60 2020-12-25    102       126     334.5\n",
            "26        60 2020-12-26    100       120     250.0\n",
            "27        60 2020-12-27     92       118     241.0\n",
            "28        60 2020-12-28    103       132       NaN\n",
            "29        60 2020-12-29    100       132     280.0\n",
            "30        60 2020-12-30    102       129     380.3\n",
            "31        60 2020-12-31     92       115     243.0\n"
          ],
          "name": "stdout"
        }
      ]
    }
  ]
}