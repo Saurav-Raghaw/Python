{
  "nbformat": 4,
  "nbformat_minor": 0,
  "metadata": {
    "colab": {
      "name": "Pandas_3.ipynb",
      "provenance": [],
      "mount_file_id": "1wCU8ats-uCL1q_Dx7Bfo1ezAgvSDHapf",
      "authorship_tag": "ABX9TyN5Il1PSoBNMV8Kvf5owHnu",
      "include_colab_link": true
    },
    "kernelspec": {
      "name": "python3",
      "display_name": "Python 3"
    },
    "language_info": {
      "name": "python"
    }
  },
  "cells": [
    {
      "cell_type": "markdown",
      "metadata": {
        "id": "view-in-github",
        "colab_type": "text"
      },
      "source": [
        "<a href=\"https://colab.research.google.com/github/Saurav-Raghaw/Python/blob/main/Pandas_3.ipynb\" target=\"_parent\"><img src=\"https://colab.research.google.com/assets/colab-badge.svg\" alt=\"Open In Colab\"/></a>"
      ]
    },
    {
      "cell_type": "code",
      "metadata": {
        "id": "nc9zC9MzUPKk"
      },
      "source": [
        "####_____Data Correlation____####\n",
        "\n",
        "#The corr() method calculates the relationship between each column in your data set.\n",
        "\n",
        "import pandas as pd"
      ],
      "execution_count": 1,
      "outputs": []
    },
    {
      "cell_type": "code",
      "metadata": {
        "colab": {
          "base_uri": "https://localhost:8080/"
        },
        "id": "oR7qLkfNYtQt",
        "outputId": "a7b901a4-aff7-45cd-ae18-8f282109e4eb"
      },
      "source": [
        "df = pd.read_csv('/content/drive/MyDrive/data.csv')\n",
        "print(df.to_string())"
      ],
      "execution_count": 2,
      "outputs": [
        {
          "output_type": "stream",
          "text": [
            "     Duration  Pulse  Maxpulse  Calories\n",
            "0          60    110       130     409.1\n",
            "1          60    117       145     479.0\n",
            "2          60    103       135     340.0\n",
            "3          45    109       175     282.4\n",
            "4          45    117       148     406.0\n",
            "5          60    102       127     300.0\n",
            "6          60    110       136     374.0\n",
            "7          45    104       134     253.3\n",
            "8          30    109       133     195.1\n",
            "9          60     98       124     269.0\n",
            "10         60    103       147     329.3\n",
            "11         60    100       120     250.7\n",
            "12         60    106       128     345.3\n",
            "13         60    104       132     379.3\n",
            "14         60     98       123     275.0\n",
            "15         60     98       120     215.2\n",
            "16         60    100       120     300.0\n",
            "17         45     90       112       NaN\n",
            "18         60    103       123     323.0\n",
            "19         45     97       125     243.0\n",
            "20         60    108       131     364.2\n",
            "21         45    100       119     282.0\n",
            "22         60    130       101     300.0\n",
            "23         45    105       132     246.0\n",
            "24         60    102       126     334.5\n",
            "25         60    100       120     250.0\n",
            "26         60     92       118     241.0\n",
            "27         60    103       132       NaN\n",
            "28         60    100       132     280.0\n",
            "29         60    102       129     380.3\n",
            "30         60     92       115     243.0\n",
            "31         45     90       112     180.1\n",
            "32         60    101       124     299.0\n",
            "33         60     93       113     223.0\n",
            "34         60    107       136     361.0\n",
            "35         60    114       140     415.0\n",
            "36         60    102       127     300.0\n",
            "37         60    100       120     300.0\n",
            "38         60    100       120     300.0\n",
            "39         45    104       129     266.0\n",
            "40         45     90       112     180.1\n",
            "41         60     98       126     286.0\n",
            "42         60    100       122     329.4\n",
            "43         60    111       138     400.0\n",
            "44         60    111       131     397.0\n",
            "45         60     99       119     273.0\n",
            "46         60    109       153     387.6\n",
            "47         45    111       136     300.0\n",
            "48         45    108       129     298.0\n",
            "49         60    111       139     397.6\n",
            "50         60    107       136     380.2\n",
            "51         80    123       146     643.1\n",
            "52         60    106       130     263.0\n",
            "53         60    118       151     486.0\n",
            "54         30    136       175     238.0\n",
            "55         60    121       146     450.7\n",
            "56         60    118       121     413.0\n",
            "57         45    115       144     305.0\n",
            "58         20    153       172     226.4\n",
            "59         45    123       152     321.0\n",
            "60        210    108       160    1376.0\n",
            "61        160    110       137    1034.4\n",
            "62        160    109       135     853.0\n",
            "63         45    118       141     341.0\n",
            "64         20    110       130     131.4\n",
            "65        180     90       130     800.4\n",
            "66        150    105       135     873.4\n",
            "67        150    107       130     816.0\n",
            "68         20    106       136     110.4\n",
            "69        300    108       143    1500.2\n",
            "70        150     97       129    1115.0\n",
            "71         60    109       153     387.6\n",
            "72         90    100       127     700.0\n",
            "73        150     97       127     953.2\n",
            "74         45    114       146     304.0\n",
            "75         90     98       125     563.2\n",
            "76         45    105       134     251.0\n",
            "77         45    110       141     300.0\n",
            "78        120    100       130     500.4\n",
            "79        270    100       131    1729.0\n",
            "80         30    159       182     319.2\n",
            "81         45    149       169     344.0\n",
            "82         30    103       139     151.1\n",
            "83        120    100       130     500.0\n",
            "84         45    100       120     225.3\n",
            "85         30    151       170     300.0\n",
            "86         45    102       136     234.0\n",
            "87        120    100       157    1000.1\n",
            "88         45    129       103     242.0\n",
            "89         20     83       107      50.3\n",
            "90        180    101       127     600.1\n",
            "91         45    107       137       NaN\n",
            "92         30     90       107     105.3\n",
            "93         15     80       100      50.5\n",
            "94         20    150       171     127.4\n",
            "95         20    151       168     229.4\n",
            "96         30     95       128     128.2\n",
            "97         25    152       168     244.2\n",
            "98         30    109       131     188.2\n",
            "99         90     93       124     604.1\n",
            "100        20     95       112      77.7\n",
            "101        90     90       110     500.0\n",
            "102        90     90       100     500.0\n",
            "103        90     90       100     500.4\n",
            "104        30     92       108      92.7\n",
            "105        30     93       128     124.0\n",
            "106       180     90       120     800.3\n",
            "107        30     90       120      86.2\n",
            "108        90     90       120     500.3\n",
            "109       210    137       184    1860.4\n",
            "110        60    102       124     325.2\n",
            "111        45    107       124     275.0\n",
            "112        15    124       139     124.2\n",
            "113        45    100       120     225.3\n",
            "114        60    108       131     367.6\n",
            "115        60    108       151     351.7\n",
            "116        60    116       141     443.0\n",
            "117        60     97       122     277.4\n",
            "118        60    105       125       NaN\n",
            "119        60    103       124     332.7\n",
            "120        30    112       137     193.9\n",
            "121        45    100       120     100.7\n",
            "122        60    119       169     336.7\n",
            "123        60    107       127     344.9\n",
            "124        60    111       151     368.5\n",
            "125        60     98       122     271.0\n",
            "126        60     97       124     275.3\n",
            "127        60    109       127     382.0\n",
            "128        90     99       125     466.4\n",
            "129        60    114       151     384.0\n",
            "130        60    104       134     342.5\n",
            "131        60    107       138     357.5\n",
            "132        60    103       133     335.0\n",
            "133        60    106       132     327.5\n",
            "134        60    103       136     339.0\n",
            "135        20    136       156     189.0\n",
            "136        45    117       143     317.7\n",
            "137        45    115       137     318.0\n",
            "138        45    113       138     308.0\n",
            "139        20    141       162     222.4\n",
            "140        60    108       135     390.0\n",
            "141        60     97       127       NaN\n",
            "142        45    100       120     250.4\n",
            "143        45    122       149     335.4\n",
            "144        60    136       170     470.2\n",
            "145        45    106       126     270.8\n",
            "146        60    107       136     400.0\n",
            "147        60    112       146     361.9\n",
            "148        30    103       127     185.0\n",
            "149        60    110       150     409.4\n",
            "150        60    106       134     343.0\n",
            "151        60    109       129     353.2\n",
            "152        60    109       138     374.0\n",
            "153        30    150       167     275.8\n",
            "154        60    105       128     328.0\n",
            "155        60    111       151     368.5\n",
            "156        60     97       131     270.4\n",
            "157        60    100       120     270.4\n",
            "158        60    114       150     382.8\n",
            "159        30     80       120     240.9\n",
            "160        30     85       120     250.4\n",
            "161        45     90       130     260.4\n",
            "162        45     95       130     270.0\n",
            "163        45    100       140     280.9\n",
            "164        60    105       140     290.8\n",
            "165        60    110       145     300.0\n",
            "166        60    115       145     310.2\n",
            "167        75    120       150     320.4\n",
            "168        75    125       150     330.4\n"
          ],
          "name": "stdout"
        }
      ]
    },
    {
      "cell_type": "code",
      "metadata": {
        "colab": {
          "base_uri": "https://localhost:8080/",
          "height": 173
        },
        "id": "dX52ZbOmY704",
        "outputId": "79ba3c51-09ab-4d2a-bd5c-64be289685bf"
      },
      "source": [
        "df.corr()\n",
        "#The corr() method ignores \"not numeric\" columns."
      ],
      "execution_count": 3,
      "outputs": [
        {
          "output_type": "execute_result",
          "data": {
            "text/html": [
              "<div>\n",
              "<style scoped>\n",
              "    .dataframe tbody tr th:only-of-type {\n",
              "        vertical-align: middle;\n",
              "    }\n",
              "\n",
              "    .dataframe tbody tr th {\n",
              "        vertical-align: top;\n",
              "    }\n",
              "\n",
              "    .dataframe thead th {\n",
              "        text-align: right;\n",
              "    }\n",
              "</style>\n",
              "<table border=\"1\" class=\"dataframe\">\n",
              "  <thead>\n",
              "    <tr style=\"text-align: right;\">\n",
              "      <th></th>\n",
              "      <th>Duration</th>\n",
              "      <th>Pulse</th>\n",
              "      <th>Maxpulse</th>\n",
              "      <th>Calories</th>\n",
              "    </tr>\n",
              "  </thead>\n",
              "  <tbody>\n",
              "    <tr>\n",
              "      <th>Duration</th>\n",
              "      <td>1.000000</td>\n",
              "      <td>-0.155408</td>\n",
              "      <td>0.009403</td>\n",
              "      <td>0.922717</td>\n",
              "    </tr>\n",
              "    <tr>\n",
              "      <th>Pulse</th>\n",
              "      <td>-0.155408</td>\n",
              "      <td>1.000000</td>\n",
              "      <td>0.786535</td>\n",
              "      <td>0.025121</td>\n",
              "    </tr>\n",
              "    <tr>\n",
              "      <th>Maxpulse</th>\n",
              "      <td>0.009403</td>\n",
              "      <td>0.786535</td>\n",
              "      <td>1.000000</td>\n",
              "      <td>0.203813</td>\n",
              "    </tr>\n",
              "    <tr>\n",
              "      <th>Calories</th>\n",
              "      <td>0.922717</td>\n",
              "      <td>0.025121</td>\n",
              "      <td>0.203813</td>\n",
              "      <td>1.000000</td>\n",
              "    </tr>\n",
              "  </tbody>\n",
              "</table>\n",
              "</div>"
            ],
            "text/plain": [
              "          Duration     Pulse  Maxpulse  Calories\n",
              "Duration  1.000000 -0.155408  0.009403  0.922717\n",
              "Pulse    -0.155408  1.000000  0.786535  0.025121\n",
              "Maxpulse  0.009403  0.786535  1.000000  0.203813\n",
              "Calories  0.922717  0.025121  0.203813  1.000000"
            ]
          },
          "metadata": {
            "tags": []
          },
          "execution_count": 3
        }
      ]
    },
    {
      "cell_type": "code",
      "metadata": {
        "id": "opG0kiPCZyw_"
      },
      "source": [
        "'''\n",
        "The Result of the corr() method is a table with a lot of numbers that represents how well the relationship is between two columns.\n",
        "\n",
        "The number varies from -1 to 1.\n",
        "\n",
        "1 means that there is a 1 to 1 relationship (a perfect correlation), and for this data set, each time a value went up in the first column, the other one went up as well.\n",
        "\n",
        "0.9 is also a good relationship, and if you increase one value, the other will probably increase as well.\n",
        "\n",
        "-0.9 would be just as good relationship as 0.9, but if you increase one value, the other will probably go down.\n",
        "\n",
        "0.2 means NOT a good relationship, meaning that if one value goes up does not mean that the other will.\n",
        "\n",
        "'''"
      ],
      "execution_count": null,
      "outputs": []
    },
    {
      "cell_type": "code",
      "metadata": {
        "colab": {
          "base_uri": "https://localhost:8080/",
          "height": 265
        },
        "id": "1Fqh6O9wa-wf",
        "outputId": "37e93b06-3ae0-4a67-c6f0-4d5c31c6e79f"
      },
      "source": [
        "#Plotting The Dataset.\n",
        "#Pandas uses the plot() method to create diagrams.\n",
        "\n",
        "#Python uses Pyplot, a submodule of the Matplotlib library to visualize the diagram on the screen.\n",
        "import matplotlib.pyplot as plt\n",
        "\n",
        "df.plot()\n",
        "plt.show()"
      ],
      "execution_count": 5,
      "outputs": [
        {
          "output_type": "display_data",
          "data": {
            "image/png": "[encoded data removed]",
            "text/plain": [
              "<Figure size 432x288 with 1 Axes>"
            ]
          },
          "metadata": {
            "tags": [],
            "needs_background": "light"
          }
        }
      ]
    },
    {
      "cell_type": "code",
      "metadata": {
        "colab": {
          "base_uri": "https://localhost:8080/",
          "height": 279
        },
        "id": "qxLEClFcb_Nx",
        "outputId": "223ef93e-0a70-45b1-c7ef-fc2448bc425d"
      },
      "source": [
        "#Scatter Plot\n",
        "\n",
        "'''\n",
        "Need to Specify \n",
        "kind = 'scatter' in the plot() method.\n",
        "\n",
        "A scatter plot needs an x- and a y-axis need to set in plot() method.\n",
        "\n",
        "'''\n",
        "\n",
        "df.plot(kind = 'scatter', x = 'Duration', y = 'Calories')\n",
        "plt.show()"
      ],
      "execution_count": 6,
      "outputs": [
        {
          "output_type": "display_data",
          "data": {
            "image/png": "[encoded data removed]",
            "text/plain": [
              "<Figure size 432x288 with 1 Axes>"
            ]
          },
          "metadata": {
            "tags": [],
            "needs_background": "light"
          }
        }
      ]
    },
    {
      "cell_type": "code",
      "metadata": {
        "colab": {
          "base_uri": "https://localhost:8080/",
          "height": 279
        },
        "id": "noyQtb5yc4CD",
        "outputId": "0fe40af6-0750-4efb-c4b0-55b03bff44c8"
      },
      "source": [
        "df.plot(kind = 'scatter', x = 'Duration', y = 'Maxpulse')\n",
        "plt.show()"
      ],
      "execution_count": 7,
      "outputs": [
        {
          "output_type": "display_data",
          "data": {
            "image/png": "[encoded data removed]",
            "text/plain": [
              "<Figure size 432x288 with 1 Axes>"
            ]
          },
          "metadata": {
            "tags": [],
            "needs_background": "light"
          }
        }
      ]
    },
    {
      "cell_type": "code",
      "metadata": {
        "colab": {
          "base_uri": "https://localhost:8080/",
          "height": 265
        },
        "id": "kCzSs4T5dSlH",
        "outputId": "d12b79b3-94d4-4588-dde0-eea069f4b344"
      },
      "source": [
        "#Histogram\n",
        "\n",
        "'''\n",
        "kind = 'hist'\n",
        "\n",
        "A histogram needs only one column.\n",
        "A histogram shows us the frequency of each interval, e.g. how many workouts lasted between 50 and 60 minutes?\n",
        "The histogram tells us that there were over 100 workouts that lasted between 50 and 60 minutes.\n",
        "\n",
        "'''\n",
        "\n",
        "df['Duration'].plot(kind = 'hist')\n",
        "plt.show()"
      ],
      "execution_count": 8,
      "outputs": [
        {
          "output_type": "display_data",
          "data": {
            "image/png": "[encoded data removed]",
            "text/plain": [
              "<Figure size 432x288 with 1 Axes>"
            ]
          },
          "metadata": {
            "tags": [],
            "needs_background": "light"
          }
        }
      ]
    }
  ]
}