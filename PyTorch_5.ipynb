{
  "nbformat": 4,
  "nbformat_minor": 0,
  "metadata": {
    "colab": {
      "name": "PyTorch_5.ipynb",
      "provenance": [],
      "authorship_tag": "ABX9TyOK5gO9MntyDtMM5mmhTD+1",
      "include_colab_link": true
    },
    "kernelspec": {
      "name": "python3",
      "display_name": "Python 3"
    },
    "language_info": {
      "name": "python"
    }
  },
  "cells": [
    {
      "cell_type": "markdown",
      "metadata": {
        "id": "view-in-github",
        "colab_type": "text"
      },
      "source": [
        "<a href=\"https://colab.research.google.com/github/Saurav-Raghaw/Python/blob/main/PyTorch_5.ipynb\" target=\"_parent\"><img src=\"https://colab.research.google.com/assets/colab-badge.svg\" alt=\"Open In Colab\"/></a>"
      ]
    },
    {
      "cell_type": "code",
      "metadata": {
        "id": "rJTBbNRbNqFJ"
      },
      "source": [
        "#######________Image Classification(MNSIT) and Logistic Regression______########"
      ],
      "execution_count": null,
      "outputs": []
    },
    {
      "cell_type": "code",
      "metadata": {
        "id": "VIHzbc0IPkAT"
      },
      "source": [
        "# Importing Libraries\n",
        "import torch\n",
        "import torchvision\n",
        "from torchvision.datasets import MNIST\n",
        "\n",
        "#torchvision contains some utilities for working with image data. \n",
        "#It also provides helper classes to download and import popular datasets like MNIST automatically."
      ],
      "execution_count": 1,
      "outputs": []
    },
    {
      "cell_type": "code",
      "metadata": {
        "id": "9ZvgyqlNQMyo"
      },
      "source": [
        "# Downloading the MNSIT training dataset.\n",
        "dataset = MNIST(root='data/', download=True)"
      ],
      "execution_count": 4,
      "outputs": []
    },
    {
      "cell_type": "code",
      "metadata": {
        "colab": {
          "base_uri": "https://localhost:8080/"
        },
        "id": "9G1sGoPzRjTU",
        "outputId": "49b21c05-1dd2-4276-bd3e-bc5a5dc1d9f5"
      },
      "source": [
        "len(dataset)"
      ],
      "execution_count": 3,
      "outputs": [
        {
          "output_type": "execute_result",
          "data": {
            "text/plain": [
              "60000"
            ]
          },
          "metadata": {
            "tags": []
          },
          "execution_count": 3
        }
      ]
    },
    {
      "cell_type": "code",
      "metadata": {
        "colab": {
          "base_uri": "https://localhost:8080/"
        },
        "id": "sVeRPCUFR6hr",
        "outputId": "b656b117-fcd4-4ab8-9a67-068542c88f62"
      },
      "source": [
        "#There is also an additional test set of 10,000 images used for evaluating models and reporting metrics in papers and reports. \n",
        "#We can create the test dataset using the MNIST class by passing train=False to the constructor.\n",
        "\n",
        "test_dataset = MNIST(root='data/', train=False)\n",
        "len(test_dataset)"
      ],
      "execution_count": 5,
      "outputs": [
        {
          "output_type": "execute_result",
          "data": {
            "text/plain": [
              "10000"
            ]
          },
          "metadata": {
            "tags": []
          },
          "execution_count": 5
        }
      ]
    },
    {
      "cell_type": "code",
      "metadata": {
        "colab": {
          "base_uri": "https://localhost:8080/"
        },
        "id": "Hm6RG_PBTEsh",
        "outputId": "3de4293f-97cc-4e3a-a72f-eaae7d404d30"
      },
      "source": [
        "dataset[0]\n",
        "\n",
        "#It's a pair, consisting of a 28x28px image and a label. \n",
        "#The image is an object of the class PIL.Image.Image, which is a part of the Python imaging library Pillow. \n",
        "#We can view the image within Jupyter using matplotlib, the de-facto plotting and graphing library for data science in Python."
      ],
      "execution_count": 7,
      "outputs": [
        {
          "output_type": "execute_result",
          "data": {
            "text/plain": [
              "(<PIL.Image.Image image mode=L size=28x28 at 0x7F4C75A09C50>, 5)"
            ]
          },
          "metadata": {
            "tags": []
          },
          "execution_count": 7
        }
      ]
    },
    {
      "cell_type": "code",
      "metadata": {
        "id": "2SgMfm-WVrZ7"
      },
      "source": [
        "import matplotlib.pyplot as plt\n",
        "# %matplotlib inline\n",
        "\n",
        "#The statement %matplotlib inline indicates to Jupyter that we want to plot the graphs within the notebook. \n",
        "#Without this line, Jupyter will show the image in a popup. \n",
        "#Statements starting with % are called magic commands and are used to configure the behavior of Jupyter itself."
      ],
      "execution_count": 9,
      "outputs": []
    },
    {
      "cell_type": "code",
      "metadata": {
        "colab": {
          "base_uri": "https://localhost:8080/",
          "height": 282
        },
        "id": "Ix6keTgHWgW6",
        "outputId": "fc3a1ffc-9725-4ec6-acfc-21760c9df84e"
      },
      "source": [
        "image, label = dataset[0]\n",
        "plt.imshow(image, cmap='gray')\n",
        "print('Label:', label)"
      ],
      "execution_count": 10,
      "outputs": [
        {
          "output_type": "stream",
          "text": [
            "Label: 5\n"
          ],
          "name": "stdout"
        },
        {
          "output_type": "display_data",
          "data": {
            "image/png": "[encoded data removed]",
            "text/plain": [
              "<Figure size 432x288 with 1 Axes>"
            ]
          },
          "metadata": {
            "tags": [],
            "needs_background": "light"
          }
        }
      ]
    },
    {
      "cell_type": "code",
      "metadata": {
        "colab": {
          "base_uri": "https://localhost:8080/",
          "height": 282
        },
        "id": "T-xArAEVW6Wb",
        "outputId": "f62435c0-d6a3-4776-b27e-bc486b8a8666"
      },
      "source": [
        "image, label = dataset[10]\n",
        "plt.imshow(image, cmap='gray')\n",
        "print('Label:', label)"
      ],
      "execution_count": 13,
      "outputs": [
        {
          "output_type": "stream",
          "text": [
            "Label: 3\n"
          ],
          "name": "stdout"
        },
        {
          "output_type": "display_data",
          "data": {
            "image/png": "[encoded data removed]",
            "text/plain": [
              "<Figure size 432x288 with 1 Axes>"
            ]
          },
          "metadata": {
            "tags": [],
            "needs_background": "light"
          }
        }
      ]
    },
    {
      "cell_type": "code",
      "metadata": {
        "id": "7GqHA0ABXokL"
      },
      "source": [
        "#PyTorch doesn't know how to work with images. We need to convert the images into tensors. \n",
        "#We can do this by specifying a transform while creating our dataset.\n",
        "\n",
        "import torchvision.transforms as transforms\n",
        "\n",
        "#PyTorch datasets allow us to specify one or more transformation functions that are applied to the images as they are loaded. \n",
        "#The torchvision.transforms module contains many such predefined functions. \n",
        "#We'll use the ToTensor transform to convert images into PyTorch tensors."
      ],
      "execution_count": 15,
      "outputs": []
    },
    {
      "cell_type": "code",
      "metadata": {
        "id": "YELnnftoY8Tr"
      },
      "source": [
        "# MNIST dataset (images and labels)\n",
        "dataset = MNIST(root='data/', \n",
        "                train=True,\n",
        "                transform=transforms.ToTensor())"
      ],
      "execution_count": 16,
      "outputs": []
    },
    {
      "cell_type": "code",
      "metadata": {
        "colab": {
          "base_uri": "https://localhost:8080/"
        },
        "id": "VMgZ0mRJZAzQ",
        "outputId": "78259246-60a6-44c3-e076-929a923871dc"
      },
      "source": [
        "img_tensor, label = dataset[0]\n",
        "print(img_tensor.shape, label)\n",
        "\n",
        "#The first dimension tracks color channels. The second and third dimensions represent pixels along the height and width of the image, respectively. \n",
        "#Since images in the MNIST dataset are grayscale, there's just one channel."
      ],
      "execution_count": 17,
      "outputs": [
        {
          "output_type": "stream",
          "text": [
            "torch.Size([1, 28, 28]) 5\n"
          ],
          "name": "stdout"
        }
      ]
    },
    {
      "cell_type": "code",
      "metadata": {
        "colab": {
          "base_uri": "https://localhost:8080/"
        },
        "id": "1ChRV-FjZpRJ",
        "outputId": "956aa377-2a07-4939-cea3-e418ceb6b628"
      },
      "source": [
        "#Looking inside the tensor.\n",
        "\n",
        "print(img_tensor[0,10:15,10:15])\n",
        "print(torch.max(img_tensor), torch.min(img_tensor))"
      ],
      "execution_count": 18,
      "outputs": [
        {
          "output_type": "stream",
          "text": [
            "tensor([[0.0039, 0.6039, 0.9922, 0.3529, 0.0000],\n",
            "        [0.0000, 0.5451, 0.9922, 0.7451, 0.0078],\n",
            "        [0.0000, 0.0431, 0.7451, 0.9922, 0.2745],\n",
            "        [0.0000, 0.0000, 0.1373, 0.9451, 0.8824],\n",
            "        [0.0000, 0.0000, 0.0000, 0.3176, 0.9412]])\n",
            "tensor(1.) tensor(0.)\n"
          ],
          "name": "stdout"
        }
      ]
    },
    {
      "cell_type": "markdown",
      "metadata": {
        "id": "3zSTd5JCZxu4"
      },
      "source": [
        "The values range from 0 to 1, with 0 representing black, 1 white, and the values in between different shades of grey. We can also plot the tensor as an image using plt.imshow."
      ]
    },
    {
      "cell_type": "code",
      "metadata": {
        "colab": {
          "base_uri": "https://localhost:8080/",
          "height": 265
        },
        "id": "yqAoPgVEZ0rB",
        "outputId": "77bab7b8-dbc6-4a12-f9b6-8ed77c293803"
      },
      "source": [
        "# Plot the image by passing in the 28x28 matrix\n",
        "plt.imshow(img_tensor[0,10:15,10:15], cmap='gray');"
      ],
      "execution_count": 19,
      "outputs": [
        {
          "output_type": "display_data",
          "data": {
            "image/png": "[encoded data removed]",
            "text/plain": [
              "<Figure size 432x288 with 1 Axes>"
            ]
          },
          "metadata": {
            "tags": [],
            "needs_background": "light"
          }
        }
      ]
    },
    {
      "cell_type": "markdown",
      "metadata": {
        "id": "9Lwg8fE8aJtI"
      },
      "source": [
        "Note that we need to pass just the 28x28 matrix to plt.imshow, without a channel dimension. We also pass a color map (cmap=gray) to indicate that we want to see a grayscale image."
      ]
    },
    {
      "cell_type": "markdown",
      "metadata": {
        "id": "CsrMtR5HhaJQ"
      },
      "source": [
        "#Training set, Validation set and Test set\n",
        "\n",
        "\n",
        "1.  Training set - used to train the model, i.e., compute the loss and adjust the model's weights using gradient descent.\n",
        "\n",
        "2.  Validation set - used to evaluate the model during training, adjust hyperparameters (learning rate, etc.), and pick the best version of the model.\n",
        "\n",
        "3.  Test set - used to compare different models or approaches and report the model's final accuracy.\n",
        "\n",
        "Since there's no predefined validation set, we must manually split the 60,000 images into training and validation datasets. Let's set aside 10,000 randomly chosen images for validation. We can do this using the random_spilt method from PyTorch."
      ]
    },
    {
      "cell_type": "code",
      "metadata": {
        "colab": {
          "base_uri": "https://localhost:8080/"
        },
        "id": "o25wi2iTaOMz",
        "outputId": "ec2d695c-8726-492f-aaf9-f5511fc0bf46"
      },
      "source": [
        "from torch.utils.data import random_split\n",
        "\n",
        "train_ds, val_ds = random_split(dataset, [50000, 10000])\n",
        "len(train_ds), len(val_ds)"
      ],
      "execution_count": 20,
      "outputs": [
        {
          "output_type": "execute_result",
          "data": {
            "text/plain": [
              "(50000, 10000)"
            ]
          },
          "metadata": {
            "tags": []
          },
          "execution_count": 20
        }
      ]
    },
    {
      "cell_type": "markdown",
      "metadata": {
        "id": "9GFaiwxXjAQ7"
      },
      "source": [
        "Training data is often sorted by the target labels, i.e., images of 0s, followed by 1s, followed by 2s, etc. If we create a validation set using the last 20% of images, it would only consist of 8s and 9s. In contrast, the training set would contain no 8s or 9s. Such a training-validation would make it impossible to train a useful model."
      ]
    },
    {
      "cell_type": "code",
      "metadata": {
        "id": "1ynepzwSjF7p"
      },
      "source": [
        "#Creating data loaders to help us load the data in batches.\n",
        "from torch.utils.data import DataLoader\n",
        "\n",
        "batch_size = 128\n",
        "\n",
        "train_loader = DataLoader(train_ds, batch_size, shuffle=True)\n",
        "val_loader = DataLoader(val_ds, batch_size)\n",
        "\n",
        "#shuffle=True for the training data loader to ensure that the batches generated in each epoch are different. \n",
        "#This randomization helps generalize & speed up the training process. \n",
        "#On the other hand, since the validation data loader is used only for evaluating the model, there is no need to shuffle the images."
      ],
      "execution_count": 22,
      "outputs": []
    },
    {
      "cell_type": "markdown",
      "metadata": {
        "id": "1Za0FWaDl8r8"
      },
      "source": [
        "#Model\n",
        "*  A logistic regression model is almost identical to a linear regression model. It contains weights and bias matrices, and the output is obtained using simple matrix operations (pred = x @ w.t() + b).\n",
        "\n",
        "*  Since nn.Linear expects each training example to be a vector, each 1x28x28 image tensor is flattened into a vector of size 784 (28*28) before being passed into the model.\n",
        "\n",
        "*  The output for each image is a vector of size 10, with each element signifying the probability of a particular target label (i.e., 0 to 9). The predicted label for an image is simply the one with the highest probability."
      ]
    },
    {
      "cell_type": "code",
      "metadata": {
        "id": "QyXJ-jAemiWE"
      },
      "source": [
        "import torch.nn as nn\n",
        "\n",
        "input_size = 28*28\n",
        "num_classes = 10\n",
        "\n",
        "# Logistic regression model\n",
        "model = nn.Linear(input_size, num_classes)"
      ],
      "execution_count": 23,
      "outputs": []
    },
    {
      "cell_type": "code",
      "metadata": {
        "colab": {
          "base_uri": "https://localhost:8080/"
        },
        "id": "oVBGOAimmuwl",
        "outputId": "d690e1ef-31e5-47c9-c6a3-603598d56f18"
      },
      "source": [
        "print(model.weight.shape)\n",
        "model.weight"
      ],
      "execution_count": 24,
      "outputs": [
        {
          "output_type": "stream",
          "text": [
            "torch.Size([10, 784])\n"
          ],
          "name": "stdout"
        },
        {
          "output_type": "execute_result",
          "data": {
            "text/plain": [
              "Parameter containing:\n",
              "tensor([[-0.0267,  0.0182,  0.0355,  ..., -0.0320, -0.0032,  0.0147],\n",
              "        [ 0.0137, -0.0196, -0.0185,  ..., -0.0027,  0.0199,  0.0338],\n",
              "        [ 0.0189, -0.0008,  0.0075,  ..., -0.0250,  0.0167,  0.0131],\n",
              "        ...,\n",
              "        [-0.0161,  0.0055, -0.0017,  ..., -0.0052,  0.0218, -0.0051],\n",
              "        [-0.0179, -0.0140, -0.0226,  ..., -0.0017,  0.0145, -0.0352],\n",
              "        [ 0.0289, -0.0065, -0.0011,  ..., -0.0216,  0.0266, -0.0189]],\n",
              "       requires_grad=True)"
            ]
          },
          "metadata": {
            "tags": []
          },
          "execution_count": 24
        }
      ]
    },
    {
      "cell_type": "code",
      "metadata": {
        "colab": {
          "base_uri": "https://localhost:8080/"
        },
        "id": "vIYPvZeSmyDF",
        "outputId": "6d9b73af-7f66-4190-b823-cfde8e32ea61"
      },
      "source": [
        "print(model.bias.shape)\n",
        "model.bias"
      ],
      "execution_count": 25,
      "outputs": [
        {
          "output_type": "stream",
          "text": [
            "torch.Size([10])\n"
          ],
          "name": "stdout"
        },
        {
          "output_type": "execute_result",
          "data": {
            "text/plain": [
              "Parameter containing:\n",
              "tensor([ 0.0164,  0.0041,  0.0292, -0.0020, -0.0040, -0.0238,  0.0102, -0.0311,\n",
              "        -0.0320,  0.0264], requires_grad=True)"
            ]
          },
          "metadata": {
            "tags": []
          },
          "execution_count": 25
        }
      ]
    },
    {
      "cell_type": "code",
      "metadata": {
        "colab": {
          "base_uri": "https://localhost:8080/",
          "height": 493
        },
        "id": "59wERHsOyaqm",
        "outputId": "2b386b92-7e36-4bc7-f035-aceceeb26b1d"
      },
      "source": [
        "for images, labels in train_loader:\n",
        "    print(labels)\n",
        "    print(images.shape)\n",
        "    outputs = model(images)\n",
        "    print(outputs)\n",
        "    break"
      ],
      "execution_count": 26,
      "outputs": [
        {
          "output_type": "stream",
          "text": [
            "tensor([5, 7, 8, 3, 5, 4, 0, 1, 4, 1, 1, 8, 6, 9, 7, 8, 5, 5, 2, 0, 3, 1, 3, 4,\n",
            "        1, 1, 6, 5, 8, 0, 9, 1, 9, 1, 2, 8, 3, 3, 9, 6, 9, 6, 7, 9, 7, 8, 8, 1,\n",
            "        6, 2, 2, 6, 1, 0, 0, 0, 4, 9, 1, 0, 4, 4, 0, 4, 8, 5, 2, 5, 4, 3, 5, 0,\n",
            "        9, 3, 9, 2, 2, 8, 3, 8, 8, 0, 2, 7, 9, 0, 8, 0, 5, 4, 7, 6, 9, 3, 6, 8,\n",
            "        0, 0, 0, 9, 5, 2, 4, 8, 3, 2, 7, 5, 3, 3, 8, 5, 9, 0, 6, 5, 4, 9, 5, 1,\n",
            "        7, 7, 9, 1, 1, 6, 7, 0])\n",
            "torch.Size([128, 1, 28, 28])\n"
          ],
          "name": "stdout"
        },
        {
          "output_type": "error",
          "ename": "RuntimeError",
          "evalue": "ignored",
          "traceback": [
            "\u001b[0;31m---------------------------------------------------------------------------\u001b[0m",
            "\u001b[0;31mRuntimeError\u001b[0m                              Traceback (most recent call last)",
            "\u001b[0;32m<ipython-input-26-d0fe7d306f83>\u001b[0m in \u001b[0;36m<module>\u001b[0;34m()\u001b[0m\n\u001b[1;32m      2\u001b[0m     \u001b[0mprint\u001b[0m\u001b[0;34m(\u001b[0m\u001b[0mlabels\u001b[0m\u001b[0;34m)\u001b[0m\u001b[0;34m\u001b[0m\u001b[0;34m\u001b[0m\u001b[0m\n\u001b[1;32m      3\u001b[0m     \u001b[0mprint\u001b[0m\u001b[0;34m(\u001b[0m\u001b[0mimages\u001b[0m\u001b[0;34m.\u001b[0m\u001b[0mshape\u001b[0m\u001b[0;34m)\u001b[0m\u001b[0;34m\u001b[0m\u001b[0;34m\u001b[0m\u001b[0m\n\u001b[0;32m----> 4\u001b[0;31m     \u001b[0moutputs\u001b[0m \u001b[0;34m=\u001b[0m \u001b[0mmodel\u001b[0m\u001b[0;34m(\u001b[0m\u001b[0mimages\u001b[0m\u001b[0;34m)\u001b[0m\u001b[0;34m\u001b[0m\u001b[0;34m\u001b[0m\u001b[0m\n\u001b[0m\u001b[1;32m      5\u001b[0m     \u001b[0mprint\u001b[0m\u001b[0;34m(\u001b[0m\u001b[0moutputs\u001b[0m\u001b[0;34m)\u001b[0m\u001b[0;34m\u001b[0m\u001b[0;34m\u001b[0m\u001b[0m\n\u001b[1;32m      6\u001b[0m     \u001b[0;32mbreak\u001b[0m\u001b[0;34m\u001b[0m\u001b[0;34m\u001b[0m\u001b[0m\n",
            "\u001b[0;32m/usr/local/lib/python3.7/dist-packages/torch/nn/modules/module.py\u001b[0m in \u001b[0;36m_call_impl\u001b[0;34m(self, *input, **kwargs)\u001b[0m\n\u001b[1;32m    887\u001b[0m             \u001b[0mresult\u001b[0m \u001b[0;34m=\u001b[0m \u001b[0mself\u001b[0m\u001b[0;34m.\u001b[0m\u001b[0m_slow_forward\u001b[0m\u001b[0;34m(\u001b[0m\u001b[0;34m*\u001b[0m\u001b[0minput\u001b[0m\u001b[0;34m,\u001b[0m \u001b[0;34m**\u001b[0m\u001b[0mkwargs\u001b[0m\u001b[0;34m)\u001b[0m\u001b[0;34m\u001b[0m\u001b[0;34m\u001b[0m\u001b[0m\n\u001b[1;32m    888\u001b[0m         \u001b[0;32melse\u001b[0m\u001b[0;34m:\u001b[0m\u001b[0;34m\u001b[0m\u001b[0;34m\u001b[0m\u001b[0m\n\u001b[0;32m--> 889\u001b[0;31m             \u001b[0mresult\u001b[0m \u001b[0;34m=\u001b[0m \u001b[0mself\u001b[0m\u001b[0;34m.\u001b[0m\u001b[0mforward\u001b[0m\u001b[0;34m(\u001b[0m\u001b[0;34m*\u001b[0m\u001b[0minput\u001b[0m\u001b[0;34m,\u001b[0m \u001b[0;34m**\u001b[0m\u001b[0mkwargs\u001b[0m\u001b[0;34m)\u001b[0m\u001b[0;34m\u001b[0m\u001b[0;34m\u001b[0m\u001b[0m\n\u001b[0m\u001b[1;32m    890\u001b[0m         for hook in itertools.chain(\n\u001b[1;32m    891\u001b[0m                 \u001b[0m_global_forward_hooks\u001b[0m\u001b[0;34m.\u001b[0m\u001b[0mvalues\u001b[0m\u001b[0;34m(\u001b[0m\u001b[0;34m)\u001b[0m\u001b[0;34m,\u001b[0m\u001b[0;34m\u001b[0m\u001b[0;34m\u001b[0m\u001b[0m\n",
            "\u001b[0;32m/usr/local/lib/python3.7/dist-packages/torch/nn/modules/linear.py\u001b[0m in \u001b[0;36mforward\u001b[0;34m(self, input)\u001b[0m\n\u001b[1;32m     92\u001b[0m \u001b[0;34m\u001b[0m\u001b[0m\n\u001b[1;32m     93\u001b[0m     \u001b[0;32mdef\u001b[0m \u001b[0mforward\u001b[0m\u001b[0;34m(\u001b[0m\u001b[0mself\u001b[0m\u001b[0;34m,\u001b[0m \u001b[0minput\u001b[0m\u001b[0;34m:\u001b[0m \u001b[0mTensor\u001b[0m\u001b[0;34m)\u001b[0m \u001b[0;34m->\u001b[0m \u001b[0mTensor\u001b[0m\u001b[0;34m:\u001b[0m\u001b[0;34m\u001b[0m\u001b[0;34m\u001b[0m\u001b[0m\n\u001b[0;32m---> 94\u001b[0;31m         \u001b[0;32mreturn\u001b[0m \u001b[0mF\u001b[0m\u001b[0;34m.\u001b[0m\u001b[0mlinear\u001b[0m\u001b[0;34m(\u001b[0m\u001b[0minput\u001b[0m\u001b[0;34m,\u001b[0m \u001b[0mself\u001b[0m\u001b[0;34m.\u001b[0m\u001b[0mweight\u001b[0m\u001b[0;34m,\u001b[0m \u001b[0mself\u001b[0m\u001b[0;34m.\u001b[0m\u001b[0mbias\u001b[0m\u001b[0;34m)\u001b[0m\u001b[0;34m\u001b[0m\u001b[0;34m\u001b[0m\u001b[0m\n\u001b[0m\u001b[1;32m     95\u001b[0m \u001b[0;34m\u001b[0m\u001b[0m\n\u001b[1;32m     96\u001b[0m     \u001b[0;32mdef\u001b[0m \u001b[0mextra_repr\u001b[0m\u001b[0;34m(\u001b[0m\u001b[0mself\u001b[0m\u001b[0;34m)\u001b[0m \u001b[0;34m->\u001b[0m \u001b[0mstr\u001b[0m\u001b[0;34m:\u001b[0m\u001b[0;34m\u001b[0m\u001b[0;34m\u001b[0m\u001b[0m\n",
            "\u001b[0;32m/usr/local/lib/python3.7/dist-packages/torch/nn/functional.py\u001b[0m in \u001b[0;36mlinear\u001b[0;34m(input, weight, bias)\u001b[0m\n\u001b[1;32m   1751\u001b[0m     \u001b[0;32mif\u001b[0m \u001b[0mhas_torch_function_variadic\u001b[0m\u001b[0;34m(\u001b[0m\u001b[0minput\u001b[0m\u001b[0;34m,\u001b[0m \u001b[0mweight\u001b[0m\u001b[0;34m)\u001b[0m\u001b[0;34m:\u001b[0m\u001b[0;34m\u001b[0m\u001b[0;34m\u001b[0m\u001b[0m\n\u001b[1;32m   1752\u001b[0m         \u001b[0;32mreturn\u001b[0m \u001b[0mhandle_torch_function\u001b[0m\u001b[0;34m(\u001b[0m\u001b[0mlinear\u001b[0m\u001b[0;34m,\u001b[0m \u001b[0;34m(\u001b[0m\u001b[0minput\u001b[0m\u001b[0;34m,\u001b[0m \u001b[0mweight\u001b[0m\u001b[0;34m)\u001b[0m\u001b[0;34m,\u001b[0m \u001b[0minput\u001b[0m\u001b[0;34m,\u001b[0m \u001b[0mweight\u001b[0m\u001b[0;34m,\u001b[0m \u001b[0mbias\u001b[0m\u001b[0;34m=\u001b[0m\u001b[0mbias\u001b[0m\u001b[0;34m)\u001b[0m\u001b[0;34m\u001b[0m\u001b[0;34m\u001b[0m\u001b[0m\n\u001b[0;32m-> 1753\u001b[0;31m     \u001b[0;32mreturn\u001b[0m \u001b[0mtorch\u001b[0m\u001b[0;34m.\u001b[0m\u001b[0m_C\u001b[0m\u001b[0;34m.\u001b[0m\u001b[0m_nn\u001b[0m\u001b[0;34m.\u001b[0m\u001b[0mlinear\u001b[0m\u001b[0;34m(\u001b[0m\u001b[0minput\u001b[0m\u001b[0;34m,\u001b[0m \u001b[0mweight\u001b[0m\u001b[0;34m,\u001b[0m \u001b[0mbias\u001b[0m\u001b[0;34m)\u001b[0m\u001b[0;34m\u001b[0m\u001b[0;34m\u001b[0m\u001b[0m\n\u001b[0m\u001b[1;32m   1754\u001b[0m \u001b[0;34m\u001b[0m\u001b[0m\n\u001b[1;32m   1755\u001b[0m \u001b[0;34m\u001b[0m\u001b[0m\n",
            "\u001b[0;31mRuntimeError\u001b[0m: mat1 and mat2 shapes cannot be multiplied (3584x28 and 784x10)"
          ]
        }
      ]
    },
    {
      "cell_type": "markdown",
      "metadata": {
        "id": "HfUFjbimzs7F"
      },
      "source": [
        "The code above leads to an error because our input data does not have the right shape. Our images are of the shape 1x28x28, but we need them to be vectors of size 784, i.e., we need to flatten them. We'll use the .reshape method of a tensor, which will allow us to efficiently 'view' each image as a flat vector without really creating a copy of the underlying data. \n",
        "*  To include this additional functionality within our model, we need to define a custom model by extending the nn.Module class from PyTorch."
      ]
    },
    {
      "cell_type": "code",
      "metadata": {
        "colab": {
          "base_uri": "https://localhost:8080/"
        },
        "id": "jTiGsOZJy0b0",
        "outputId": "8f6c07c5-a764-4939-af5c-17bbd4770829"
      },
      "source": [
        "images.shape"
      ],
      "execution_count": 27,
      "outputs": [
        {
          "output_type": "execute_result",
          "data": {
            "text/plain": [
              "torch.Size([128, 1, 28, 28])"
            ]
          },
          "metadata": {
            "tags": []
          },
          "execution_count": 27
        }
      ]
    },
    {
      "cell_type": "code",
      "metadata": {
        "colab": {
          "base_uri": "https://localhost:8080/"
        },
        "id": "uZSLkXzXy225",
        "outputId": "a328b267-e707-49f8-b4c8-03d0c406afca"
      },
      "source": [
        "images.reshape(-1, 784).shape"
      ],
      "execution_count": 28,
      "outputs": [
        {
          "output_type": "execute_result",
          "data": {
            "text/plain": [
              "torch.Size([128, 784])"
            ]
          },
          "metadata": {
            "tags": []
          },
          "execution_count": 28
        }
      ]
    },
    {
      "cell_type": "code",
      "metadata": {
        "id": "piUKJady0tVB"
      },
      "source": [
        "class MnistModel(nn.Module):\n",
        "    def __init__(self):\n",
        "        super().__init__()\n",
        "        self.linear = nn.Linear(input_size, num_classes) #Inside the __init__ constructor method, we instantiate the weights and biases using nn.Linear.\n",
        "        \n",
        "        #Inside the forward method, which is invoked when we pass a batch of inputs to the model, we flatten the input tensor and pass it into self.linear.\n",
        "    def forward(self, xb):\n",
        "        xb = xb.reshape(-1, 784)\n",
        "        out = self.linear(xb)\n",
        "        return out\n",
        "    \n",
        "model = MnistModel()"
      ],
      "execution_count": 30,
      "outputs": []
    },
    {
      "cell_type": "markdown",
      "metadata": {
        "id": "6e3JjgCZ3iGQ"
      },
      "source": [
        "*  xb.reshape(-1, 28 x 28) indicates to PyTorch that we want a view of the xb tensor with two dimensions. The length along the 2nd dimension is 28*28 (i.e., 784). One argument to .reshape can be set to -1 (in this case, the first dimension) to let PyTorch figure it out automatically based on the shape of the original tensor.\n",
        "\n",
        "*  Note that the model no longer has .weight and .bias attributes (as they are now inside the .linear attribute), but it does have a .parameters method that returns a list containing the weights and bias."
      ]
    },
    {
      "cell_type": "code",
      "metadata": {
        "colab": {
          "base_uri": "https://localhost:8080/"
        },
        "id": "PQAunqHO3yb7",
        "outputId": "5c06e95f-6ed8-4fbb-a523-c4dc2ecff189"
      },
      "source": [
        "model.linear"
      ],
      "execution_count": 31,
      "outputs": [
        {
          "output_type": "execute_result",
          "data": {
            "text/plain": [
              "Linear(in_features=784, out_features=10, bias=True)"
            ]
          },
          "metadata": {
            "tags": []
          },
          "execution_count": 31
        }
      ]
    },
    {
      "cell_type": "code",
      "metadata": {
        "colab": {
          "base_uri": "https://localhost:8080/"
        },
        "id": "oBGLlQcE38cl",
        "outputId": "2c63b929-016c-4e18-abb2-49bc00c42d5a"
      },
      "source": [
        "print(model.linear.weight.shape, model.linear.bias.shape)\n",
        "list(model.parameters())"
      ],
      "execution_count": 32,
      "outputs": [
        {
          "output_type": "stream",
          "text": [
            "torch.Size([10, 784]) torch.Size([10])\n"
          ],
          "name": "stdout"
        },
        {
          "output_type": "execute_result",
          "data": {
            "text/plain": [
              "[Parameter containing:\n",
              " tensor([[ 0.0122, -0.0091, -0.0090,  ...,  0.0037,  0.0318, -0.0331],\n",
              "         [ 0.0076, -0.0010, -0.0032,  ..., -0.0027, -0.0303, -0.0306],\n",
              "         [-0.0091, -0.0094,  0.0008,  ...,  0.0245, -0.0150, -0.0054],\n",
              "         ...,\n",
              "         [ 0.0150,  0.0217, -0.0097,  ..., -0.0345, -0.0057, -0.0308],\n",
              "         [-0.0101, -0.0211, -0.0252,  ..., -0.0316, -0.0013,  0.0216],\n",
              "         [ 0.0264,  0.0119,  0.0187,  ...,  0.0257,  0.0209,  0.0299]],\n",
              "        requires_grad=True), Parameter containing:\n",
              " tensor([ 0.0104, -0.0010,  0.0306, -0.0342,  0.0263, -0.0114,  0.0213,  0.0245,\n",
              "          0.0215, -0.0205], requires_grad=True)]"
            ]
          },
          "metadata": {
            "tags": []
          },
          "execution_count": 32
        }
      ]
    },
    {
      "cell_type": "code",
      "metadata": {
        "colab": {
          "base_uri": "https://localhost:8080/"
        },
        "id": "ECoH3pQG4THf",
        "outputId": "275ca5dc-887a-4eb8-cf0a-1147e22158f3"
      },
      "source": [
        "for images, labels in train_loader:\n",
        "    print(images.shape)\n",
        "    outputs = model(images)\n",
        "    break\n",
        "\n",
        "print('outputs.shape : ', outputs.shape)\n",
        "print('Sample outputs :\\n', outputs[:2].data)\n",
        "\n",
        "#For each of the 128 input images, we get 10 outputs, one for each class. \n",
        "#As discussed earlier, we'd like these outputs to represent probabilities. \n",
        "#Each output row's elements must lie between 0 to 1 and add up to 1, which is not the case."
      ],
      "execution_count": 34,
      "outputs": [
        {
          "output_type": "stream",
          "text": [
            "torch.Size([128, 1, 28, 28])\n",
            "outputs.shape :  torch.Size([128, 10])\n",
            "Sample outputs :\n",
            " tensor([[ 0.3901,  0.0585,  0.3499,  0.2719,  0.1609,  0.0528, -0.0213,  0.1986,\n",
            "          0.2865, -0.3331],\n",
            "        [-0.3079,  0.1798,  0.0186, -0.0172,  0.2178, -0.1639,  0.0543,  0.1857,\n",
            "          0.0226, -0.0348]])\n"
          ],
          "name": "stdout"
        }
      ]
    },
    {
      "cell_type": "markdown",
      "metadata": {
        "id": "gEb3PKLQ5ffY"
      },
      "source": [
        "*  To convert the output rows into probabilities, we use the softmax function, which has the following formula:\n",
        "\n",
        "![image.png](data:image/png;base64,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)\n",
        "\n",
        "![image.png](data:image/png;base64,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)"
      ]
    },
    {
      "cell_type": "code",
      "metadata": {
        "id": "LEMoGiwf5v02"
      },
      "source": [
        "#we'll use the implementation that's provided within PyTorch because it works well with multidimensional tensors (a list of output rows in our case).\n",
        "#The softmax function is included in the torch.nn.functional package and requires us to specify a dimension along which the function should be applied.\n",
        "\n",
        "import torch.nn.functional as F"
      ],
      "execution_count": 36,
      "outputs": []
    },
    {
      "cell_type": "code",
      "metadata": {
        "colab": {
          "base_uri": "https://localhost:8080/"
        },
        "id": "QLxzF4Oj6D56",
        "outputId": "2d98ca15-d4d6-4598-c0d1-560186df17c8"
      },
      "source": [
        "outputs[:2]"
      ],
      "execution_count": 37,
      "outputs": [
        {
          "output_type": "execute_result",
          "data": {
            "text/plain": [
              "tensor([[ 0.3901,  0.0585,  0.3499,  0.2719,  0.1609,  0.0528, -0.0213,  0.1986,\n",
              "          0.2865, -0.3331],\n",
              "        [-0.3079,  0.1798,  0.0186, -0.0172,  0.2178, -0.1639,  0.0543,  0.1857,\n",
              "          0.0226, -0.0348]], grad_fn=<SliceBackward>)"
            ]
          },
          "metadata": {
            "tags": []
          },
          "execution_count": 37
        }
      ]
    },
    {
      "cell_type": "code",
      "metadata": {
        "colab": {
          "base_uri": "https://localhost:8080/"
        },
        "id": "t9qnzDb16PaG",
        "outputId": "1dea60d4-d684-4d3e-dcc0-a297d9d1c389"
      },
      "source": [
        "# Applying softmax for each output row\n",
        "probs = F.softmax(outputs, dim=1)\n",
        "\n",
        "# Look at sample probabilities\n",
        "print(\"Sample probabilities:\\n\", probs[:2].data)\n",
        "\n",
        "# Adding up the probabilities of an output row.\n",
        "print(\"Sum: \", torch.sum(probs[0]).item())"
      ],
      "execution_count": 39,
      "outputs": [
        {
          "output_type": "stream",
          "text": [
            "Sample probabilities:\n",
            " tensor([[0.1258, 0.0903, 0.1208, 0.1118, 0.1000, 0.0898, 0.0834, 0.1038, 0.1134,\n",
            "         0.0610],\n",
            "        [0.0715, 0.1165, 0.0992, 0.0957, 0.1210, 0.0826, 0.1028, 0.1172, 0.0996,\n",
            "         0.0940]])\n",
            "Sum:  0.9999999403953552\n"
          ],
          "name": "stdout"
        }
      ]
    },
    {
      "cell_type": "markdown",
      "metadata": {
        "id": "YxIs2-eZ7ACW"
      },
      "source": [
        "Finally, we can determine the predicted label for each image by simply choosing the index of the element with the highest probability in each output row. We can do this using torch.max, which returns each row's largest element and the corresponding index."
      ]
    },
    {
      "cell_type": "code",
      "metadata": {
        "colab": {
          "base_uri": "https://localhost:8080/"
        },
        "id": "NEubMIpg7D3k",
        "outputId": "5d24309a-b8d0-4cd7-94df-a64e98f78c64"
      },
      "source": [
        "max_probs, preds = torch.max(probs, dim=1)\n",
        "print(preds)\n",
        "print(max_probs)"
      ],
      "execution_count": 40,
      "outputs": [
        {
          "output_type": "stream",
          "text": [
            "tensor([0, 4, 4, 0, 1, 4, 7, 4, 4, 0, 4, 4, 0, 4, 2, 4, 4, 3, 7, 4, 1, 4, 1, 4,\n",
            "        4, 1, 4, 4, 4, 4, 4, 8, 2, 4, 2, 5, 4, 2, 4, 4, 2, 0, 4, 4, 2, 7, 1, 3,\n",
            "        7, 4, 7, 1, 8, 2, 4, 4, 4, 4, 0, 8, 0, 4, 0, 8, 2, 7, 2, 4, 1, 4, 3, 4,\n",
            "        4, 3, 4, 7, 0, 4, 7, 4, 4, 4, 7, 7, 7, 8, 4, 0, 4, 4, 1, 8, 0, 2, 0, 4,\n",
            "        0, 4, 4, 1, 7, 1, 3, 1, 4, 0, 0, 4, 4, 4, 8, 7, 3, 4, 3, 1, 4, 2, 4, 7,\n",
            "        4, 4, 3, 4, 4, 4, 1, 4])\n",
            "tensor([0.1258, 0.1210, 0.1333, 0.1402, 0.1292, 0.1501, 0.1128, 0.1231, 0.1326,\n",
            "        0.1432, 0.1244, 0.1207, 0.1179, 0.1196, 0.1149, 0.1543, 0.1196, 0.1171,\n",
            "        0.1299, 0.1261, 0.1259, 0.1430, 0.1136, 0.1200, 0.1268, 0.1230, 0.1535,\n",
            "        0.1206, 0.1308, 0.1365, 0.1603, 0.1304, 0.1315, 0.1149, 0.1125, 0.1161,\n",
            "        0.1428, 0.1408, 0.1299, 0.1651, 0.1150, 0.1319, 0.1150, 0.1285, 0.1352,\n",
            "        0.1110, 0.1204, 0.1218, 0.1336, 0.1233, 0.1112, 0.1330, 0.1366, 0.1360,\n",
            "        0.1254, 0.1181, 0.1446, 0.1293, 0.1342, 0.1187, 0.1310, 0.1221, 0.1130,\n",
            "        0.1206, 0.1282, 0.1239, 0.1212, 0.1225, 0.1153, 0.1444, 0.1321, 0.1605,\n",
            "        0.1152, 0.1270, 0.1517, 0.1164, 0.1258, 0.1242, 0.1164, 0.1221, 0.1276,\n",
            "        0.1192, 0.1299, 0.1471, 0.1237, 0.1180, 0.1284, 0.1244, 0.1484, 0.1540,\n",
            "        0.1200, 0.1181, 0.1271, 0.1300, 0.1449, 0.1227, 0.1559, 0.1537, 0.1524,\n",
            "        0.1493, 0.1190, 0.1236, 0.1219, 0.1679, 0.1558, 0.1351, 0.1137, 0.1288,\n",
            "        0.1214, 0.1342, 0.1109, 0.1319, 0.1128, 0.1555, 0.1255, 0.1451, 0.1488,\n",
            "        0.1221, 0.1236, 0.1126, 0.1241, 0.1844, 0.1207, 0.1624, 0.1223, 0.1207,\n",
            "        0.1129, 0.1434], grad_fn=<MaxBackward0>)\n"
          ],
          "name": "stdout"
        }
      ]
    },
    {
      "cell_type": "code",
      "metadata": {
        "colab": {
          "base_uri": "https://localhost:8080/"
        },
        "id": "co0v8PQ68EHO",
        "outputId": "94776301-5574-486a-c0f8-d35e9751a819"
      },
      "source": [
        "labels"
      ],
      "execution_count": 41,
      "outputs": [
        {
          "output_type": "execute_result",
          "data": {
            "text/plain": [
              "tensor([2, 8, 9, 2, 2, 4, 8, 4, 9, 2, 8, 5, 2, 7, 7, 5, 7, 6, 7, 8, 5, 7, 4, 8,\n",
              "        7, 8, 5, 5, 4, 7, 9, 1, 3, 4, 4, 3, 6, 8, 0, 0, 2, 3, 1, 7, 8, 3, 7, 3,\n",
              "        9, 9, 6, 4, 8, 3, 9, 4, 4, 7, 5, 6, 3, 8, 1, 6, 5, 1, 7, 9, 2, 8, 3, 0,\n",
              "        6, 3, 7, 1, 9, 7, 6, 1, 8, 9, 8, 1, 6, 4, 9, 2, 7, 0, 4, 5, 0, 0, 3, 7,\n",
              "        6, 4, 7, 2, 2, 6, 1, 2, 0, 8, 1, 0, 4, 0, 6, 5, 3, 6, 3, 0, 0, 1, 5, 9,\n",
              "        4, 9, 8, 8, 4, 8, 5, 7])"
            ]
          },
          "metadata": {
            "tags": []
          },
          "execution_count": 41
        }
      ]
    },
    {
      "cell_type": "markdown",
      "metadata": {
        "id": "Ty6Sz8X18MYY"
      },
      "source": [
        "Most of the predicted labels are different from the actual labels. That's because we have started with randomly initialized weights and biases. We need to train the model, i.e., adjust the weights using gradient descent to make better predictions."
      ]
    },
    {
      "cell_type": "code",
      "metadata": {
        "id": "c4vsO78X8E8X"
      },
      "source": [
        ""
      ],
      "execution_count": null,
      "outputs": []
    }
  ]
}