{
  "nbformat": 4,
  "nbformat_minor": 0,
  "metadata": {
    "colab": {
      "name": "T3.ipynb",
      "provenance": [],
      "authorship_tag": "ABX9TyOPzfmA2ja1EFeuqZzfiEWG",
      "include_colab_link": true
    },
    "kernelspec": {
      "name": "python3",
      "display_name": "Python 3"
    }
  },
  "cells": [
    {
      "cell_type": "markdown",
      "metadata": {
        "id": "view-in-github",
        "colab_type": "text"
      },
      "source": [
        "<a href=\"https://colab.research.google.com/github/Saurav-Raghaw/Python/blob/main/T3.ipynb\" target=\"_parent\"><img src=\"https://colab.research.google.com/assets/colab-badge.svg\" alt=\"Open In Colab\"/></a>"
      ]
    },
    {
      "cell_type": "code",
      "metadata": {
        "colab": {
          "base_uri": "https://localhost:8080/"
        },
        "id": "pDo1ZI8VOkQn",
        "outputId": "972a45b0-001d-4bf5-f256-c9418ee577e6"
      },
      "source": [
        "#Slicing Strings\r\n",
        "#We can return a range of characters by using the slice syntax.\r\n",
        "\r\n",
        "#Get the characters from position 2 to position 5 (not included):\r\n",
        "\r\n",
        "b = \"IIT Indore\"\r\n",
        "print(b[2:5], '\\n')\r\n",
        "\r\n",
        "#By leaving out the start index, the range will start at the first character.\r\n",
        "\r\n",
        "b = \"IIT Indore\"\r\n",
        "print(b[:5], '\\n')\r\n",
        "\r\n",
        "#By leaving out the end index, the range will go to the end.\r\n",
        "\r\n",
        "b = \"IIT Indore\"\r\n",
        "print(b[2:])"
      ],
      "execution_count": 7,
      "outputs": [
        {
          "output_type": "stream",
          "text": [
            "T I \n",
            "\n",
            "IIT I \n",
            "\n",
            "T Indore\n"
          ],
          "name": "stdout"
        }
      ]
    },
    {
      "cell_type": "code",
      "metadata": {
        "colab": {
          "base_uri": "https://localhost:8080/"
        },
        "id": "fEoDizy4bTuS",
        "outputId": "4f8ec554-625c-4c25-ca44-50f06f29df29"
      },
      "source": [
        "#Use negative indexes to start the slice from the end of the string.\r\n",
        "\r\n",
        "b = \"IIT Indore\"\r\n",
        "print(b[-8:-2], '\\n') # e = -1, r = -2, .... and so on.here end postion -2 will not included.\r\n",
        "\r\n",
        "b = \"IIT Indore\"\r\n",
        "print(b[:-2]) "
      ],
      "execution_count": 12,
      "outputs": [
        {
          "output_type": "stream",
          "text": [
            "T Indo \n",
            "\n",
            "IIT Indo\n"
          ],
          "name": "stdout"
        }
      ]
    },
    {
      "cell_type": "code",
      "metadata": {
        "colab": {
          "base_uri": "https://localhost:8080/"
        },
        "id": "017YTPxUcXp8",
        "outputId": "934582ce-4d6a-48ea-d243-619c6367da91"
      },
      "source": [
        "#Modify Strings\r\n",
        "\r\n",
        "#The upper() method returns the string in upper case:\r\n",
        "\r\n",
        "a = \"iit iNDOre\"\r\n",
        "print(a.upper(), '\\n')\r\n",
        "\r\n",
        "#The lower() method returns the string in lower case:\r\n",
        "\r\n",
        "a = \"IIT Indore\"\r\n",
        "print(a.lower())"
      ],
      "execution_count": 17,
      "outputs": [
        {
          "output_type": "stream",
          "text": [
            "IIT INDORE \n",
            "\n",
            "iit indore\n"
          ],
          "name": "stdout"
        }
      ]
    },
    {
      "cell_type": "code",
      "metadata": {
        "colab": {
          "base_uri": "https://localhost:8080/"
        },
        "id": "GWSz6eQve3BA",
        "outputId": "1d10a033-f4f4-410a-9c50-af9213efb0b4"
      },
      "source": [
        "#The strip() method removes any whitespace from the beginning or the end:\r\n",
        "\r\n",
        "a = \" IIT Indore \"\r\n",
        "print(a.strip()) # returns \"IIT Indore\"."
      ],
      "execution_count": 19,
      "outputs": [
        {
          "output_type": "stream",
          "text": [
            "IIT Indore\n"
          ],
          "name": "stdout"
        }
      ]
    },
    {
      "cell_type": "code",
      "metadata": {
        "colab": {
          "base_uri": "https://localhost:8080/"
        },
        "id": "G0JQwRW0fjjZ",
        "outputId": "62b16652-e5d8-407e-ee14-467b8d389125"
      },
      "source": [
        "#The replace() method replaces a string with another string:\r\n",
        "\r\n",
        "a = \"IIT Indore\"\r\n",
        "print(a.replace(\"I\", \"i\"))"
      ],
      "execution_count": 20,
      "outputs": [
        {
          "output_type": "stream",
          "text": [
            "iiT indore\n"
          ],
          "name": "stdout"
        }
      ]
    },
    {
      "cell_type": "code",
      "metadata": {
        "colab": {
          "base_uri": "https://localhost:8080/"
        },
        "id": "fYhA35EJf9jy",
        "outputId": "0c4223f6-a73f-4170-8c5c-83af538e817f"
      },
      "source": [
        "#The split() method splits the string into substrings if it finds instances of the separator:\r\n",
        "\r\n",
        "a = \"IIT, Indore\"\r\n",
        "print(a.split(\",\")) # returns ['IIT', ' Indore']\r\n"
      ],
      "execution_count": 24,
      "outputs": [
        {
          "output_type": "stream",
          "text": [
            "['IIT', ' Indore']\n"
          ],
          "name": "stdout"
        }
      ]
    },
    {
      "cell_type": "code",
      "metadata": {
        "colab": {
          "base_uri": "https://localhost:8080/"
        },
        "id": "ADS0brIAgcvG",
        "outputId": "ae518ee8-9f99-4f16-bf84-58e247b0175c"
      },
      "source": [
        "#String Concatenation\r\n",
        "\r\n",
        "#To concatenate, or combine, two strings you can use the + operator.\r\n",
        "\r\n",
        "a = \"IIT\"\r\n",
        "b = \" Indore\"\r\n",
        "c = a + b\r\n",
        "print(c)"
      ],
      "execution_count": 26,
      "outputs": [
        {
          "output_type": "stream",
          "text": [
            "IIT Indore\n"
          ],
          "name": "stdout"
        }
      ]
    },
    {
      "cell_type": "code",
      "metadata": {
        "colab": {
          "base_uri": "https://localhost:8080/"
        },
        "id": "8wl-8wcwjPaQ",
        "outputId": "71f4a33f-52a9-4de0-844f-09ebd1c9fff8"
      },
      "source": [
        "#we can combine strings and numbers by using the format() method.\r\n",
        "\r\n",
        "#The format() method takes the passed arguments, formats them, and places them in the string where the placeholders {} are:\r\n",
        "\r\n",
        "age = 25\r\n",
        "txt = \"My name is John, and I am {}\"\r\n",
        "print(txt.format(age))\r\n",
        "\r\n",
        "#The format() method takes unlimited number of arguments, and are placed into the respective placeholders.\r\n",
        "\r\n",
        "quantity = 3\r\n",
        "itemno = 567\r\n",
        "price = 49.95\r\n",
        "myorder = \"I want {} pieces of item {} for {} dollars.\"\r\n",
        "print(myorder.format(quantity, itemno, price))\r\n",
        "\r\n",
        "#We can use index numbers {0} to be sure the arguments are placed in the correct placeholders.\r\n",
        "\r\n",
        "quantity = 3\r\n",
        "itemno = 567\r\n",
        "price = 49.95\r\n",
        "myorder = \"I want to pay {2} dollars for {0} pieces of item {1}.\"\r\n",
        "print(myorder.format(quantity, itemno, price))"
      ],
      "execution_count": 29,
      "outputs": [
        {
          "output_type": "stream",
          "text": [
            "My name is John, and I am 25\n",
            "I want 3 pieces of item 567 for 49.95 dollars.\n",
            "I want to pay 49.95 dollars for 3 pieces of item 567.\n"
          ],
          "name": "stdout"
        }
      ]
    },
    {
      "cell_type": "markdown",
      "metadata": {
        "id": "9aqL3tNMls_Z"
      },
      "source": [
        "#Escape Characters.\r\n",
        "'''\r\n",
        "\\'\tSingle Quote\t\r\n",
        "\\\\\tBackslash\t\r\n",
        "\\n\tNew Line\t\r\n",
        "\\r\tCarriage Return\t\r\n",
        "\\t\tTab\t\r\n",
        "\\b\tBackspace\t\r\n",
        "\\f\tForm Feed\t\r\n",
        "\\ooo\tOctal value\t\r\n",
        "\\xhh\tHex value\r\n",
        "\r\n",
        "'''"
      ]
    },
    {
      "cell_type": "markdown",
      "metadata": {
        "id": "d_puBx14lwcT"
      },
      "source": [
        "# String Methods\r\n",
        "[String Methods](https://www.w3schools.com/python/python_strings_methods.asp)"
      ]
    }
  ]
}