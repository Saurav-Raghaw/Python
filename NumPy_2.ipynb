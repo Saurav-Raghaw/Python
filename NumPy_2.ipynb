{
  "nbformat": 4,
  "nbformat_minor": 0,
  "metadata": {
    "colab": {
      "name": "NumPy_2.ipynb",
      "provenance": [],
      "authorship_tag": "ABX9TyPuqbOSc9GsIFkgqF4+m2Sx",
      "include_colab_link": true
    },
    "kernelspec": {
      "name": "python3",
      "display_name": "Python 3"
    },
    "language_info": {
      "name": "python"
    }
  },
  "cells": [
    {
      "cell_type": "markdown",
      "metadata": {
        "id": "view-in-github",
        "colab_type": "text"
      },
      "source": [
        "<a href=\"https://colab.research.google.com/github/Saurav-Raghaw/Python/blob/main/NumPy_2.ipynb\" target=\"_parent\"><img src=\"https://colab.research.google.com/assets/colab-badge.svg\" alt=\"Open In Colab\"/></a>"
      ]
    },
    {
      "cell_type": "code",
      "metadata": {
        "id": "-JjbXov3rNu5"
      },
      "source": [
        "#Array Slicing: taking elements from one given index to another given index.\n",
        "# [start:end]\n",
        "# [start:end:step]\n",
        "\n",
        "'''\n",
        "If we don't pass start its considered 0\n",
        "\n",
        "If we don't pass end its considered length of array in that dimension\n",
        "\n",
        "If we don't pass step its considered 1\n",
        "\n",
        "'''"
      ],
      "execution_count": null,
      "outputs": []
    },
    {
      "cell_type": "code",
      "metadata": {
        "id": "WIFwTpGPePBm"
      },
      "source": [
        "import numpy as np"
      ],
      "execution_count": 1,
      "outputs": []
    },
    {
      "cell_type": "code",
      "metadata": {
        "colab": {
          "base_uri": "https://localhost:8080/"
        },
        "id": "cGxwQJLIeRim",
        "outputId": "6bdf3249-9b3d-46e5-ff87-2258c4506147"
      },
      "source": [
        "arr = np.array([1,2,3,4,5,6,7,8,9])\n",
        "\n",
        "print(arr[1:5]) #End position excluded and start position is included."
      ],
      "execution_count": 3,
      "outputs": [
        {
          "output_type": "stream",
          "text": [
            "[2 3 4 5]\n"
          ],
          "name": "stdout"
        }
      ]
    },
    {
      "cell_type": "code",
      "metadata": {
        "colab": {
          "base_uri": "https://localhost:8080/"
        },
        "id": "-fkRpY9SfJbc",
        "outputId": "528233cf-724a-4a8a-e944-e11a2c09943e"
      },
      "source": [
        "print(arr[1:])"
      ],
      "execution_count": 4,
      "outputs": [
        {
          "output_type": "stream",
          "text": [
            "[2 3 4 5 6 7 8 9]\n"
          ],
          "name": "stdout"
        }
      ]
    },
    {
      "cell_type": "code",
      "metadata": {
        "colab": {
          "base_uri": "https://localhost:8080/"
        },
        "id": "Dbcq0n55fNwE",
        "outputId": "5ecee030-d319-4b12-91b9-c26bb2ff7d0c"
      },
      "source": [
        "print(arr[:5])"
      ],
      "execution_count": 5,
      "outputs": [
        {
          "output_type": "stream",
          "text": [
            "[1 2 3 4 5]\n"
          ],
          "name": "stdout"
        }
      ]
    },
    {
      "cell_type": "code",
      "metadata": {
        "colab": {
          "base_uri": "https://localhost:8080/"
        },
        "id": "MivNsSp5ftRQ",
        "outputId": "1605fc3b-eca0-4fbf-ca7e-6ad6e1148da9"
      },
      "source": [
        "#Negative slicing.\n",
        "print(arr[-4:-1]) #-1 postion is excluded."
      ],
      "execution_count": 9,
      "outputs": [
        {
          "output_type": "stream",
          "text": [
            "[6 7 8]\n"
          ],
          "name": "stdout"
        }
      ]
    },
    {
      "cell_type": "code",
      "metadata": {
        "colab": {
          "base_uri": "https://localhost:8080/"
        },
        "id": "_Qyr8NbjgJ8_",
        "outputId": "4bc8017f-80b6-44c2-c624-3fe4b9e86726"
      },
      "source": [
        "#step size.\n",
        "arr = np.array([1,2,3,4,5,6,7,8,9])\n",
        "\n",
        "print(arr[1:5:2])"
      ],
      "execution_count": 12,
      "outputs": [
        {
          "output_type": "stream",
          "text": [
            "[2 4]\n"
          ],
          "name": "stdout"
        }
      ]
    },
    {
      "cell_type": "code",
      "metadata": {
        "colab": {
          "base_uri": "https://localhost:8080/"
        },
        "id": "ls8TmwlrgqFR",
        "outputId": "ecfb1cda-416d-49d0-a8bb-d0015f6666c8"
      },
      "source": [
        "print(arr[::2])"
      ],
      "execution_count": 13,
      "outputs": [
        {
          "output_type": "stream",
          "text": [
            "[1 3 5 7 9]\n"
          ],
          "name": "stdout"
        }
      ]
    },
    {
      "cell_type": "code",
      "metadata": {
        "colab": {
          "base_uri": "https://localhost:8080/"
        },
        "id": "JSdF7VmvhC7I",
        "outputId": "a740658b-a9ad-4eba-bc03-0d727e65531f"
      },
      "source": [
        "#Slicing 2-D Arrays\n",
        "arr = np.array([[1, 2, 3, 4, 5], [6, 7, 8, 9, 10]])\n",
        "\n",
        "print(arr[1, 1:4])"
      ],
      "execution_count": 14,
      "outputs": [
        {
          "output_type": "stream",
          "text": [
            "[7 8 9]\n"
          ],
          "name": "stdout"
        }
      ]
    },
    {
      "cell_type": "code",
      "metadata": {
        "colab": {
          "base_uri": "https://localhost:8080/"
        },
        "id": "vJa3W1B4k5fi",
        "outputId": "1db23c2e-1abc-4593-bc8e-6fbf2360fb1d"
      },
      "source": [
        "#From both elements, return index 2.\n",
        "print(arr[0:2, 2]) #0:2 specify elements in 2D array which is 1D array elements."
      ],
      "execution_count": 16,
      "outputs": [
        {
          "output_type": "stream",
          "text": [
            "[3 8]\n"
          ],
          "name": "stdout"
        }
      ]
    },
    {
      "cell_type": "code",
      "metadata": {
        "colab": {
          "base_uri": "https://localhost:8080/"
        },
        "id": "NGUkwvmFlnn-",
        "outputId": "3201ddcc-2871-44c2-a8e8-27c640dc92a2"
      },
      "source": [
        "#From both elements, slice index 1 to index 4 (not included).\n",
        "print(arr[0:2, 1:4])"
      ],
      "execution_count": 18,
      "outputs": [
        {
          "output_type": "stream",
          "text": [
            "[[2 3 4]\n",
            " [7 8 9]]\n"
          ],
          "name": "stdout"
        }
      ]
    },
    {
      "cell_type": "code",
      "metadata": {
        "id": "1bNz7950ojZd"
      },
      "source": [
        "#Data Types in NumPy.\n",
        "'''\n",
        "i - integer\n",
        "b - boolean\n",
        "u - unsigned integer\n",
        "f - float\n",
        "c - complex float\n",
        "m - timedelta\n",
        "M - datetime\n",
        "O - object\n",
        "S - string\n",
        "U - unicode string\n",
        "V - fixed chunk of memory for other type ( void )\n",
        "\n",
        "'''\n",
        "\n",
        "#dtype: returns the data type of the array."
      ],
      "execution_count": null,
      "outputs": []
    },
    {
      "cell_type": "code",
      "metadata": {
        "colab": {
          "base_uri": "https://localhost:8080/"
        },
        "id": "RDXoTX4wqdqo",
        "outputId": "e58d3aa3-5a0b-40a6-f4d2-945b660ceace"
      },
      "source": [
        "arr = np.array([1,2,3,4,5])\n",
        "print(arr.dtype)"
      ],
      "execution_count": 19,
      "outputs": [
        {
          "output_type": "stream",
          "text": [
            "int64\n"
          ],
          "name": "stdout"
        }
      ]
    },
    {
      "cell_type": "code",
      "metadata": {
        "colab": {
          "base_uri": "https://localhost:8080/"
        },
        "id": "M6c-nbu_qnld",
        "outputId": "38dece9a-0feb-4a4d-e3ce-f17de735a762"
      },
      "source": [
        "arr = np.array(['saurav', 'IITI', 'MS-CSE'])\n",
        "print(arr.dtype)"
      ],
      "execution_count": 20,
      "outputs": [
        {
          "output_type": "stream",
          "text": [
            "<U6\n"
          ],
          "name": "stdout"
        }
      ]
    },
    {
      "cell_type": "code",
      "metadata": {
        "colab": {
          "base_uri": "https://localhost:8080/"
        },
        "id": "d92jBh7nrpPS",
        "outputId": "96a85754-9a3b-4a6a-bea7-ed7191c4347a"
      },
      "source": [
        "#array() function to create arrays, this function can take an optional argument: dtype\n",
        "\n",
        "arr = np.array([1,2,3,4], dtype='S')\n",
        "\n",
        "print(arr)\n",
        "print(arr.dtype)"
      ],
      "execution_count": 22,
      "outputs": [
        {
          "output_type": "stream",
          "text": [
            "[b'1' b'2' b'3' b'4']\n",
            "|S1\n"
          ],
          "name": "stdout"
        }
      ]
    },
    {
      "cell_type": "code",
      "metadata": {
        "colab": {
          "base_uri": "https://localhost:8080/"
        },
        "id": "6RRUjX_lsb7a",
        "outputId": "0f5fb1e5-e3af-4ada-841b-26d89f8e78c5"
      },
      "source": [
        "#data type 4 bytes integer.\n",
        "arr = np.array([1, 2, 3, 4], dtype='i4')\n",
        "\n",
        "print(arr)\n",
        "print(arr.dtype)"
      ],
      "execution_count": 23,
      "outputs": [
        {
          "output_type": "stream",
          "text": [
            "[1 2 3 4]\n",
            "int32\n"
          ],
          "name": "stdout"
        }
      ]
    },
    {
      "cell_type": "code",
      "metadata": {
        "colab": {
          "base_uri": "https://localhost:8080/"
        },
        "id": "pUMJ3F5tuS-Z",
        "outputId": "1fbec217-0c1f-43da-a89c-682557641a2a"
      },
      "source": [
        "#The astype() function creates a copy of the array, and allows you to specify the data type as a parameter.\n",
        "\n",
        "arr = np.array([1.1, 2.1, 3.1])\n",
        "\n",
        "newarr = arr.astype('i')\n",
        "\n",
        "print(newarr)\n",
        "print(newarr.dtype)"
      ],
      "execution_count": 24,
      "outputs": [
        {
          "output_type": "stream",
          "text": [
            "[1 2 3]\n",
            "int32\n"
          ],
          "name": "stdout"
        }
      ]
    },
    {
      "cell_type": "code",
      "metadata": {
        "colab": {
          "base_uri": "https://localhost:8080/"
        },
        "id": "44yDyu18u4oJ",
        "outputId": "607abd35-fced-4141-f7fe-1163981c43d6"
      },
      "source": [
        "#Changing data type from integer to boolean\n",
        "arr = np.array([1, 0, 3])\n",
        "\n",
        "newarr = arr.astype(bool)\n",
        "\n",
        "print(newarr)\n",
        "print(newarr.dtype)"
      ],
      "execution_count": 25,
      "outputs": [
        {
          "output_type": "stream",
          "text": [
            "[ True False  True]\n",
            "bool\n"
          ],
          "name": "stdout"
        }
      ]
    },
    {
      "cell_type": "code",
      "metadata": {
        "colab": {
          "base_uri": "https://localhost:8080/"
        },
        "id": "5CUzONtcv4-n",
        "outputId": "ef66a703-5346-4418-b9ab-bbe99232b595"
      },
      "source": [
        "#NumPy copy and View\n",
        "arr = np.array([1, 2, 3, 4, 5])\n",
        "x = arr.copy()\n",
        "arr[0] = 42\n",
        "\n",
        "print(arr)\n",
        "print(x)"
      ],
      "execution_count": 26,
      "outputs": [
        {
          "output_type": "stream",
          "text": [
            "[42  2  3  4  5]\n",
            "[1 2 3 4 5]\n"
          ],
          "name": "stdout"
        }
      ]
    },
    {
      "cell_type": "code",
      "metadata": {
        "colab": {
          "base_uri": "https://localhost:8080/"
        },
        "id": "L1saXzYEwFEu",
        "outputId": "a2ebea51-10c7-49ad-fb00-87b799ac63b9"
      },
      "source": [
        "arr = np.array([1, 2, 3, 4, 5])\n",
        "x = arr.view()\n",
        "arr[0] = 42\n",
        "\n",
        "print(arr)\n",
        "print(x)\n",
        "\n",
        "'''\n",
        "The main difference between a copy and a view of an array is that the copy is a new array, and the view is just a view of the original array.\n",
        "'''"
      ],
      "execution_count": 27,
      "outputs": [
        {
          "output_type": "stream",
          "text": [
            "[42  2  3  4  5]\n",
            "[42  2  3  4  5]\n"
          ],
          "name": "stdout"
        }
      ]
    },
    {
      "cell_type": "code",
      "metadata": {
        "colab": {
          "base_uri": "https://localhost:8080/"
        },
        "id": "OLB8BqI4wbVn",
        "outputId": "eada6a1b-60c2-46c6-9c5d-c23e13c9a829"
      },
      "source": [
        "arr = np.array([1, 2, 3, 4, 5])\n",
        "\n",
        "x = arr.copy()\n",
        "y = arr.view()\n",
        "\n",
        "print(x.base)\n",
        "print(y.base)\n",
        "\n",
        "#The copy returns None.\n",
        "#The view returns the original array."
      ],
      "execution_count": 29,
      "outputs": [
        {
          "output_type": "stream",
          "text": [
            "None\n",
            "[1 2 3 4 5]\n"
          ],
          "name": "stdout"
        }
      ]
    }
  ]
}