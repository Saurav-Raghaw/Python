{
  "nbformat": 4,
  "nbformat_minor": 0,
  "metadata": {
    "colab": {
      "name": "T8.ipynb",
      "provenance": [],
      "authorship_tag": "ABX9TyPo0sZBewRfbcIiTb3M5KRr",
      "include_colab_link": true
    },
    "kernelspec": {
      "name": "python3",
      "display_name": "Python 3"
    },
    "language_info": {
      "name": "python"
    }
  },
  "cells": [
    {
      "cell_type": "markdown",
      "metadata": {
        "id": "view-in-github",
        "colab_type": "text"
      },
      "source": [
        "<a href=\"https://colab.research.google.com/github/Saurav-Raghaw/Python/blob/main/T8.ipynb\" target=\"_parent\"><img src=\"https://colab.research.google.com/assets/colab-badge.svg\" alt=\"Open In Colab\"/></a>"
      ]
    },
    {
      "cell_type": "code",
      "metadata": {
        "id": "hHGosM00YtFN",
        "colab": {
          "base_uri": "https://localhost:8080/"
        },
        "outputId": "0ccc0a9c-7162-4307-8047-3199ff9abbdc"
      },
      "source": [
        "#Python lambda\n",
        "#Syntax\n",
        "#lambda arguments : expression\n",
        "#The expression is executed and the result is returned.\n",
        "\n",
        "#Add 10 to argument a, and return the result:\n",
        "\n",
        "x = lambda a : a + 10\n",
        "print(x(5))"
      ],
      "execution_count": 1,
      "outputs": [
        {
          "output_type": "stream",
          "text": [
            "15\n"
          ],
          "name": "stdout"
        }
      ]
    },
    {
      "cell_type": "code",
      "metadata": {
        "colab": {
          "base_uri": "https://localhost:8080/"
        },
        "id": "ARZQpmYM1KYJ",
        "outputId": "9959475c-3976-4d14-f611-099148542cc1"
      },
      "source": [
        "#Lambda functions can take any number of arguments.\n",
        "#Multiply argument a with argument b and return the result.\n",
        "\n",
        "x = lambda a, b : a * b\n",
        "print(x(5, 6))\n",
        "\n",
        "#Summarize argument a, b, and c and return the result.\n",
        "\n",
        "x = lambda a, b, c : a + b + c\n",
        "print(x(5, 6, 2))"
      ],
      "execution_count": 4,
      "outputs": [
        {
          "output_type": "stream",
          "text": [
            "30\n",
            "13\n"
          ],
          "name": "stdout"
        }
      ]
    },
    {
      "cell_type": "code",
      "metadata": {
        "colab": {
          "base_uri": "https://localhost:8080/"
        },
        "id": "Ialg46Z51KNT",
        "outputId": "3f720777-477a-4311-cbe8-a3da519429db"
      },
      "source": [
        "#Why we use lambda function?\n",
        "#Use that function definition to make a function that always doubles the number you send in.\n",
        "\n",
        "def myfunc(n):\n",
        "  return lambda a : a * n\n",
        "\n",
        "mydoubler = myfunc(2)\n",
        "\n",
        "print(mydoubler(11))"
      ],
      "execution_count": 5,
      "outputs": [
        {
          "output_type": "stream",
          "text": [
            "22\n"
          ],
          "name": "stdout"
        }
      ]
    },
    {
      "cell_type": "code",
      "metadata": {
        "id": "LqeTcRAz3m1Y"
      },
      "source": [
        "#We generally Use lambda functions when an anonymous function is required for a short period of time."
      ],
      "execution_count": 6,
      "outputs": []
    }
  ]
}