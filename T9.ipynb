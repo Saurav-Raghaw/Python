{
  "nbformat": 4,
  "nbformat_minor": 0,
  "metadata": {
    "colab": {
      "name": "T9.ipynb",
      "provenance": [],
      "authorship_tag": "ABX9TyOwCHphRKEnIAhcy6ukUiEB",
      "include_colab_link": true
    },
    "kernelspec": {
      "name": "python3",
      "display_name": "Python 3"
    },
    "language_info": {
      "name": "python"
    }
  },
  "cells": [
    {
      "cell_type": "markdown",
      "metadata": {
        "id": "view-in-github",
        "colab_type": "text"
      },
      "source": [
        "<a href=\"https://colab.research.google.com/github/Saurav-Raghaw/Python/blob/main/T9.ipynb\" target=\"_parent\"><img src=\"https://colab.research.google.com/assets/colab-badge.svg\" alt=\"Open In Colab\"/></a>"
      ]
    },
    {
      "cell_type": "code",
      "metadata": {
        "id": "yMfYM4N85WC9"
      },
      "source": [
        "#Arrays: Python doesn't have buit-in Array:We use List instead.\n",
        "#NumPy \n",
        "#Creating an array.\n",
        "\n",
        "college = ['iit', 'indore', 'CSE']"
      ],
      "execution_count": 44,
      "outputs": []
    },
    {
      "cell_type": "code",
      "metadata": {
        "colab": {
          "base_uri": "https://localhost:8080/"
        },
        "id": "axx5wRK38nca",
        "outputId": "b8746105-e339-41c1-ce2f-1494d5b6d3b6"
      },
      "source": [
        "#Get the value of the first array item.\n",
        "\n",
        "x = college[0]\n",
        "print(x)"
      ],
      "execution_count": 45,
      "outputs": [
        {
          "output_type": "stream",
          "text": [
            "iit\n"
          ],
          "name": "stdout"
        }
      ]
    },
    {
      "cell_type": "code",
      "metadata": {
        "colab": {
          "base_uri": "https://localhost:8080/"
        },
        "id": "f7qrUilh8_Uo",
        "outputId": "d2b571d0-af5f-4b0f-c1b3-16587e838a8d"
      },
      "source": [
        "#Modify\n",
        "college[0] = 'iiti'\n",
        "\n",
        "print(college[0])"
      ],
      "execution_count": 46,
      "outputs": [
        {
          "output_type": "stream",
          "text": [
            "iiti\n"
          ],
          "name": "stdout"
        }
      ]
    },
    {
      "cell_type": "code",
      "metadata": {
        "colab": {
          "base_uri": "https://localhost:8080/"
        },
        "id": "LEL3sBpK9iUn",
        "outputId": "4d6c4c98-d1cc-47d2-90fe-325021504a4a"
      },
      "source": [
        "#Length of Array\n",
        "print(len(college))"
      ],
      "execution_count": 47,
      "outputs": [
        {
          "output_type": "stream",
          "text": [
            "3\n"
          ],
          "name": "stdout"
        }
      ]
    },
    {
      "cell_type": "code",
      "metadata": {
        "colab": {
          "base_uri": "https://localhost:8080/"
        },
        "id": "OU7Fomz3942g",
        "outputId": "1be70816-5791-4e1a-85d9-e28bfc70755a"
      },
      "source": [
        "#Looping Array\n",
        "for x in college:\n",
        "  print(x)"
      ],
      "execution_count": 48,
      "outputs": [
        {
          "output_type": "stream",
          "text": [
            "iiti\n",
            "indore\n",
            "CSE\n"
          ],
          "name": "stdout"
        }
      ]
    },
    {
      "cell_type": "code",
      "metadata": {
        "colab": {
          "base_uri": "https://localhost:8080/"
        },
        "id": "fcG3VyQqADIu",
        "outputId": "a844e146-877d-4a0b-a949-12fb45797a94"
      },
      "source": [
        "#Adding element in Array using append method.\n",
        "college.append('MS')\n",
        "print(college)"
      ],
      "execution_count": 49,
      "outputs": [
        {
          "output_type": "stream",
          "text": [
            "['iiti', 'indore', 'CSE', 'MS']\n"
          ],
          "name": "stdout"
        }
      ]
    },
    {
      "cell_type": "code",
      "metadata": {
        "colab": {
          "base_uri": "https://localhost:8080/"
        },
        "id": "Wp4cfnbhA5lX",
        "outputId": "ae8159be-6a46-4a5e-d0ee-4f8918dac9e3"
      },
      "source": [
        "#Removing the Array elements using pop() and remove() method.\n",
        "college.pop(3)\n",
        "print(college)"
      ],
      "execution_count": 50,
      "outputs": [
        {
          "output_type": "stream",
          "text": [
            "['iiti', 'indore', 'CSE']\n"
          ],
          "name": "stdout"
        }
      ]
    },
    {
      "cell_type": "code",
      "metadata": {
        "colab": {
          "base_uri": "https://localhost:8080/"
        },
        "id": "lyIRAYFnBmBk",
        "outputId": "2a868ad6-15df-4808-bdd2-7735fb278532"
      },
      "source": [
        "college.append('MS')\n",
        "print(college)"
      ],
      "execution_count": 51,
      "outputs": [
        {
          "output_type": "stream",
          "text": [
            "['iiti', 'indore', 'CSE', 'MS']\n"
          ],
          "name": "stdout"
        }
      ]
    },
    {
      "cell_type": "code",
      "metadata": {
        "colab": {
          "base_uri": "https://localhost:8080/"
        },
        "id": "7v7f8IP_BcXR",
        "outputId": "baa790c5-8787-4d74-a881-73011bbc48b9"
      },
      "source": [
        "college.remove('MS')\n",
        "print(college)"
      ],
      "execution_count": 52,
      "outputs": [
        {
          "output_type": "stream",
          "text": [
            "['iiti', 'indore', 'CSE']\n"
          ],
          "name": "stdout"
        }
      ]
    },
    {
      "cell_type": "code",
      "metadata": {
        "colab": {
          "base_uri": "https://localhost:8080/",
          "height": 52
        },
        "id": "mzUZWHZVBnXr",
        "outputId": "8ae1fd0b-477e-4d97-b519-6d6137967233"
      },
      "source": [
        "#Python Classes and Objects\n",
        "'''\n",
        "Python is an object oriented programming language.\n",
        "\n",
        "Almost everything in Python is an object, with its properties and methods.\n",
        "\n",
        "A Class is like an object constructor, or a \"blueprint\" for creating objects.\n",
        "'''"
      ],
      "execution_count": 53,
      "outputs": [
        {
          "output_type": "execute_result",
          "data": {
            "application/vnd.google.colaboratory.intrinsic+json": {
              "type": "string"
            },
            "text/plain": [
              "'\\nPython is an object oriented programming language.\\n\\nAlmost everything in Python is an object, with its properties and methods.\\n\\nA Class is like an object constructor, or a \"blueprint\" for creating objects.\\n'"
            ]
          },
          "metadata": {
            "tags": []
          },
          "execution_count": 53
        }
      ]
    },
    {
      "cell_type": "code",
      "metadata": {
        "colab": {
          "base_uri": "https://localhost:8080/"
        },
        "id": "5RkQSst0FI45",
        "outputId": "c15556c3-111c-4d1b-8c84-b2b77fbf7aca"
      },
      "source": [
        "#Creating Class and Objects.\n",
        "\n",
        "class myClass:\n",
        "  x=10\n",
        "\n",
        "#Object\n",
        "ob1= myClass()\n",
        "print(ob1.x)"
      ],
      "execution_count": 54,
      "outputs": [
        {
          "output_type": "stream",
          "text": [
            "10\n"
          ],
          "name": "stdout"
        }
      ]
    },
    {
      "cell_type": "code",
      "metadata": {
        "colab": {
          "base_uri": "https://localhost:8080/"
        },
        "id": "csLJl6yXHPdz",
        "outputId": "d82c5137-d93b-48a0-c18e-572fd867b488"
      },
      "source": [
        "#The __init__() Function\n",
        "#All classes have a function called __init__(), which is always executed when the class is being initiated.\n",
        "\n",
        "class college:\n",
        "  def __init__(self, college_name, location):\n",
        "    self.college_name = college_name\n",
        "    self.location = location\n",
        "\n",
        "ob2 = college('IIT', 'Indore')\n",
        "print(ob2.college_name)\n",
        "print(ob2.location)\n",
        "\n",
        "#The __init__() function is called automatically every time the class is being used to create a new object."
      ],
      "execution_count": 55,
      "outputs": [
        {
          "output_type": "stream",
          "text": [
            "IIT\n",
            "Indore\n"
          ],
          "name": "stdout"
        }
      ]
    },
    {
      "cell_type": "code",
      "metadata": {
        "colab": {
          "base_uri": "https://localhost:8080/"
        },
        "id": "OdWUw4GiJMOd",
        "outputId": "f17d531a-7d39-4807-e87c-5a598647b5b9"
      },
      "source": [
        "#Objects methods\n",
        "class college:\n",
        "  def __init__(self, college_name, location):\n",
        "    self.college_name = college_name\n",
        "    self.location = location\n",
        "\n",
        "  def mycollege(self):\n",
        "    print('College name is: ' + self.college_name, self.location)\n",
        "\n",
        "\n",
        "ob2 = college('IIT', 'Indore')\n",
        "ob2.mycollege()\n",
        "\n",
        "# The self parameter is a reference to the current instance of the class, and is used to access variables that belong to the class.\n",
        "#It does not have to be named self , you can call it whatever you like, but it has to be the first parameter of any function in the class."
      ],
      "execution_count": 56,
      "outputs": [
        {
          "output_type": "stream",
          "text": [
            "College name is: IIT Indore\n"
          ],
          "name": "stdout"
        }
      ]
    },
    {
      "cell_type": "code",
      "metadata": {
        "colab": {
          "base_uri": "https://localhost:8080/"
        },
        "id": "SUgwgW6CKP11",
        "outputId": "0a02274c-4caa-4cf5-d920-2d6b3023fb6a"
      },
      "source": [
        "#Modify properties of objects:\n",
        "ob2.college_name = 'IITI'\n",
        "print(ob2.college_name)\n",
        "\n",
        "#Delete object properties.\n",
        "del ob2.location\n",
        "#print(ob2.location)  Gives error."
      ],
      "execution_count": 57,
      "outputs": [
        {
          "output_type": "stream",
          "text": [
            "IITI\n"
          ],
          "name": "stdout"
        }
      ]
    },
    {
      "cell_type": "code",
      "metadata": {
        "id": "z2bquSSeLtGp"
      },
      "source": [
        "#Delete object\n",
        "del ob1\n",
        "\n",
        "#The pass Statement\n",
        "'''\n",
        "class definitions cannot be empty, but if you for some reason have a class definition with no content, \n",
        "put in the pass statement to avoid getting an error.\n",
        "\n",
        "'''\n",
        "class Myclass:\n",
        "  pass"
      ],
      "execution_count": 58,
      "outputs": []
    }
  ]
}