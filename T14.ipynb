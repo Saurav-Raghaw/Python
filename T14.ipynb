{
  "nbformat": 4,
  "nbformat_minor": 0,
  "metadata": {
    "colab": {
      "name": "T14.ipynb",
      "provenance": [],
      "authorship_tag": "ABX9TyPqrPzF73oYm3C3FC75khbK",
      "include_colab_link": true
    },
    "kernelspec": {
      "name": "python3",
      "display_name": "Python 3"
    },
    "language_info": {
      "name": "python"
    }
  },
  "cells": [
    {
      "cell_type": "markdown",
      "metadata": {
        "id": "view-in-github",
        "colab_type": "text"
      },
      "source": [
        "<a href=\"https://colab.research.google.com/github/Saurav-Raghaw/Python/blob/main/T14.ipynb\" target=\"_parent\"><img src=\"https://colab.research.google.com/assets/colab-badge.svg\" alt=\"Open In Colab\"/></a>"
      ]
    },
    {
      "cell_type": "code",
      "metadata": {
        "id": "qyahb4a3SKiF"
      },
      "source": [
        "##########_______Python User Input_______#########"
      ],
      "execution_count": 15,
      "outputs": []
    },
    {
      "cell_type": "code",
      "metadata": {
        "colab": {
          "base_uri": "https://localhost:8080/"
        },
        "id": "uHontyhAjk4o",
        "outputId": "3a7cbc7a-da89-4931-8409-7630f31b7553"
      },
      "source": [
        "name = input(\"name:\") #Python 3.7\n",
        "print(\"name is: \" + name)"
      ],
      "execution_count": 16,
      "outputs": [
        {
          "output_type": "stream",
          "text": [
            "name:saurav\n",
            "name is: saurav\n"
          ],
          "name": "stdout"
        }
      ]
    },
    {
      "cell_type": "code",
      "metadata": {
        "colab": {
          "base_uri": "https://localhost:8080/"
        },
        "id": "JWxCY0qPkcVH",
        "outputId": "e398afd6-01c8-45be-b63f-819d53fd1d93"
      },
      "source": [
        "# String Formatting/ Placeholders.\n",
        "#Sometimes there are parts of a text that you do not control, maybe they come from a database, or user input.\n",
        "\n",
        "year = 2020\n",
        "msg = '{} is the lesson for all mankind.'\n",
        "print(msg.format(year))\n",
        "\n",
        "# {:.2f} displayed as a number with two decimal."
      ],
      "execution_count": 17,
      "outputs": [
        {
          "output_type": "stream",
          "text": [
            "2020 is the lesson for all mankind.\n"
          ],
          "name": "stdout"
        }
      ]
    },
    {
      "cell_type": "code",
      "metadata": {
        "colab": {
          "base_uri": "https://localhost:8080/"
        },
        "id": "NERjAWqQmD6O",
        "outputId": "2187547c-b825-475f-a58c-c7f38d96ab22"
      },
      "source": [
        "#Adding more values to the format method().\n",
        "\n",
        "year = 2019\n",
        "month = 'December'\n",
        "origin = 'China'\n",
        "\n",
        "msg = 'Covid-19 pandemic spread to all over the world in {}, {} from {}.'\n",
        "print(msg.format(month, year, origin))"
      ],
      "execution_count": 18,
      "outputs": [
        {
          "output_type": "stream",
          "text": [
            "Covid-19 pandemic spread to all over the world in December, 2019 from China.\n"
          ],
          "name": "stdout"
        }
      ]
    },
    {
      "cell_type": "code",
      "metadata": {
        "colab": {
          "base_uri": "https://localhost:8080/"
        },
        "id": "FwFCV-b7nhSI",
        "outputId": "11ba8fd2-f99c-4b8f-d066-de6d0ebc7c19"
      },
      "source": [
        "#We can use index numbers (a number inside the curly brackets {0}) to be sure the values are placed in the correct placeholders.\n",
        "year = 2019\n",
        "month = 'December'\n",
        "origin = 'China'\n",
        "\n",
        "msg = 'Covid-19 pandemic spread to all over the world in {1}, {0} from {2}.'\n",
        "print(msg.format(year, month, origin)) #Result 'll be displayed according to the index."
      ],
      "execution_count": 19,
      "outputs": [
        {
          "output_type": "stream",
          "text": [
            "Covid-19 pandemic spread to all over the world in December, 2019 from China.\n"
          ],
          "name": "stdout"
        }
      ]
    },
    {
      "cell_type": "code",
      "metadata": {
        "colab": {
          "base_uri": "https://localhost:8080/"
        },
        "id": "G-82--Q8oBqN",
        "outputId": "94a695c0-c037-43af-b4bc-9bbabbcf3477"
      },
      "source": [
        "#If we want to refer to the same value more than once, use the index number.\n",
        "year = 2019\n",
        "month = 'December'\n",
        "origin = 'China'\n",
        "\n",
        "msg = 'Covid-19 pandemic spread to all over the world in {2} {1}, {0} from {2}.'\n",
        "print(msg.format(year, month, origin))"
      ],
      "execution_count": 20,
      "outputs": [
        {
          "output_type": "stream",
          "text": [
            "Covid-19 pandemic spread to all over the world in China December, 2019 from China.\n"
          ],
          "name": "stdout"
        }
      ]
    },
    {
      "cell_type": "code",
      "metadata": {
        "colab": {
          "base_uri": "https://localhost:8080/"
        },
        "id": "_G87XwZOqaAM",
        "outputId": "3162717c-674d-4e65-fb7a-5110e9742647"
      },
      "source": [
        "#We can also use named indexes by entering a name inside the curly brackets, \n",
        "#but then we must use names when we pass the parameter values.\n",
        "\n",
        "msg = 'Covid-19 pandemic spread to all over the world in {month}, {year} from {origin}.'\n",
        "print(msg.format(year=2019, month='December', origin='China'))"
      ],
      "execution_count": 21,
      "outputs": [
        {
          "output_type": "stream",
          "text": [
            "Covid-19 pandemic spread to all over the world in December, 2019 from China.\n"
          ],
          "name": "stdout"
        }
      ]
    },
    {
      "cell_type": "code",
      "metadata": {
        "id": "PndJ2GIjsCjr"
      },
      "source": [
        "#####____Try Except____######\n",
        "\n",
        "'''\n",
        "The try block lets you test a block of code for errors.\n",
        "\n",
        "The except block lets you handle the error.\n",
        "\n",
        "The finally block lets you execute code, regardless of the result of the try- and except blocks.\n",
        "\n",
        "'''"
      ],
      "execution_count": null,
      "outputs": []
    },
    {
      "cell_type": "code",
      "metadata": {
        "colab": {
          "base_uri": "https://localhost:8080/"
        },
        "id": "6AZbMHNItnuD",
        "outputId": "355648ef-9733-47f5-c86e-6ac8f3f3474f"
      },
      "source": [
        "#The try block will generate an exception, because x is not defined:\n",
        "\n",
        "try:\n",
        "  print(x)\n",
        "except:\n",
        "  print(\"An exception occurred\")"
      ],
      "execution_count": 22,
      "outputs": [
        {
          "output_type": "stream",
          "text": [
            "An exception occurred\n"
          ],
          "name": "stdout"
        }
      ]
    },
    {
      "cell_type": "code",
      "metadata": {
        "colab": {
          "base_uri": "https://localhost:8080/"
        },
        "id": "wpFNBFgxvBk1",
        "outputId": "435f96b3-7463-49b0-b762-c89ae2c38e80"
      },
      "source": [
        "#We can define as many exception blocks as we want.\n",
        "\n",
        "#Print one message if the try block raises a NameError and another for other errors.\n",
        "\n",
        "try:\n",
        "  print(x)\n",
        "except NameError:\n",
        "  print(\"Variable x is not defined\")\n",
        "except:\n",
        "  print(\"Something else went wrong\")"
      ],
      "execution_count": 23,
      "outputs": [
        {
          "output_type": "stream",
          "text": [
            "Variable x is not defined\n"
          ],
          "name": "stdout"
        }
      ]
    },
    {
      "cell_type": "code",
      "metadata": {
        "colab": {
          "base_uri": "https://localhost:8080/"
        },
        "id": "_x9pnFWbwFZA",
        "outputId": "bb57dc06-f4b4-4bcf-8027-117123092a8a"
      },
      "source": [
        "#You can use the else keyword to define a block of code to be executed if no errors were raised:\n",
        "\n",
        "try:\n",
        "  print(\"Hello\")\n",
        "except:\n",
        "  print(\"Something went wrong\")\n",
        "else:\n",
        "  print(\"Nothing went wrong\")"
      ],
      "execution_count": 24,
      "outputs": [
        {
          "output_type": "stream",
          "text": [
            "Hello\n",
            "Nothing went wrong\n"
          ],
          "name": "stdout"
        }
      ]
    },
    {
      "cell_type": "code",
      "metadata": {
        "colab": {
          "base_uri": "https://localhost:8080/"
        },
        "id": "GhwYNjmmwmoH",
        "outputId": "b17ec75b-ff68-4210-fee0-29c0646b9809"
      },
      "source": [
        "#The finally block, if specified, will be executed regardless if the try block raises an error or not.\n",
        "\n",
        "try:\n",
        "  print(x)\n",
        "except:\n",
        "  print(\"Something went wrong\")\n",
        "finally:\n",
        "  print(\"The 'try except' is finished\")"
      ],
      "execution_count": 25,
      "outputs": [
        {
          "output_type": "stream",
          "text": [
            "Something went wrong\n",
            "The 'try except' is finished\n"
          ],
          "name": "stdout"
        }
      ]
    },
    {
      "cell_type": "code",
      "metadata": {
        "id": "ILdXkt_Jx2xo"
      },
      "source": [
        "#Finally block can be useful to close objects and clean up resources."
      ],
      "execution_count": 27,
      "outputs": []
    },
    {
      "cell_type": "code",
      "metadata": {
        "colab": {
          "base_uri": "https://localhost:8080/",
          "height": 197
        },
        "id": "53l92o0syOUv",
        "outputId": "a43f3377-5a12-4dc2-ef96-ec458ee0c6e3"
      },
      "source": [
        "#Raise an exception\n",
        "#To throw (or raise) an exception, we will use the raise keyword.\n",
        "#Raise an error and stop the program if x is lower than 0:\n",
        "\n",
        "x = -1\n",
        "\n",
        "if x < 0:\n",
        "  raise Exception(\"Sorry, no numbers below zero\")"
      ],
      "execution_count": 30,
      "outputs": [
        {
          "output_type": "error",
          "ename": "Exception",
          "evalue": "ignored",
          "traceback": [
            "\u001b[0;31m---------------------------------------------------------------------------\u001b[0m",
            "\u001b[0;31mException\u001b[0m                                 Traceback (most recent call last)",
            "\u001b[0;32m<ipython-input-30-140217e2998a>\u001b[0m in \u001b[0;36m<module>\u001b[0;34m()\u001b[0m\n\u001b[1;32m      6\u001b[0m \u001b[0;34m\u001b[0m\u001b[0m\n\u001b[1;32m      7\u001b[0m \u001b[0;32mif\u001b[0m \u001b[0mx\u001b[0m \u001b[0;34m<\u001b[0m \u001b[0;36m0\u001b[0m\u001b[0;34m:\u001b[0m\u001b[0;34m\u001b[0m\u001b[0;34m\u001b[0m\u001b[0m\n\u001b[0;32m----> 8\u001b[0;31m   \u001b[0;32mraise\u001b[0m \u001b[0mException\u001b[0m\u001b[0;34m(\u001b[0m\u001b[0;34m\"Sorry, no numbers below zero\"\u001b[0m\u001b[0;34m)\u001b[0m\u001b[0;34m\u001b[0m\u001b[0;34m\u001b[0m\u001b[0m\n\u001b[0m",
            "\u001b[0;31mException\u001b[0m: Sorry, no numbers below zero"
          ]
        }
      ]
    },
    {
      "cell_type": "code",
      "metadata": {
        "colab": {
          "base_uri": "https://localhost:8080/",
          "height": 197
        },
        "id": "m42SxSIOzFmQ",
        "outputId": "df319a69-d3a4-4402-fd32-6c8dffb5355d"
      },
      "source": [
        "#Raise a TypeError if x is not an integer.\n",
        "\n",
        "x = \"hello\"\n",
        "\n",
        "if not type(x) is int:\n",
        "  raise TypeError(\"Only integers are allowed\")"
      ],
      "execution_count": 31,
      "outputs": [
        {
          "output_type": "error",
          "ename": "TypeError",
          "evalue": "ignored",
          "traceback": [
            "\u001b[0;31m---------------------------------------------------------------------------\u001b[0m",
            "\u001b[0;31mTypeError\u001b[0m                                 Traceback (most recent call last)",
            "\u001b[0;32m<ipython-input-31-d9e7e348be0e>\u001b[0m in \u001b[0;36m<module>\u001b[0;34m()\u001b[0m\n\u001b[1;32m      4\u001b[0m \u001b[0;34m\u001b[0m\u001b[0m\n\u001b[1;32m      5\u001b[0m \u001b[0;32mif\u001b[0m \u001b[0;32mnot\u001b[0m \u001b[0mtype\u001b[0m\u001b[0;34m(\u001b[0m\u001b[0mx\u001b[0m\u001b[0;34m)\u001b[0m \u001b[0;32mis\u001b[0m \u001b[0mint\u001b[0m\u001b[0;34m:\u001b[0m\u001b[0;34m\u001b[0m\u001b[0;34m\u001b[0m\u001b[0m\n\u001b[0;32m----> 6\u001b[0;31m   \u001b[0;32mraise\u001b[0m \u001b[0mTypeError\u001b[0m\u001b[0;34m(\u001b[0m\u001b[0;34m\"Only integers are allowed\"\u001b[0m\u001b[0;34m)\u001b[0m\u001b[0;34m\u001b[0m\u001b[0;34m\u001b[0m\u001b[0m\n\u001b[0m",
            "\u001b[0;31mTypeError\u001b[0m: Only integers are allowed"
          ]
        }
      ]
    }
  ]
}