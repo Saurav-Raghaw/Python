{
  "nbformat": 4,
  "nbformat_minor": 0,
  "metadata": {
    "colab": {
      "name": "NumPy_6.ipynb",
      "provenance": [],
      "authorship_tag": "ABX9TyNOFBRswWDTPPyBwOjD/NkN",
      "include_colab_link": true
    },
    "kernelspec": {
      "name": "python3",
      "display_name": "Python 3"
    },
    "language_info": {
      "name": "python"
    }
  },
  "cells": [
    {
      "cell_type": "markdown",
      "metadata": {
        "id": "view-in-github",
        "colab_type": "text"
      },
      "source": [
        "<a href=\"https://colab.research.google.com/github/Saurav-Raghaw/Python/blob/main/NumPy_6.ipynb\" target=\"_parent\"><img src=\"https://colab.research.google.com/assets/colab-badge.svg\" alt=\"Open In Colab\"/></a>"
      ]
    },
    {
      "cell_type": "code",
      "metadata": {
        "colab": {
          "base_uri": "https://localhost:8080/",
          "height": 52
        },
        "id": "la5A4ChD2WTt",
        "outputId": "2250b787-6d87-4122-b25e-bf57e9d20943"
      },
      "source": [
        "#Binomial Distribution\n",
        "\n",
        "#Binomial Distribution is a Discrete Distribution.\n",
        "\n",
        "#random.binomial()\n",
        "'''\n",
        "It has three parameters:from numpy import random\n",
        "\n",
        "n - number of trials.\n",
        "\n",
        "p - probability of occurence of each trial (e.g. for toss of a coin 0.5 each).\n",
        "\n",
        "size - The shape of the returned array.\n",
        "\n",
        "'''"
      ],
      "execution_count": 2,
      "outputs": [
        {
          "output_type": "execute_result",
          "data": {
            "application/vnd.google.colaboratory.intrinsic+json": {
              "type": "string"
            },
            "text/plain": [
              "'\\nIt has three parameters:from numpy import random\\n\\nn - number of trials.\\n\\np - probability of occurence of each trial (e.g. for toss of a coin 0.5 each).\\n\\nsize - The shape of the returned array.\\n\\n'"
            ]
          },
          "metadata": {
            "tags": []
          },
          "execution_count": 2
        }
      ]
    },
    {
      "cell_type": "code",
      "metadata": {
        "id": "n1G7K6323mX-"
      },
      "source": [
        "from numpy import random"
      ],
      "execution_count": 1,
      "outputs": []
    },
    {
      "cell_type": "code",
      "metadata": {
        "colab": {
          "base_uri": "https://localhost:8080/"
        },
        "id": "G-jw_vfB4ZLm",
        "outputId": "aba0e8b2-ff76-4bf5-eb12-a871d42b337b"
      },
      "source": [
        "#Given 10 trials for coin toss generate 10 data points:\n",
        "\n",
        "x = random.binomial(n=10, p=0.5, size=10)\n",
        "print(x)"
      ],
      "execution_count": 3,
      "outputs": [
        {
          "output_type": "stream",
          "text": [
            "[5 2 2 7 5 6 3 6 5 6]\n"
          ],
          "name": "stdout"
        }
      ]
    },
    {
      "cell_type": "code",
      "metadata": {
        "colab": {
          "base_uri": "https://localhost:8080/",
          "height": 369
        },
        "id": "SMHUqZJP4yJC",
        "outputId": "da3579ca-fcf7-486b-a5d4-22076086fe29"
      },
      "source": [
        "#Visualization of Binomial Distribution\n",
        "import matplotlib.pyplot as plt\n",
        "import seaborn as sns\n",
        "\n",
        "sns.displot(random.binomial(n=10, p=0.5, size=1000))\n",
        "plt.show()"
      ],
      "execution_count": 7,
      "outputs": [
        {
          "output_type": "display_data",
          "data": {
            "image/png": "[encoded data removed]",
            "text/plain": [
              "<Figure size 360x360 with 1 Axes>"
            ]
          },
          "metadata": {
            "tags": [],
            "needs_background": "light"
          }
        }
      ]
    },
    {
      "cell_type": "code",
      "metadata": {
        "id": "oZ4zKBT964ay"
      },
      "source": [
        "#The main difference is that normal distribution is continous whereas binomial is discrete, \n",
        "#but if there are enough data points it will be quite similar to normal distribution with certain loc and scale."
      ],
      "execution_count": null,
      "outputs": []
    },
    {
      "cell_type": "code",
      "metadata": {
        "id": "qBdeZqNp7vFE"
      },
      "source": [
        "#Poisson Distribution\n",
        "'''\n",
        "It estimates how many times an event can happen in a specified time. e.g. If someone eats twice a day what is probability he will eat thrice?\n",
        "\n",
        "It has two parameters:\n",
        "\n",
        "lam - rate or known number of occurences e.g. 2 for above problem.\n",
        "\n",
        "size - The shape of the returned array.\n",
        "'''"
      ],
      "execution_count": null,
      "outputs": []
    },
    {
      "cell_type": "code",
      "metadata": {
        "colab": {
          "base_uri": "https://localhost:8080/"
        },
        "id": "jA273G--75EA",
        "outputId": "a3203d46-2f23-42d1-a5af-db6f4cc4d8b5"
      },
      "source": [
        "x = random.poisson(lam=2, size=10)\n",
        "\n",
        "print(x)"
      ],
      "execution_count": 8,
      "outputs": [
        {
          "output_type": "stream",
          "text": [
            "[2 3 3 1 4 1 1 3 2 3]\n"
          ],
          "name": "stdout"
        }
      ]
    },
    {
      "cell_type": "code",
      "metadata": {
        "colab": {
          "base_uri": "https://localhost:8080/",
          "height": 369
        },
        "id": "fdOk0inn78Y_",
        "outputId": "e6bafe0a-f8c7-4cdb-c9e1-050c4e01ae7e"
      },
      "source": [
        "sns.displot(random.poisson(lam=2, size=1000))\n",
        "\n",
        "plt.show()"
      ],
      "execution_count": 9,
      "outputs": [
        {
          "output_type": "display_data",
          "data": {
            "image/png": "[encoded data removed]",
            "text/plain": [
              "<Figure size 360x360 with 1 Axes>"
            ]
          },
          "metadata": {
            "tags": [],
            "needs_background": "light"
          }
        }
      ]
    },
    {
      "cell_type": "code",
      "metadata": {
        "id": "tLF2a33r8s8i"
      },
      "source": [
        "#Uniform Distribution\n",
        "#Used to describe probability where every event has equal chances of occuring.\n",
        "\n",
        "'''\n",
        "It has three parameters:\n",
        "\n",
        "a - lower bound - default 0 .0.\n",
        "\n",
        "b - upper bound - default 1.0.\n",
        "\n",
        "size - The shape of the returned array.\n",
        "'''"
      ],
      "execution_count": null,
      "outputs": []
    },
    {
      "cell_type": "code",
      "metadata": {
        "colab": {
          "base_uri": "https://localhost:8080/"
        },
        "id": "FMAopJMW9wYc",
        "outputId": "65f41288-b9f1-4269-f8ca-bad96335805f"
      },
      "source": [
        "x = random.uniform(size=(2, 3))\n",
        "\n",
        "print(x)"
      ],
      "execution_count": 13,
      "outputs": [
        {
          "output_type": "stream",
          "text": [
            "[[0.76826823 0.31673538 0.17286093]\n",
            " [0.04215334 0.13710563 0.86050742]]\n"
          ],
          "name": "stdout"
        }
      ]
    },
    {
      "cell_type": "code",
      "metadata": {
        "colab": {
          "base_uri": "https://localhost:8080/",
          "height": 369
        },
        "id": "Ln74hjeM9wTn",
        "outputId": "75f5a549-951a-4fd7-cf0e-9a4ae1a6b7ae"
      },
      "source": [
        "sns.displot(random.uniform(size=1000))\n",
        "\n",
        "plt.show()"
      ],
      "execution_count": 12,
      "outputs": [
        {
          "output_type": "display_data",
          "data": {
            "image/png": "[encoded data removed]",
            "text/plain": [
              "<Figure size 360x360 with 1 Axes>"
            ]
          },
          "metadata": {
            "tags": [],
            "needs_background": "light"
          }
        }
      ]
    },
    {
      "cell_type": "code",
      "metadata": {
        "colab": {
          "base_uri": "https://localhost:8080/"
        },
        "id": "KxbgsDzh_aTJ",
        "outputId": "e9285755-e8a3-4c04-c028-ca9a46fadfae"
      },
      "source": [
        "#Logistic Distribution\n",
        "#Logistic Distribution is used to describe growth.\n",
        "\n",
        "'''\n",
        "It has three parameters:\n",
        "\n",
        "loc - mean, where the peak is. Default 0.\n",
        "\n",
        "scale - standard deviation, the flatness of distribution. Default 1.\n",
        "\n",
        "size - The shape of the returned array.\n",
        "\n",
        "'''\n",
        "\n",
        "#Drawing 2x3 samples from a logistic distribution with mean at 1 and stddev 2.0.\n",
        "\n",
        "x = random.logistic(loc=1, scale=2, size=(2, 3))\n",
        "\n",
        "print(x)"
      ],
      "execution_count": 14,
      "outputs": [
        {
          "output_type": "stream",
          "text": [
            "[[-0.68570471  4.8725636  -5.19069112]\n",
            " [-4.71060684  1.46263048  1.78373154]]\n"
          ],
          "name": "stdout"
        }
      ]
    },
    {
      "cell_type": "code",
      "metadata": {
        "colab": {
          "base_uri": "https://localhost:8080/",
          "height": 369
        },
        "id": "dzIwXgQMAk_B",
        "outputId": "b4f32e3d-23a7-4ac9-f4de-a9b57441682a"
      },
      "source": [
        "sns.displot(random.logistic(size=1000))\n",
        "\n",
        "plt.show()"
      ],
      "execution_count": 16,
      "outputs": [
        {
          "output_type": "display_data",
          "data": {
            "image/png": "[encoded data removed]",
            "text/plain": [
              "<Figure size 360x360 with 1 Axes>"
            ]
          },
          "metadata": {
            "tags": [],
            "needs_background": "light"
          }
        }
      ]
    },
    {
      "cell_type": "code",
      "metadata": {
        "id": "CDvbcacXBB-H"
      },
      "source": [
        "#Difference Between Logistic and Normal Distribution\n",
        "#Both distributions are near identical, but logistic distribution has more area under the tails. \n",
        "#It representage more possibility of occurence of an events further away from mean."
      ],
      "execution_count": null,
      "outputs": []
    }
  ]
}