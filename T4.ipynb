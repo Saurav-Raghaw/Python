{
  "nbformat": 4,
  "nbformat_minor": 0,
  "metadata": {
    "colab": {
      "name": "T4.ipynb",
      "provenance": [],
      "authorship_tag": "ABX9TyMRMXgU4Gji0NmaSzZlv6yV",
      "include_colab_link": true
    },
    "kernelspec": {
      "name": "python3",
      "display_name": "Python 3"
    },
    "language_info": {
      "name": "python"
    }
  },
  "cells": [
    {
      "cell_type": "markdown",
      "metadata": {
        "id": "view-in-github",
        "colab_type": "text"
      },
      "source": [
        "<a href=\"https://colab.research.google.com/github/Saurav-Raghaw/Python/blob/main/T4.ipynb\" target=\"_parent\"><img src=\"https://colab.research.google.com/assets/colab-badge.svg\" alt=\"Open In Colab\"/></a>"
      ]
    },
    {
      "cell_type": "code",
      "metadata": {
        "colab": {
          "base_uri": "https://localhost:8080/"
        },
        "id": "bodFwFYxq9XS",
        "outputId": "b77fde5d-bd8e-4555-9f5e-e1786747a826"
      },
      "source": [
        "# isinstance() function, which can be used to determine if an object is of a certain data type:\n",
        "\n",
        "#Check if an object is an integer or not:\n",
        "\n",
        "x = 200\n",
        "print(isinstance(x, int))"
      ],
      "execution_count": 1,
      "outputs": [
        {
          "output_type": "stream",
          "text": [
            "True\n"
          ],
          "name": "stdout"
        }
      ]
    },
    {
      "cell_type": "code",
      "metadata": {
        "colab": {
          "base_uri": "https://localhost:8080/"
        },
        "id": "xkTXU9O8vtJh",
        "outputId": "46d6129a-17ff-4e64-b316-ce3bb719b54f"
      },
      "source": [
        "#Arithmetic Operators\n",
        "\n",
        "'''\n",
        "**\tExponentiation\tx ** y\t\n",
        "//\tFloor division\tx // y\n",
        "\n",
        "'''\n",
        "print(2**4)\n",
        "print(3 // 2)"
      ],
      "execution_count": 3,
      "outputs": [
        {
          "output_type": "stream",
          "text": [
            "16\n",
            "1\n"
          ],
          "name": "stdout"
        }
      ]
    },
    {
      "cell_type": "code",
      "metadata": {
        "colab": {
          "base_uri": "https://localhost:8080/"
        },
        "id": "nvCf_zWIwWr9",
        "outputId": "305837b5-54f7-4502-a1a0-09cff8785589"
      },
      "source": [
        "#Logical Operators\n",
        "\n",
        "'''\n",
        "and \tReturns True if both statements are true\t\n",
        "\n",
        "or\tReturns True if one of the statements is true\t\n",
        "\n",
        "not\tReverse the result, returns False if the result is true\n",
        "\n",
        "'''\n",
        "\n",
        "#Identity Operators\n",
        "\n",
        "'''\n",
        "is \tReturns True if both variables are the same object\tx is y\t\n",
        "\n",
        "is not\tReturns True if both variables are not the same object\tx is not y\n",
        "\n",
        "'''\n",
        "\n",
        "x = [\"apple\", \"banana\"]\n",
        "y = [\"apple\", \"banana\"]\n",
        "z = x\n",
        "\n",
        "print(x is z)\n",
        "\n",
        "# returns True because z is the same object as x\n",
        "\n",
        "print(x is y)\n",
        "\n",
        "# returns False because x is not the same object as y, even if they have the same content\n",
        "\n",
        "print(x == y)\n",
        "\n",
        "# to demonstrate the difference betweeen \"is\" and \"==\": this comparison returns True because x is equal to y\n"
      ],
      "execution_count": 7,
      "outputs": [
        {
          "output_type": "stream",
          "text": [
            "True\n",
            "False\n",
            "True\n"
          ],
          "name": "stdout"
        }
      ]
    },
    {
      "cell_type": "code",
      "metadata": {
        "colab": {
          "base_uri": "https://localhost:8080/"
        },
        "id": "v0GnigvvxRF2",
        "outputId": "98e0999a-9d45-4984-c406-0a8e163339fb"
      },
      "source": [
        "#Membership Operators\n",
        "'''\n",
        "in \tReturns True if a sequence with the specified value is present in the object\tx in y\n",
        "\n",
        "not in\tReturns True if a sequence with the specified value is not present in the object  x not in y\n",
        "\n",
        "'''\n",
        "\n",
        "x = [\"IIT\", \"indore\"]\n",
        "\n",
        "print(\"indore\" in x)"
      ],
      "execution_count": 5,
      "outputs": [
        {
          "output_type": "stream",
          "text": [
            "True\n"
          ],
          "name": "stdout"
        }
      ]
    },
    {
      "cell_type": "code",
      "metadata": {
        "colab": {
          "base_uri": "https://localhost:8080/"
        },
        "id": "-oLyNIS9ytA5",
        "outputId": "0e1a8ca5-0528-428b-9493-7fbaefe624f6"
      },
      "source": [
        "#List\n",
        "\n",
        "#4 built-in data types in Python:\n",
        "'''\n",
        "List\n",
        "Dictionary\n",
        "Tuple\n",
        "Set\n",
        "\n",
        "'''\n",
        "#Lists are created using square brackets.\n",
        "\n",
        "thislist = [\"apple\", \"banana\", \"cherry\"]\n",
        "print(thislist)"
      ],
      "execution_count": 9,
      "outputs": [
        {
          "output_type": "stream",
          "text": [
            "['apple', 'banana', 'cherry']\n"
          ],
          "name": "stdout"
        }
      ]
    },
    {
      "cell_type": "code",
      "metadata": {
        "colab": {
          "base_uri": "https://localhost:8080/"
        },
        "id": "F-A-lPzF40cH",
        "outputId": "6ea95d5f-cac4-4e8b-ac1f-0f96cf7ac9fc"
      },
      "source": [
        "#Print the number of items in the list:\n",
        "\n",
        "thislist = [\"apple\", \"banana\", \"cherry\"]\n",
        "print(len(thislist))\n",
        "\n",
        "#List items can be of any data type.\n",
        "#A list can contain different data types.\n",
        "\n",
        "list1 = [\"abc\", 34, True, 40, \"male\"]\n",
        "print(list1)\n",
        "\n",
        "print(type(list1))"
      ],
      "execution_count": 21,
      "outputs": [
        {
          "output_type": "stream",
          "text": [
            "3\n",
            "['abc', 34, True, 40, 'male']\n",
            "<class 'list'>\n"
          ],
          "name": "stdout"
        }
      ]
    },
    {
      "cell_type": "code",
      "metadata": {
        "colab": {
          "base_uri": "https://localhost:8080/"
        },
        "id": "GDfFYv_18DA3",
        "outputId": "a4058cb7-f9e0-4e45-9b04-28401a17509e"
      },
      "source": [
        "#Collections (Arrays)\n",
        "'''\n",
        "There are four collection data types in the Python programming language:\n",
        "\n",
        "List is a collection which is ordered and changeable. Allows duplicate members.\n",
        "Tuple is a collection which is ordered and unchangeable. Allows duplicate members.\n",
        "Set is a collection which is unordered and unindexed. No duplicate members.\n",
        "Dictionary is a collection which is unordered and changeable. No duplicate members.\n",
        "\n",
        "'''\n",
        "\n",
        "#List items are indexed and you can access them by referring to the index number.\n",
        "#Print the second item of the list:\n",
        "\n",
        "thislist = [\"apple\", \"banana\", \"cherry\"]\n",
        "print(thislist[1])"
      ],
      "execution_count": 22,
      "outputs": [
        {
          "output_type": "stream",
          "text": [
            "banana\n"
          ],
          "name": "stdout"
        }
      ]
    },
    {
      "cell_type": "code",
      "metadata": {
        "colab": {
          "base_uri": "https://localhost:8080/"
        },
        "id": "yINqZYe69z_5",
        "outputId": "9f128ec1-8205-40a2-b6c0-8d356abed980"
      },
      "source": [
        "#Return the third, fourth, and fifth item:\n",
        "\n",
        "thislist = [\"apple\", \"banana\", \"cherry\", \"orange\", \"kiwi\", \"melon\", \"mango\"]\n",
        "print(thislist[2:5])\n",
        "\n",
        "#The search will start at index 2 (included) and end at index 5 (not included)."
      ],
      "execution_count": 24,
      "outputs": [
        {
          "output_type": "stream",
          "text": [
            "['cherry', 'orange', 'kiwi']\n"
          ],
          "name": "stdout"
        }
      ]
    },
    {
      "cell_type": "code",
      "metadata": {
        "colab": {
          "base_uri": "https://localhost:8080/"
        },
        "id": "j-keAGTY-QiY",
        "outputId": "4d2a8b08-cade-42a1-9967-3afa4d77d6ba"
      },
      "source": [
        "#Check if \"apple\" is present in the list: in operator.\n",
        "\n",
        "thislist = [\"apple\", \"banana\", \"cherry\"]\n",
        "if \"apple\" in thislist:\n",
        "  print(\"Yes, 'apple' is in the fruits list\")\n",
        "\n",
        "#If you insert more items than you replace, the new items will be inserted where you specified, and the remaining items will move accordingly.\n",
        "#The length of the list will change when the number of items inserted does not match the number of items replaced."
      ],
      "execution_count": 27,
      "outputs": [
        {
          "output_type": "stream",
          "text": [
            "Yes, 'apple' is in the fruits list\n"
          ],
          "name": "stdout"
        }
      ]
    },
    {
      "cell_type": "code",
      "metadata": {
        "colab": {
          "base_uri": "https://localhost:8080/"
        },
        "id": "RXQR5luqI4MM",
        "outputId": "46042483-afab-4ea6-e8ba-76e26ff79cce"
      },
      "source": [
        "#To insert a new list item, without replacing any of the existing values, we can use the insert() method.\n",
        "\n",
        "#The insert() method inserts an item at the specified index:\n",
        "\n",
        "#Insert \"watermelon\" as the third item:\n",
        "\n",
        "thislist = [\"apple\", \"banana\", \"cherry\"]\n",
        "thislist.insert(2, \"watermelon\")\n",
        "print(thislist)\n"
      ],
      "execution_count": 28,
      "outputs": [
        {
          "output_type": "stream",
          "text": [
            "['apple', 'banana', 'watermelon', 'cherry']\n"
          ],
          "name": "stdout"
        }
      ]
    },
    {
      "cell_type": "code",
      "metadata": {
        "colab": {
          "base_uri": "https://localhost:8080/"
        },
        "id": "m1qtEwyQKVfR",
        "outputId": "97a62953-2645-4559-f213-6843e1457d5b"
      },
      "source": [
        "#To add an item to the end of the list, use the append() method.\n",
        "#Using the append() method to append an item:\n",
        "\n",
        "thislist = [\"apple\", \"banana\", \"cherry\"]\n",
        "thislist.append(\"orange\")\n",
        "print(thislist)"
      ],
      "execution_count": 30,
      "outputs": [
        {
          "output_type": "stream",
          "text": [
            "['apple', 'banana', 'cherry', 'orange']\n"
          ],
          "name": "stdout"
        }
      ]
    },
    {
      "cell_type": "code",
      "metadata": {
        "colab": {
          "base_uri": "https://localhost:8080/"
        },
        "id": "NrpdpWW5LVwZ",
        "outputId": "73094802-588c-44b6-a933-203e9df5d5bd"
      },
      "source": [
        "#To append elements from another list to the current list, use the extend() method.\n",
        "\n",
        "#Add the elements of tropical to thislist:\n",
        "\n",
        "thislist = [\"apple\", \"banana\", \"cherry\"]\n",
        "tropical = [\"mango\", \"pineapple\", \"papaya\"]\n",
        "thislist.extend(tropical)\n",
        "print(thislist)\n",
        "\n",
        "#The extend() method does not have to append lists, you can add any iterable object (tuples, sets, dictionaries etc.).\n",
        "\n",
        "#Add elements of a tuple to a list:\n",
        "\n",
        "thislist = [\"apple\", \"banana\", \"cherry\"]\n",
        "thistuple = (\"kiwi\", \"orange\")\n",
        "thislist.extend(thistuple)\n",
        "print(thislist)"
      ],
      "execution_count": 34,
      "outputs": [
        {
          "output_type": "stream",
          "text": [
            "['apple', 'banana', 'cherry', 'mango', 'pineapple', 'papaya']\n",
            "['apple', 'banana', 'cherry', 'kiwi', 'orange']\n"
          ],
          "name": "stdout"
        }
      ]
    },
    {
      "cell_type": "code",
      "metadata": {
        "colab": {
          "base_uri": "https://localhost:8080/"
        },
        "id": "Ptj8_Rj_QvrO",
        "outputId": "0f5b686e-34a8-442f-8c38-c08217ef4528"
      },
      "source": [
        "#The remove() method removes the specified item.\n",
        "\n",
        "#Remove \"banana\":\n",
        "\n",
        "thislist = [\"apple\", \"banana\", \"cherry\"]\n",
        "thislist.remove(\"banana\")\n",
        "print(thislist)\n",
        "\n",
        "#The pop() method removes the specified index.\n",
        "\n",
        "#Remove the second item.\n",
        "\n",
        "thislist = [\"apple\", \"banana\", \"cherry\"]\n",
        "thislist.pop(1)\n",
        "print(thislist)\n",
        "\n",
        "#If you do not specify the index, the pop() method removes the last item.\n",
        "\n",
        "#The del keyword also removes the specified index:\n",
        "\n",
        "#Remove the first item:\n",
        "\n",
        "thislist = [\"apple\", \"banana\", \"cherry\"]\n",
        "del thislist[0]\n",
        "print(thislist)\n",
        "\n",
        "#The del keyword can also delete the list completely.\n",
        "\n",
        "#Delete the entire list:\n",
        "\n",
        "thislist = [\"apple\", \"banana\", \"cherry\"]\n",
        "del thislist"
      ],
      "execution_count": 40,
      "outputs": [
        {
          "output_type": "stream",
          "text": [
            "['apple', 'cherry']\n",
            "['apple', 'cherry']\n",
            "['banana', 'cherry']\n"
          ],
          "name": "stdout"
        }
      ]
    },
    {
      "cell_type": "code",
      "metadata": {
        "colab": {
          "base_uri": "https://localhost:8080/"
        },
        "id": "ZO12P82iS2Ka",
        "outputId": "2428e086-a6c5-4461-b68d-6b5f40a01997"
      },
      "source": [
        "#The clear() method empties the list.\n",
        "\n",
        "#The list still remains, but it has no content.\n",
        "\n",
        "#Clear the list content:\n",
        "\n",
        "thislist = [\"apple\", \"banana\", \"cherry\"]\n",
        "thislist.clear()\n",
        "print(thislist)"
      ],
      "execution_count": 41,
      "outputs": [
        {
          "output_type": "stream",
          "text": [
            "[]\n"
          ],
          "name": "stdout"
        }
      ]
    },
    {
      "cell_type": "code",
      "metadata": {
        "colab": {
          "base_uri": "https://localhost:8080/"
        },
        "id": "8QI1O5CDc2UP",
        "outputId": "518abf4c-0647-4e59-e778-721e5112081d"
      },
      "source": [
        "#Loop Through a List\n",
        "#You can loop through the list items by using a for loop:\n",
        "\n",
        "#Print all items in the list, one by one:\n",
        "\n",
        "thislist = [\"apple\", \"banana\", \"cherry\"]\n",
        "for x in thislist:\n",
        "  print(x)"
      ],
      "execution_count": 42,
      "outputs": [
        {
          "output_type": "stream",
          "text": [
            "apple\n",
            "banana\n",
            "cherry\n"
          ],
          "name": "stdout"
        }
      ]
    },
    {
      "cell_type": "code",
      "metadata": {
        "id": "dtXrXpERjMlu"
      },
      "source": [
        "#You can also loop through the list items by referring to their index number.\n",
        "\n",
        "#Use the range() and len() functions to create a suitable iterable.\n",
        "\n",
        "#Print all items by referring to their index number.\n",
        "\n",
        "thislist = [\"apple\", \"banana\", \"cherry\"]\n",
        "for i in range(len(thislist)):\n",
        "  print(thislist[i])"
      ],
      "execution_count": null,
      "outputs": []
    },
    {
      "cell_type": "code",
      "metadata": {
        "colab": {
          "base_uri": "https://localhost:8080/"
        },
        "id": "Wsxd00n7kJux",
        "outputId": "1e68d6b8-ad47-47f7-a54d-4f2153fc79a0"
      },
      "source": [
        "thislist = [\"apple\", \"banana\", \"cherry\"]\n",
        "i = 0\n",
        "while i < len(thislist):\n",
        "  print(thislist[i])\n",
        "  i = i + 1"
      ],
      "execution_count": 1,
      "outputs": [
        {
          "output_type": "stream",
          "text": [
            "apple\n",
            "banana\n",
            "cherry\n"
          ],
          "name": "stdout"
        }
      ]
    },
    {
      "cell_type": "code",
      "metadata": {
        "colab": {
          "base_uri": "https://localhost:8080/"
        },
        "id": "DRbmAcYsk1YJ",
        "outputId": "5188464d-8ca3-4167-8b57-38ed11f2525e"
      },
      "source": [
        "thislist = [\"apple\", \"banana\", \"cherry\"]\n",
        "[print(x) for x in thislist]"
      ],
      "execution_count": 2,
      "outputs": [
        {
          "output_type": "stream",
          "text": [
            "apple\n",
            "banana\n",
            "cherry\n"
          ],
          "name": "stdout"
        },
        {
          "output_type": "execute_result",
          "data": {
            "text/plain": [
              "[None, None, None]"
            ]
          },
          "metadata": {
            "tags": []
          },
          "execution_count": 2
        }
      ]
    },
    {
      "cell_type": "code",
      "metadata": {
        "colab": {
          "base_uri": "https://localhost:8080/"
        },
        "id": "bMHOfqhNnyWd",
        "outputId": "827233f8-118f-4450-d0be-8037a1c51cda"
      },
      "source": [
        "#List Comprehension\n",
        "#List comprehension offers a shorter syntax when you want to create a new list based on the values of an existing list.\n",
        "#Based on a list of fruits, you want a new list, containing only the fruits with the letter \"a\" in the name.\n",
        "\n",
        "fruits = [\"apple\", \"banana\", \"cherry\", \"kiwi\", \"mango\"]\n",
        "newlist = []\n",
        "\n",
        "for x in fruits:\n",
        "  if \"a\" in x:\n",
        "    newlist.append(x)\n",
        "\n",
        "print(newlist)"
      ],
      "execution_count": 3,
      "outputs": [
        {
          "output_type": "stream",
          "text": [
            "['apple', 'banana', 'mango']\n"
          ],
          "name": "stdout"
        }
      ]
    },
    {
      "cell_type": "code",
      "metadata": {
        "colab": {
          "base_uri": "https://localhost:8080/"
        },
        "id": "yJWhIsXOqV2y",
        "outputId": "0d2fe3c9-17e9-410f-ddc0-97a910e5966a"
      },
      "source": [
        "#With list comprehension you can do all that with only one line of code:\n",
        "\n",
        "fruits = [\"apple\", \"banana\", \"cherry\", \"kiwi\", \"mango\"]\n",
        "\n",
        "newlist = [x for x in fruits if \"a\" in x]\n",
        "\n",
        "print(newlist)\n"
      ],
      "execution_count": 4,
      "outputs": [
        {
          "output_type": "stream",
          "text": [
            "['apple', 'banana', 'mango']\n"
          ],
          "name": "stdout"
        }
      ]
    },
    {
      "cell_type": "code",
      "metadata": {
        "colab": {
          "base_uri": "https://localhost:8080/"
        },
        "id": "VRsRWOX5ruGd",
        "outputId": "f35416d0-3a73-4766-8691-5f107ce19ace"
      },
      "source": [
        "#The Syntax\n",
        "#newlist = [expression for item in iterable if condition == True]\n",
        "\n",
        "#You can use the range() function to create an iterable:\n",
        "\n",
        "newlist = [x for x in range(10) if x < 5]\n",
        "print(newlist)"
      ],
      "execution_count": 7,
      "outputs": [
        {
          "output_type": "stream",
          "text": [
            "[0, 1, 2, 3, 4]\n"
          ],
          "name": "stdout"
        }
      ]
    },
    {
      "cell_type": "code",
      "metadata": {
        "colab": {
          "base_uri": "https://localhost:8080/"
        },
        "id": "G5ov3oNIv_ao",
        "outputId": "d1d8429f-4363-4af2-d7c6-2792b099e002"
      },
      "source": [
        "#Set all values in the new list to 'hello':\n",
        "\n",
        "fruits = [\"apple\", \"banana\", \"cherry\", \"kiwi\", \"mango\"]\n",
        "newlist = ['hello' for x in fruits]\n",
        "print(newlist)"
      ],
      "execution_count": 9,
      "outputs": [
        {
          "output_type": "stream",
          "text": [
            "['hello', 'hello', 'hello', 'hello', 'hello']\n"
          ],
          "name": "stdout"
        }
      ]
    },
    {
      "cell_type": "code",
      "metadata": {
        "colab": {
          "base_uri": "https://localhost:8080/"
        },
        "id": "O3b5VXNHwNQf",
        "outputId": "45ef8699-423f-414f-af9a-6d9284844bcf"
      },
      "source": [
        "#Sort List Alphanumerically\n",
        "#List objects have a sort() method that will sort the list alphanumerically, ascending, by default:\n",
        "\n",
        "thislist = [\"orange\", \"mango\", \"kiwi\", \"pineapple\", \"banana\"]\n",
        "thislist.sort()\n",
        "print(thislist)"
      ],
      "execution_count": 10,
      "outputs": [
        {
          "output_type": "stream",
          "text": [
            "['banana', 'kiwi', 'mango', 'orange', 'pineapple']\n"
          ],
          "name": "stdout"
        }
      ]
    },
    {
      "cell_type": "code",
      "metadata": {
        "colab": {
          "base_uri": "https://localhost:8080/"
        },
        "id": "I6KBhLaJxpMP",
        "outputId": "ea26c2a1-a5fb-4a58-a443-25a70b327c3c"
      },
      "source": [
        "#Sort the list numerically:\n",
        "\n",
        "thislist = [100, 50, 65, 82, 23]\n",
        "thislist.sort()\n",
        "print(thislist)"
      ],
      "execution_count": 11,
      "outputs": [
        {
          "output_type": "stream",
          "text": [
            "[23, 50, 65, 82, 100]\n"
          ],
          "name": "stdout"
        }
      ]
    },
    {
      "cell_type": "code",
      "metadata": {
        "colab": {
          "base_uri": "https://localhost:8080/"
        },
        "id": "zpiYaTiLzeQe",
        "outputId": "7978087a-8d05-462e-912b-e51e938d6b8a"
      },
      "source": [
        "#Sort the list descending:\n",
        "\n",
        "thislist = [\"orange\", \"mango\", \"kiwi\", \"pineapple\", \"banana\"]\n",
        "thislist.sort(reverse = True)\n",
        "print(thislist)"
      ],
      "execution_count": 12,
      "outputs": [
        {
          "output_type": "stream",
          "text": [
            "['pineapple', 'orange', 'mango', 'kiwi', 'banana']\n"
          ],
          "name": "stdout"
        }
      ]
    },
    {
      "cell_type": "code",
      "metadata": {
        "colab": {
          "base_uri": "https://localhost:8080/"
        },
        "id": "Cp_C9bYO0YrM",
        "outputId": "aa0fe865-f7bd-4572-edcb-ec49043046d5"
      },
      "source": [
        "#Sort the list descending:\n",
        "\n",
        "thislist = [100, 50, 65, 82, 23]\n",
        "thislist.sort(reverse = True)\n",
        "print(thislist)"
      ],
      "execution_count": 13,
      "outputs": [
        {
          "output_type": "stream",
          "text": [
            "[100, 82, 65, 50, 23]\n"
          ],
          "name": "stdout"
        }
      ]
    },
    {
      "cell_type": "code",
      "metadata": {
        "colab": {
          "base_uri": "https://localhost:8080/"
        },
        "id": "IhCmhh481Gdt",
        "outputId": "b8438deb-bb4e-4317-bafa-aa53fb8bf687"
      },
      "source": [
        "#Sort the list based on how close the number is to 50:\n",
        "\n",
        "def myfunc(n):\n",
        "  return abs(n - 50)\n",
        "\n",
        "thislist = [100, 50, 65, 82, 23]\n",
        "thislist.sort(key = myfunc)\n",
        "print(thislist)"
      ],
      "execution_count": 14,
      "outputs": [
        {
          "output_type": "stream",
          "text": [
            "[50, 65, 23, 82, 100]\n"
          ],
          "name": "stdout"
        }
      ]
    },
    {
      "cell_type": "code",
      "metadata": {
        "colab": {
          "base_uri": "https://localhost:8080/"
        },
        "id": "bO0XZ3p_1i7U",
        "outputId": "e8276e96-7d01-45e5-adba-835cf4870fe9"
      },
      "source": [
        "#Case sensitive sorting can give an unexpected result:\n",
        "\n",
        "thislist = [\"banana\", \"Orange\", \"Kiwi\", \"cherry\"]\n",
        "thislist.sort()\n",
        "print(thislist)"
      ],
      "execution_count": 15,
      "outputs": [
        {
          "output_type": "stream",
          "text": [
            "['Kiwi', 'Orange', 'banana', 'cherry']\n"
          ],
          "name": "stdout"
        }
      ]
    },
    {
      "cell_type": "code",
      "metadata": {
        "colab": {
          "base_uri": "https://localhost:8080/"
        },
        "id": "wSswosKX1rCa",
        "outputId": "5e8a0940-efe8-4b39-df07-fa9eaa1fee17"
      },
      "source": [
        "#Perform a case-insensitive sort of the list:\n",
        "\n",
        "thislist = [\"banana\", \"Orange\", \"Kiwi\", \"cherry\"]\n",
        "thislist.sort(key = str.lower)\n",
        "print(thislist)"
      ],
      "execution_count": 16,
      "outputs": [
        {
          "output_type": "stream",
          "text": [
            "['banana', 'cherry', 'Kiwi', 'Orange']\n"
          ],
          "name": "stdout"
        }
      ]
    },
    {
      "cell_type": "code",
      "metadata": {
        "colab": {
          "base_uri": "https://localhost:8080/"
        },
        "id": "eCr14v2013gp",
        "outputId": "cb09d611-fd82-4e1f-e965-6a8b12a0c5ae"
      },
      "source": [
        "#Reverse the order of the list items:\n",
        "\n",
        "thislist = [\"banana\", \"Orange\", \"Kiwi\", \"cherry\"]\n",
        "thislist.reverse()\n",
        "print(thislist)"
      ],
      "execution_count": 17,
      "outputs": [
        {
          "output_type": "stream",
          "text": [
            "['cherry', 'Kiwi', 'Orange', 'banana']\n"
          ],
          "name": "stdout"
        }
      ]
    },
    {
      "cell_type": "code",
      "metadata": {
        "colab": {
          "base_uri": "https://localhost:8080/"
        },
        "id": "O80c6tVO2GQt",
        "outputId": "a09433f3-06ec-4a44-817a-d329f577b4bd"
      },
      "source": [
        "'''\n",
        "You cannot copy a list simply by typing list2 = list1, because: list2 will only be a reference to list1, and changes made in list1 will automatically also be made in list2.\n",
        "\n",
        "There are ways to make a copy, one way is to use the built-in List method copy().\n",
        "'''\n",
        "\n",
        "#Make a copy of a list with the copy() method:\n",
        "\n",
        "thislist = [\"apple\", \"banana\", \"cherry\"]\n",
        "mylist = thislist.copy()\n",
        "print(mylist)"
      ],
      "execution_count": 18,
      "outputs": [
        {
          "output_type": "stream",
          "text": [
            "['apple', 'banana', 'cherry']\n"
          ],
          "name": "stdout"
        }
      ]
    },
    {
      "cell_type": "code",
      "metadata": {
        "colab": {
          "base_uri": "https://localhost:8080/"
        },
        "id": "rFObpc4p2RcZ",
        "outputId": "feb60638-27ea-41ba-cb42-758cb2bbc6ea"
      },
      "source": [
        "#Make a copy of a list with the list() method:\n",
        "\n",
        "thislist = [\"apple\", \"banana\", \"cherry\"]\n",
        "mylist = list(thislist)\n",
        "print(mylist)"
      ],
      "execution_count": 19,
      "outputs": [
        {
          "output_type": "stream",
          "text": [
            "['apple', 'banana', 'cherry']\n"
          ],
          "name": "stdout"
        }
      ]
    },
    {
      "cell_type": "code",
      "metadata": {
        "colab": {
          "base_uri": "https://localhost:8080/"
        },
        "id": "YfsXhoNH2uzd",
        "outputId": "b7945251-bef4-4763-aae3-c6dec2baaa79"
      },
      "source": [
        "#Join two list:\n",
        "\n",
        "list1 = [\"a\", \"b\", \"c\"]\n",
        "list2 = [1, 2, 3]\n",
        "\n",
        "list3 = list1 + list2\n",
        "print(list3)"
      ],
      "execution_count": 20,
      "outputs": [
        {
          "output_type": "stream",
          "text": [
            "['a', 'b', 'c', 1, 2, 3]\n"
          ],
          "name": "stdout"
        }
      ]
    },
    {
      "cell_type": "code",
      "metadata": {
        "colab": {
          "base_uri": "https://localhost:8080/"
        },
        "id": "QQfbl41t24ea",
        "outputId": "5bdea4e0-c10c-485d-b9ed-aec292a046a3"
      },
      "source": [
        "#Append list2 into list1:\n",
        "\n",
        "list1 = [\"a\", \"b\" , \"c\"]\n",
        "list2 = [1, 2, 3]\n",
        "\n",
        "for x in list2:\n",
        "  list1.append(x)\n",
        "\n",
        "print(list1)"
      ],
      "execution_count": 21,
      "outputs": [
        {
          "output_type": "stream",
          "text": [
            "['a', 'b', 'c', 1, 2, 3]\n"
          ],
          "name": "stdout"
        }
      ]
    },
    {
      "cell_type": "code",
      "metadata": {
        "colab": {
          "base_uri": "https://localhost:8080/"
        },
        "id": "oNvZrZZ63q3i",
        "outputId": "aa09359b-0d67-41c1-b71f-820b28484073"
      },
      "source": [
        "#Use the extend() method to add list2 at the end of list1:\n",
        "\n",
        "list1 = [\"a\", \"b\" , \"c\"]\n",
        "list2 = [1, 2, 3]\n",
        "\n",
        "list1.extend(list2)\n",
        "print(list1)"
      ],
      "execution_count": 22,
      "outputs": [
        {
          "output_type": "stream",
          "text": [
            "['a', 'b', 'c', 1, 2, 3]\n"
          ],
          "name": "stdout"
        }
      ]
    },
    {
      "cell_type": "code",
      "metadata": {
        "id": "KD7tbvpb5dUH"
      },
      "source": [
        "'''\n",
        "List Methods\n",
        "Python has a set of built-in methods that you can use on lists.\n",
        "\n",
        "Method\tDescription\n",
        "append()\tAdds an element at the end of the list\n",
        "clear()\tRemoves all the elements from the list\n",
        "copy()\tReturns a copy of the list\n",
        "count()\tReturns the number of elements with the specified value\n",
        "extend()\tAdd the elements of a list (or any iterable), to the end of the current list\n",
        "index()\tReturns the index of the first element with the specified value\n",
        "insert()\tAdds an element at the specified position\n",
        "pop()\tRemoves the element at the specified position\n",
        "remove()\tRemoves the item with the specified value\n",
        "reverse()\tReverses the order of the list\n",
        "sort()\tSorts the list\n",
        "\n",
        "'''"
      ],
      "execution_count": null,
      "outputs": []
    }
  ]
}