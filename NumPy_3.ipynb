{
  "nbformat": 4,
  "nbformat_minor": 0,
  "metadata": {
    "colab": {
      "name": "NumPy_3.ipynb",
      "provenance": [],
      "authorship_tag": "ABX9TyPKAcTaNmtzUNiLfQoHwzwL",
      "include_colab_link": true
    },
    "kernelspec": {
      "name": "python3",
      "display_name": "Python 3"
    },
    "language_info": {
      "name": "python"
    }
  },
  "cells": [
    {
      "cell_type": "markdown",
      "metadata": {
        "id": "view-in-github",
        "colab_type": "text"
      },
      "source": [
        "<a href=\"https://colab.research.google.com/github/Saurav-Raghaw/Python/blob/main/NumPy_3.ipynb\" target=\"_parent\"><img src=\"https://colab.research.google.com/assets/colab-badge.svg\" alt=\"Open In Colab\"/></a>"
      ]
    },
    {
      "cell_type": "code",
      "metadata": {
        "colab": {
          "base_uri": "https://localhost:8080/"
        },
        "id": "PyZbaDezpJqU",
        "outputId": "4c8b0727-59b4-452a-b3cc-1e84b66a64da"
      },
      "source": [
        "#NumPy Array Shape\n",
        "#shape: NumPy arrays have an attribute called shape that returns a tuple with each index having the number of corresponding elements.\n",
        "#Integers at every index tells about the number of elements the corresponding dimension has.\n",
        "\n",
        "import numpy as np\n",
        "\n",
        "arr = np.array([[1,2,3,4], [2,5,7,9]])\n",
        "print(arr)\n",
        "print('\\n')\n",
        "print(arr.shape)\n",
        "\n",
        "#Output: (2,4) meaning: 2 dimensions, and each dimension has 4 elements.\n",
        "#The shape of an array is the number of elements in each dimension."
      ],
      "execution_count": 7,
      "outputs": [
        {
          "output_type": "stream",
          "text": [
            "[[1 2 3 4]\n",
            " [2 5 7 9]]\n",
            "\n",
            "\n",
            "(2, 4)\n"
          ],
          "name": "stdout"
        }
      ]
    },
    {
      "cell_type": "code",
      "metadata": {
        "colab": {
          "base_uri": "https://localhost:8080/"
        },
        "id": "WY7MNUzQrMPP",
        "outputId": "998ef86b-2ec0-44ec-8224-e53ba624e65b"
      },
      "source": [
        "arr = np.array([1,2,3,4], ndmin=5)\n",
        "print(arr)\n",
        "print('\\n')\n",
        "print(arr.shape)"
      ],
      "execution_count": 6,
      "outputs": [
        {
          "output_type": "stream",
          "text": [
            "[[[[[1 2 3 4]]]]]\n",
            "\n",
            "\n",
            "(1, 1, 1, 1, 4)\n"
          ],
          "name": "stdout"
        }
      ]
    },
    {
      "cell_type": "code",
      "metadata": {
        "colab": {
          "base_uri": "https://localhost:8080/"
        },
        "id": "g3En-TvdsxjE",
        "outputId": "1521680a-118e-4e43-b188-031cc8d33a5f"
      },
      "source": [
        "#NumPy Array Reshaping\n",
        "\n",
        "arr = np.array([1,2,3,4,5,6,7,8,9,10,11,12]) #1-D array with 12 elements into a 2-D array\n",
        "print(arr)\n",
        "print('\\n')\n",
        "\n",
        "new_arr = arr.reshape(4,3)\n",
        "print(new_arr)"
      ],
      "execution_count": 9,
      "outputs": [
        {
          "output_type": "stream",
          "text": [
            "[ 1  2  3  4  5  6  7  8  9 10 11 12]\n",
            "\n",
            "\n",
            "[[ 1  2  3]\n",
            " [ 4  5  6]\n",
            " [ 7  8  9]\n",
            " [10 11 12]]\n"
          ],
          "name": "stdout"
        }
      ]
    },
    {
      "cell_type": "code",
      "metadata": {
        "colab": {
          "base_uri": "https://localhost:8080/"
        },
        "id": "JVnMzDeaxdyp",
        "outputId": "34374077-c94f-4473-a0dc-3b4f0284b726"
      },
      "source": [
        "arr = np.array([1,2,3,4,5,6,7,8,9,10,11,12]) #1-D array with 12 elements into a 3-D array\n",
        "print(arr)\n",
        "print('\\n')\n",
        "\n",
        "new_arr = arr.reshape(2,3,2)\n",
        "print(new_arr)"
      ],
      "execution_count": 10,
      "outputs": [
        {
          "output_type": "stream",
          "text": [
            "[ 1  2  3  4  5  6  7  8  9 10 11 12]\n",
            "\n",
            "\n",
            "[[[ 1  2]\n",
            "  [ 3  4]\n",
            "  [ 5  6]]\n",
            "\n",
            " [[ 7  8]\n",
            "  [ 9 10]\n",
            "  [11 12]]]\n"
          ],
          "name": "stdout"
        }
      ]
    },
    {
      "cell_type": "code",
      "metadata": {
        "colab": {
          "base_uri": "https://localhost:8080/"
        },
        "id": "ET7mTCOUyWev",
        "outputId": "b9b788ee-7976-4d18-928a-edb681050550"
      },
      "source": [
        "#Check if the returned array is a copy or a view.\n",
        "print(arr.reshape(4,3).base)\n",
        "\n",
        "#It is view because return original array."
      ],
      "execution_count": 12,
      "outputs": [
        {
          "output_type": "stream",
          "text": [
            "[ 1  2  3  4  5  6  7  8  9 10 11 12]\n"
          ],
          "name": "stdout"
        }
      ]
    },
    {
      "cell_type": "code",
      "metadata": {
        "colab": {
          "base_uri": "https://localhost:8080/"
        },
        "id": "yVPSTChSzIYI",
        "outputId": "16c98542-c072-4655-f74a-066fe2ddb287"
      },
      "source": [
        "#Unknown dimmension\n",
        "arr = np.array([1, 2, 3, 4, 5, 6, 7, 8])\n",
        "\n",
        "newarr = arr.reshape(2, 2, -1)\n",
        "\n",
        "print(newarr)\n",
        "\n",
        "#We do not have to specify an exact number for one of the dimensions in the reshape method."
      ],
      "execution_count": 13,
      "outputs": [
        {
          "output_type": "stream",
          "text": [
            "[[[1 2]\n",
            "  [3 4]]\n",
            "\n",
            " [[5 6]\n",
            "  [7 8]]]\n"
          ],
          "name": "stdout"
        }
      ]
    },
    {
      "cell_type": "code",
      "metadata": {
        "colab": {
          "base_uri": "https://localhost:8080/"
        },
        "id": "CS1p7zUa05OJ",
        "outputId": "15df54d0-6ecf-4084-e1a8-dba58a3b3fea"
      },
      "source": [
        "#Flattening the arrays\n",
        "#Flattening array means converting a multidimensional array into a 1D array.\n",
        "#We can use reshape(-1) to do this.\n",
        "\n",
        "arr = np.array([[1,2,3,4],[2,4,6,8]])\n",
        "print(arr, '\\n')\n",
        "\n",
        "new_arr = arr.reshape(-1)\n",
        "print(new_arr)"
      ],
      "execution_count": 15,
      "outputs": [
        {
          "output_type": "stream",
          "text": [
            "[[1 2 3 4]\n",
            " [2 4 6 8]] \n",
            "\n",
            "[1 2 3 4 2 4 6 8]\n"
          ],
          "name": "stdout"
        }
      ]
    },
    {
      "cell_type": "code",
      "metadata": {
        "colab": {
          "base_uri": "https://localhost:8080/"
        },
        "id": "1hyo8YLb1oJ9",
        "outputId": "b7b6fdcc-ac51-4c42-cdad-e14fb17a65a1"
      },
      "source": [
        "#Array Iterating\n",
        "\n",
        "arr = np.array([1, 2, 3, 4, 5, 6, 7, 8])\n",
        "\n",
        "for x in arr:\n",
        "  print(x)"
      ],
      "execution_count": 16,
      "outputs": [
        {
          "output_type": "stream",
          "text": [
            "1\n",
            "2\n",
            "3\n",
            "4\n",
            "5\n",
            "6\n",
            "7\n",
            "8\n"
          ],
          "name": "stdout"
        }
      ]
    },
    {
      "cell_type": "code",
      "metadata": {
        "colab": {
          "base_uri": "https://localhost:8080/"
        },
        "id": "Y5fP-Fwd2qyx",
        "outputId": "f2899024-3e1c-4cd3-971b-fa4be0cef7cb"
      },
      "source": [
        "arr = np.array([[1,2,3,4],[2,4,6,8]])\n",
        "\n",
        "#It'll Iterate on the elements of the following 2-D array.\n",
        "for x in arr:\n",
        "  print(x)"
      ],
      "execution_count": 18,
      "outputs": [
        {
          "output_type": "stream",
          "text": [
            "[1 2 3 4]\n",
            "[2 4 6 8]\n"
          ],
          "name": "stdout"
        }
      ]
    },
    {
      "cell_type": "code",
      "metadata": {
        "colab": {
          "base_uri": "https://localhost:8080/"
        },
        "id": "FB_HtxKz3dUQ",
        "outputId": "5d686647-e04e-41bb-fee6-89f306e504f8"
      },
      "source": [
        "#To return the actual values, the scalars, we have to iterate the arrays in each dimension.\n",
        "\n",
        "for x in arr:\n",
        "  for y in x:\n",
        "    print(y)"
      ],
      "execution_count": 19,
      "outputs": [
        {
          "output_type": "stream",
          "text": [
            "1\n",
            "2\n",
            "3\n",
            "4\n",
            "2\n",
            "4\n",
            "6\n",
            "8\n"
          ],
          "name": "stdout"
        }
      ]
    },
    {
      "cell_type": "code",
      "metadata": {
        "colab": {
          "base_uri": "https://localhost:8080/"
        },
        "id": "laBeOatT3odx",
        "outputId": "1115505b-6d54-40dc-9611-06ae06f1de48"
      },
      "source": [
        "#Iterating 3D arrays.\n",
        "arr = np.array([[[1,2,3],[2,3,5]], [[2,7,9], [9, 0, 7]]])\n",
        "print(arr, '\\n')\n",
        "\n",
        "for x in arr:\n",
        "  print(x)\n",
        "\n",
        "print('\\n')\n",
        "\n",
        "for x in arr:\n",
        "  for y in x:\n",
        "    print(y)\n",
        "\n",
        "print('\\n')\n",
        "\n",
        "for x in arr:\n",
        "  for y in x:\n",
        "    for z in y:\n",
        "      print(z)"
      ],
      "execution_count": 25,
      "outputs": [
        {
          "output_type": "stream",
          "text": [
            "[[[1 2 3]\n",
            "  [2 3 5]]\n",
            "\n",
            " [[2 7 9]\n",
            "  [9 0 7]]] \n",
            "\n",
            "[[1 2 3]\n",
            " [2 3 5]]\n",
            "[[2 7 9]\n",
            " [9 0 7]]\n",
            "\n",
            "\n",
            "[1 2 3]\n",
            "[2 3 5]\n",
            "[2 7 9]\n",
            "[9 0 7]\n",
            "\n",
            "\n",
            "1\n",
            "2\n",
            "3\n",
            "2\n",
            "3\n",
            "5\n",
            "2\n",
            "7\n",
            "9\n",
            "9\n",
            "0\n",
            "7\n"
          ],
          "name": "stdout"
        }
      ]
    },
    {
      "cell_type": "code",
      "metadata": {
        "colab": {
          "base_uri": "https://localhost:8080/"
        },
        "id": "-J_FLJ6453-o",
        "outputId": "2ac073bb-6701-4f9a-a00c-e34994aa5e8a"
      },
      "source": [
        "#Iterating Arrays Using nditer()\n",
        "#In basic for loops, iterating through each scalar of an array we need to use n for loops which can be difficult to \n",
        "#write for arrays with very high dimensionality.\n",
        "\n",
        "arr = np.array([[[1,2,3],[2,3,5]], [[2,7,9], [9, 0, 7]]])\n",
        "print(arr, '\\n')\n",
        "\n",
        "for x in np.nditer(arr):\n",
        "  print(x)"
      ],
      "execution_count": 27,
      "outputs": [
        {
          "output_type": "stream",
          "text": [
            "[[[1 2 3]\n",
            "  [2 3 5]]\n",
            "\n",
            " [[2 7 9]\n",
            "  [9 0 7]]] \n",
            "\n",
            "1\n",
            "2\n",
            "3\n",
            "2\n",
            "3\n",
            "5\n",
            "2\n",
            "7\n",
            "9\n",
            "9\n",
            "0\n",
            "7\n"
          ],
          "name": "stdout"
        }
      ]
    },
    {
      "cell_type": "code",
      "metadata": {
        "colab": {
          "base_uri": "https://localhost:8080/"
        },
        "id": "ga-roT2Z6u9N",
        "outputId": "52ad477b-f2e6-4b85-c679-e30964d98a71"
      },
      "source": [
        "#Iterating Array With Different Data Types.\n",
        "\n",
        "'''\n",
        "We can use op_dtypes argument and pass it the expected datatype to change the datatype of elements while iterating.\n",
        "\n",
        "NumPy does not change the data type of the element in-place (where the element is in array) so it needs some other space to perform this action, \n",
        "that extra space is called buffer, and in order to enable it in nditer() we pass flags=['buffered'].\n",
        "\n",
        "'''\n",
        "arr = np.array([1, 2, 3, 4, 5, 6, 7, 8])\n",
        "\n",
        "for x in np.nditer(arr, flags=['buffered'], op_dtypes='S'):\n",
        "  print(x)"
      ],
      "execution_count": 29,
      "outputs": [
        {
          "output_type": "stream",
          "text": [
            "b'1'\n",
            "b'2'\n",
            "b'3'\n",
            "b'4'\n",
            "b'5'\n",
            "b'6'\n",
            "b'7'\n",
            "b'8'\n"
          ],
          "name": "stdout"
        }
      ]
    },
    {
      "cell_type": "code",
      "metadata": {
        "colab": {
          "base_uri": "https://localhost:8080/"
        },
        "id": "rBtV_I_w7s3X",
        "outputId": "49fd9d84-ba57-48f3-8bb6-142d15f8d820"
      },
      "source": [
        "#Iterating through every scalar element of the 2D array skipping 1 element.\n",
        "arr = np.array([[1,2,3,4],[2,4,6,8]])\n",
        "\n",
        "for x in np.nditer(arr[:, ::2]):\n",
        "  print(x)"
      ],
      "execution_count": 32,
      "outputs": [
        {
          "output_type": "stream",
          "text": [
            "1\n",
            "3\n",
            "2\n",
            "6\n"
          ],
          "name": "stdout"
        }
      ]
    },
    {
      "cell_type": "code",
      "metadata": {
        "colab": {
          "base_uri": "https://localhost:8080/"
        },
        "id": "V0ATUIJr8II-",
        "outputId": "0a0fd7f1-afc1-4dad-ddb6-b7b7fd0c1e74"
      },
      "source": [
        "#Enumerated Iteration Using ndenumerate()\n",
        "#Enumeration means mentioning sequence number of somethings one by one.\n",
        "\n",
        "#Sometimes we require corresponding index of the element while iterating, the ndenumerate() method can be used for those usecases.\n",
        "\n",
        "arr = np.array([1, 2, 3, 4, 5, 6, 7, 8])\n",
        "\n",
        "for indx, x in np.ndenumerate(arr):\n",
        "  print(indx, x)"
      ],
      "execution_count": 33,
      "outputs": [
        {
          "output_type": "stream",
          "text": [
            "(0,) 1\n",
            "(1,) 2\n",
            "(2,) 3\n",
            "(3,) 4\n",
            "(4,) 5\n",
            "(5,) 6\n",
            "(6,) 7\n",
            "(7,) 8\n"
          ],
          "name": "stdout"
        }
      ]
    },
    {
      "cell_type": "code",
      "metadata": {
        "colab": {
          "base_uri": "https://localhost:8080/"
        },
        "id": "Fg_oEqLJ8qPx",
        "outputId": "3d0b7b21-8718-4467-ab58-da7d7efccce5"
      },
      "source": [
        "arr = np.array([[1,2,3,4],[2,4,6,8]])\n",
        "for indx, x in np.ndenumerate(arr):\n",
        "  print(indx, x)"
      ],
      "execution_count": 34,
      "outputs": [
        {
          "output_type": "stream",
          "text": [
            "(0, 0) 1\n",
            "(0, 1) 2\n",
            "(0, 2) 3\n",
            "(0, 3) 4\n",
            "(1, 0) 2\n",
            "(1, 1) 4\n",
            "(1, 2) 6\n",
            "(1, 3) 8\n"
          ],
          "name": "stdout"
        }
      ]
    },
    {
      "cell_type": "code",
      "metadata": {
        "colab": {
          "base_uri": "https://localhost:8080/"
        },
        "id": "i-SBa_ad84SK",
        "outputId": "1439936d-79cb-4292-fd90-acdcfb0d8d12"
      },
      "source": [
        "#NumPy Joining array.\n",
        "#Joining means putting contents of two or more arrays in a single array.\n",
        "#in NumPy we join arrays by axes.\n",
        "#We pass a sequence of arrays that we want to join to the concatenate() function, \n",
        "#along with the axis. If axis is not explicitly passed, it is taken as 0.\n",
        "\n",
        "arr1 = np.array([1, 2, 3])\n",
        "\n",
        "arr2 = np.array([4, 5, 6])\n",
        "\n",
        "arr = np.concatenate((arr1, arr2))\n",
        "\n",
        "print(arr)"
      ],
      "execution_count": 35,
      "outputs": [
        {
          "output_type": "stream",
          "text": [
            "[1 2 3 4 5 6]\n"
          ],
          "name": "stdout"
        }
      ]
    },
    {
      "cell_type": "code",
      "metadata": {
        "colab": {
          "base_uri": "https://localhost:8080/"
        },
        "id": "E_qAMHZwEfIl",
        "outputId": "6d69feaf-70f2-4f0b-8863-99ab488c44f5"
      },
      "source": [
        "arr1 = np.array([[1, 2], [3, 4]])\n",
        "\n",
        "arr2 = np.array([[5, 6], [7, 8]])\n",
        "\n",
        "arr = np.concatenate((arr1, arr2), axis=1)\n",
        "\n",
        "print(arr)"
      ],
      "execution_count": 38,
      "outputs": [
        {
          "output_type": "stream",
          "text": [
            "[[1 2 5 6]\n",
            " [3 4 7 8]]\n"
          ],
          "name": "stdout"
        }
      ]
    },
    {
      "cell_type": "code",
      "metadata": {
        "colab": {
          "base_uri": "https://localhost:8080/"
        },
        "id": "9P5pvw2lFOwl",
        "outputId": "4b2ff3c3-32b1-4df8-d6b4-2918baf8f6c5"
      },
      "source": [
        "#Stacking is same as concatenation, the only difference is that stacking is done along a new axis.\n",
        "#We can concatenate two 1-D arrays along the second axis which would result in putting them one over the other, ie. stacking.\n",
        "\n",
        "arr1 = np.array([1, 2, 3])\n",
        "\n",
        "arr2 = np.array([4, 5, 6])\n",
        "\n",
        "arr = np.stack((arr1, arr2), axis=1)\n",
        "\n",
        "print(arr)"
      ],
      "execution_count": 41,
      "outputs": [
        {
          "output_type": "stream",
          "text": [
            "[[1 4]\n",
            " [2 5]\n",
            " [3 6]]\n"
          ],
          "name": "stdout"
        }
      ]
    },
    {
      "cell_type": "code",
      "metadata": {
        "colab": {
          "base_uri": "https://localhost:8080/"
        },
        "id": "zxJ121AcF1t2",
        "outputId": "cc23b472-c788-41c4-fdee-cb2c7acb1820"
      },
      "source": [
        "arr1 = np.array([1, 2, 3])\n",
        "\n",
        "arr2 = np.array([4, 5, 6])\n",
        "\n",
        "arr = np.hstack((arr1, arr2)) #hstack() to stack along rows.\n",
        "\n",
        "print(arr)"
      ],
      "execution_count": 42,
      "outputs": [
        {
          "output_type": "stream",
          "text": [
            "[1 2 3 4 5 6]\n"
          ],
          "name": "stdout"
        }
      ]
    },
    {
      "cell_type": "code",
      "metadata": {
        "colab": {
          "base_uri": "https://localhost:8080/"
        },
        "id": "3lMKBPavGCj1",
        "outputId": "315ccf23-51de-4c6f-8603-ca0df993cdec"
      },
      "source": [
        "arr1 = np.array([1, 2, 3])\n",
        "\n",
        "arr2 = np.array([4, 5, 6])\n",
        "\n",
        "arr = np.vstack((arr1, arr2)) #vstack()  to stack along columns.\n",
        "\n",
        "print(arr)"
      ],
      "execution_count": 43,
      "outputs": [
        {
          "output_type": "stream",
          "text": [
            "[[1 2 3]\n",
            " [4 5 6]]\n"
          ],
          "name": "stdout"
        }
      ]
    },
    {
      "cell_type": "code",
      "metadata": {
        "colab": {
          "base_uri": "https://localhost:8080/"
        },
        "id": "xyNRjGLrGL2d",
        "outputId": "a71e8d41-509a-44c1-9de2-c72c40752f72"
      },
      "source": [
        "arr1 = np.array([1, 2, 3])\n",
        "\n",
        "arr2 = np.array([4, 5, 6])\n",
        "\n",
        "arr = np.dstack((arr1, arr2)) #dstack() to stack along height, which is the same as depth.\n",
        "\n",
        "print(arr)"
      ],
      "execution_count": 44,
      "outputs": [
        {
          "output_type": "stream",
          "text": [
            "[[[1 4]\n",
            "  [2 5]\n",
            "  [3 6]]]\n"
          ],
          "name": "stdout"
        }
      ]
    }
  ]
}