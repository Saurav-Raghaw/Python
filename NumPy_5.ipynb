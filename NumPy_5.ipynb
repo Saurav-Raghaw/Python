{
  "nbformat": 4,
  "nbformat_minor": 0,
  "metadata": {
    "colab": {
      "name": "NumPy_5.ipynb",
      "provenance": [],
      "authorship_tag": "ABX9TyMejxojQ/0aGW+dMDHD8qnx",
      "include_colab_link": true
    },
    "kernelspec": {
      "name": "python3",
      "display_name": "Python 3"
    },
    "language_info": {
      "name": "python"
    }
  },
  "cells": [
    {
      "cell_type": "markdown",
      "metadata": {
        "id": "view-in-github",
        "colab_type": "text"
      },
      "source": [
        "<a href=\"https://colab.research.google.com/github/Saurav-Raghaw/Python/blob/main/NumPy_5.ipynb\" target=\"_parent\"><img src=\"https://colab.research.google.com/assets/colab-badge.svg\" alt=\"Open In Colab\"/></a>"
      ]
    },
    {
      "cell_type": "code",
      "metadata": {
        "id": "66LoC1HTcUrp"
      },
      "source": [
        "###___Random number in NumPy____###\n",
        "#Random means something that can not be predicted logically.\n",
        "\n",
        "#Pseudo Random and True Random.\n",
        "\n",
        "   #If there is a program to generate random number it can be predicted, thus it is not truly random.\n",
        "   #Random numbers generated through a generation algorithm are called pseudo random."
      ],
      "execution_count": 46,
      "outputs": []
    },
    {
      "cell_type": "code",
      "metadata": {
        "id": "ZFsyFeMRej7F"
      },
      "source": [
        "import numpy as np"
      ],
      "execution_count": 47,
      "outputs": []
    },
    {
      "cell_type": "code",
      "metadata": {
        "colab": {
          "base_uri": "https://localhost:8080/"
        },
        "id": "9MxHYFqGemhO",
        "outputId": "e9dc0ea2-136d-41a2-fbd6-4dfbbf31fee9"
      },
      "source": [
        "#Generating a random integer from 0 to 10.\n",
        "#random module to work with random numbers.\n",
        "from numpy import random\n",
        "# x = np.random.randint(10)\n",
        "\n",
        "x = random.randint(10)\n",
        "print(x)"
      ],
      "execution_count": 48,
      "outputs": [
        {
          "output_type": "stream",
          "text": [
            "7\n"
          ],
          "name": "stdout"
        }
      ]
    },
    {
      "cell_type": "code",
      "metadata": {
        "colab": {
          "base_uri": "https://localhost:8080/"
        },
        "id": "UrrMcDB2fPFl",
        "outputId": "d4ede286-2ac3-4447-f2d5-a7271c960cdb"
      },
      "source": [
        "#Generating a random float from 0 to 1\n",
        "#rand() method returns a random float between 0 and 1.\n",
        "\n",
        "x = random.rand()\n",
        "print(x)"
      ],
      "execution_count": 49,
      "outputs": [
        {
          "output_type": "stream",
          "text": [
            "0.9091329377187368\n"
          ],
          "name": "stdout"
        }
      ]
    },
    {
      "cell_type": "code",
      "metadata": {
        "colab": {
          "base_uri": "https://localhost:8080/"
        },
        "id": "IIUlhpUqfnWE",
        "outputId": "9a24371e-1b96-406f-a23d-85234d471b3c"
      },
      "source": [
        "#Generating 1-D random array, numbbers from 0 to 50.\n",
        "#randint() method takes a size parameter where you can specify the shape of an array.\n",
        "\n",
        "arr = random.randint(50, size = (5))\n",
        "print(arr)"
      ],
      "execution_count": 50,
      "outputs": [
        {
          "output_type": "stream",
          "text": [
            "[11 39  1 11 16]\n"
          ],
          "name": "stdout"
        }
      ]
    },
    {
      "cell_type": "code",
      "metadata": {
        "colab": {
          "base_uri": "https://localhost:8080/"
        },
        "id": "ZkwNJQi1gnkt",
        "outputId": "5bcf2130-41ff-4476-f3f7-6882f11b8d0d"
      },
      "source": [
        "#Random 2-D Array.\n",
        "arr = random.randint(50, size = (5,2))\n",
        "print(arr)"
      ],
      "execution_count": 51,
      "outputs": [
        {
          "output_type": "stream",
          "text": [
            "[[47 15]\n",
            " [34  4]\n",
            " [11 36]\n",
            " [15 45]\n",
            " [26 20]]\n"
          ],
          "name": "stdout"
        }
      ]
    },
    {
      "cell_type": "code",
      "metadata": {
        "colab": {
          "base_uri": "https://localhost:8080/"
        },
        "id": "OyB9wHWZhdrX",
        "outputId": "25fd9946-e4c0-49ee-aa4d-f93bf90305fd"
      },
      "source": [
        "#Generating a 1-D array containing 5 random floats.\n",
        "\n",
        "arr = random.rand(5)\n",
        "print(arr)"
      ],
      "execution_count": 52,
      "outputs": [
        {
          "output_type": "stream",
          "text": [
            "[0.6740243  0.03724062 0.85394658 0.40533107 0.40153946]\n"
          ],
          "name": "stdout"
        }
      ]
    },
    {
      "cell_type": "code",
      "metadata": {
        "colab": {
          "base_uri": "https://localhost:8080/"
        },
        "id": "4sqokhYVhnE8",
        "outputId": "a226aa7d-c76f-479a-c4fa-648630d788d7"
      },
      "source": [
        "#Generate a 2-D array.\n",
        "\n",
        "arr = random.rand(3, 3)\n",
        "print(arr)"
      ],
      "execution_count": 53,
      "outputs": [
        {
          "output_type": "stream",
          "text": [
            "[[0.37268223 0.44376709 0.2473236 ]\n",
            " [0.29357574 0.0354246  0.49146807]\n",
            " [0.06085353 0.8074729  0.07411481]]\n"
          ],
          "name": "stdout"
        }
      ]
    },
    {
      "cell_type": "code",
      "metadata": {
        "colab": {
          "base_uri": "https://localhost:8080/"
        },
        "id": "LLnY46LTiF7N",
        "outputId": "e337fa3a-20ba-44ff-bd22-737f693bf8bb"
      },
      "source": [
        "#Generating Random Number From Array.\n",
        "#The choice() method takes an array as a parameter and randomly returns one of the values.\n",
        "\n",
        "x = random.choice([1,2,3,4,5])\n",
        "print(x)"
      ],
      "execution_count": 54,
      "outputs": [
        {
          "output_type": "stream",
          "text": [
            "2\n"
          ],
          "name": "stdout"
        }
      ]
    },
    {
      "cell_type": "code",
      "metadata": {
        "colab": {
          "base_uri": "https://localhost:8080/"
        },
        "id": "27hEsSVZicyI",
        "outputId": "caf090c3-aea3-4539-973b-91d76c78bbcc"
      },
      "source": [
        "x = random.choice([1,2,3,4,5], size=(3,4)) #size parameter to specify the shape of the array.\n",
        "\n",
        "print(x)"
      ],
      "execution_count": 55,
      "outputs": [
        {
          "output_type": "stream",
          "text": [
            "[[3 2 2 1]\n",
            " [1 5 4 4]\n",
            " [5 4 1 1]]\n"
          ],
          "name": "stdout"
        }
      ]
    },
    {
      "cell_type": "code",
      "metadata": {
        "colab": {
          "base_uri": "https://localhost:8080/"
        },
        "id": "Xm24ILO-jSWY",
        "outputId": "2c5022c5-b208-4a44-b01a-d09cf39b4368"
      },
      "source": [
        "#Random Data Distribution\n",
        "#A random distribution is a set of random numbers that follow a certain probability density function.\n",
        "#The choice() method allows us to specify the probability for each value.\n",
        "\n",
        "#1D array.\n",
        "arr = random.choice([2,5,9,3], p = [0.2, 0.3, 0.4, 0.1], size=(100)) #The sum of all probability numbers should be 1.\n",
        "\n",
        "print(arr)"
      ],
      "execution_count": 56,
      "outputs": [
        {
          "output_type": "stream",
          "text": [
            "[5 5 2 9 9 5 9 5 2 2 2 9 5 9 9 2 5 3 5 2 3 5 9 5 2 2 3 2 9 3 5 9 9 2 9 9 2\n",
            " 9 2 9 2 3 5 9 5 2 5 9 9 9 2 9 5 5 2 3 9 3 3 2 9 9 9 9 9 9 9 9 3 9 9 2 9 9\n",
            " 2 5 9 2 3 9 9 2 2 9 9 5 9 5 3 2 2 2 5 5 5 3 2 3 2 5]\n"
          ],
          "name": "stdout"
        }
      ]
    },
    {
      "cell_type": "code",
      "metadata": {
        "colab": {
          "base_uri": "https://localhost:8080/"
        },
        "id": "eqSYJE_dnFKm",
        "outputId": "6c45dae0-7b23-4e74-a89a-56a0bf791334"
      },
      "source": [
        "#2D array.\n",
        "arr = random.choice([2,5,9,3], p = [0.2, 0.3, 0.4, 0.1], size=(4,5)) \n",
        "\n",
        "print(arr)"
      ],
      "execution_count": 57,
      "outputs": [
        {
          "output_type": "stream",
          "text": [
            "[[2 9 2 3 3]\n",
            " [9 2 9 3 9]\n",
            " [2 9 9 9 5]\n",
            " [5 9 2 9 5]]\n"
          ],
          "name": "stdout"
        }
      ]
    },
    {
      "cell_type": "code",
      "metadata": {
        "colab": {
          "base_uri": "https://localhost:8080/"
        },
        "id": "AKn_Is6WnUdK",
        "outputId": "78427a0a-ba11-4bb1-f8fd-d9244ceaa8b4"
      },
      "source": [
        "#Random Permutations.\n",
        "#The NumPy Random module provides two methods for this: shuffle() and permutation().\n",
        "#Shuffle means changing arrangement of elements in-place. i.e. in the array itself.\n",
        "\n",
        "arr = np.array([2,5,1,6,8])\n",
        "print(arr, '\\n')\n",
        "random.shuffle(arr)\n",
        "print(arr)\n",
        "\n",
        "#The shuffle() method makes changes to the original array."
      ],
      "execution_count": 58,
      "outputs": [
        {
          "output_type": "stream",
          "text": [
            "[2 5 1 6 8] \n",
            "\n",
            "[6 1 8 2 5]\n"
          ],
          "name": "stdout"
        }
      ]
    },
    {
      "cell_type": "code",
      "metadata": {
        "colab": {
          "base_uri": "https://localhost:8080/"
        },
        "id": "tm_ciGJ5qudJ",
        "outputId": "c24becaa-5010-4c0a-b5ce-55dfb89e47e1"
      },
      "source": [
        "arr = np.array([2,5,1,6,8])\n",
        "print(arr, '\\n')\n",
        "print(random.permutation(arr))\n",
        "\n",
        "#The permutation() method returns a re-arranged array (and leaves the original array un-changed)."
      ],
      "execution_count": 59,
      "outputs": [
        {
          "output_type": "stream",
          "text": [
            "[2 5 1 6 8] \n",
            "\n",
            "[1 2 6 5 8]\n"
          ],
          "name": "stdout"
        }
      ]
    },
    {
      "cell_type": "code",
      "metadata": {
        "colab": {
          "base_uri": "https://localhost:8080/",
          "height": 319
        },
        "id": "YrfGFhyDrFDP",
        "outputId": "270d50f5-87ea-446e-e845-853f27baa39d"
      },
      "source": [
        "#Visualize Distributions With Seaborn\n",
        "\n",
        "#Seaborn is a library that uses Matplotlib underneath to plot graphs. It will be used to visualize random distributions.\n",
        "\n",
        "#Distplots\n",
        "#Distplot stands for distribution plot, it takes as input an array and plots a curve corresponding to the distribution of points in the array.\n",
        "\n",
        "import matplotlib.pyplot as plt\n",
        "import seaborn as sns\n",
        "\n",
        "sns.distplot([0, 1, 2, 3, 4, 5])\n",
        "\n",
        "plt.show()"
      ],
      "execution_count": 60,
      "outputs": [
        {
          "output_type": "stream",
          "text": [
            "/usr/local/lib/python3.7/dist-packages/seaborn/distributions.py:2557: FutureWarning: `distplot` is a deprecated function and will be removed in a future version. Please adapt your code to use either `displot` (a figure-level function with similar flexibility) or `histplot` (an axes-level function for histograms).\n",
            "  warnings.warn(msg, FutureWarning)\n"
          ],
          "name": "stderr"
        },
        {
          "output_type": "display_data",
          "data": {
            "image/png": "[encoded data removed]",
            "text/plain": [
              "<Figure size 432x288 with 1 Axes>"
            ]
          },
          "metadata": {
            "tags": [],
            "needs_background": "light"
          }
        }
      ]
    },
    {
      "cell_type": "code",
      "metadata": {
        "colab": {
          "base_uri": "https://localhost:8080/",
          "height": 319
        },
        "id": "RR1It5KjyPzX",
        "outputId": "861db827-3749-445c-bd35-e85ef0c3ed57"
      },
      "source": [
        "sns.distplot([0, 1, 2, 3, 4, 5], hist=False)\n",
        "\n",
        "plt.show()"
      ],
      "execution_count": 61,
      "outputs": [
        {
          "output_type": "stream",
          "text": [
            "/usr/local/lib/python3.7/dist-packages/seaborn/distributions.py:2557: FutureWarning: `distplot` is a deprecated function and will be removed in a future version. Please adapt your code to use either `displot` (a figure-level function with similar flexibility) or `kdeplot` (an axes-level function for kernel density plots).\n",
            "  warnings.warn(msg, FutureWarning)\n"
          ],
          "name": "stderr"
        },
        {
          "output_type": "display_data",
          "data": {
            "image/png": "[encoded data removed]",
            "text/plain": [
              "<Figure size 432x288 with 1 Axes>"
            ]
          },
          "metadata": {
            "tags": [],
            "needs_background": "light"
          }
        }
      ]
    },
    {
      "cell_type": "code",
      "metadata": {
        "colab": {
          "base_uri": "https://localhost:8080/",
          "height": 369
        },
        "id": "9cKrBBy9yDv-",
        "outputId": "81d0135f-2607-4104-fc1f-3e4d8d4b0319"
      },
      "source": [
        "sns.displot([0, 1, 2, 3, 4, 5])\n",
        "\n",
        "plt.show()"
      ],
      "execution_count": 62,
      "outputs": [
        {
          "output_type": "display_data",
          "data": {
            "image/png": "[encoded data removed]",
            "text/plain": [
              "<Figure size 360x360 with 1 Axes>"
            ]
          },
          "metadata": {
            "tags": [],
            "needs_background": "light"
          }
        }
      ]
    },
    {
      "cell_type": "code",
      "metadata": {
        "colab": {
          "base_uri": "https://localhost:8080/",
          "height": 265
        },
        "id": "f39t6B3lyGFK",
        "outputId": "d4fa9fad-11ec-43da-bfb2-6f3e6f5dd7e3"
      },
      "source": [
        "sns.histplot([0, 1, 2, 3, 4, 5])\n",
        "\n",
        "plt.show()"
      ],
      "execution_count": 63,
      "outputs": [
        {
          "output_type": "display_data",
          "data": {
            "image/png": "[encoded data removed]",
            "text/plain": [
              "<Figure size 432x288 with 1 Axes>"
            ]
          },
          "metadata": {
            "tags": [],
            "needs_background": "light"
          }
        }
      ]
    },
    {
      "cell_type": "code",
      "metadata": {
        "colab": {
          "base_uri": "https://localhost:8080/"
        },
        "id": "P__sWRPsyq4Z",
        "outputId": "d595abc4-df60-4a94-b4c5-8e437a9e877d"
      },
      "source": [
        "#Normal (Gaussian) Distribution\n",
        "\n",
        "'''\n",
        "random.normal() method to get a Normal Data Distribution.\n",
        "\n",
        "It has three parameters:\n",
        "\n",
        "loc - (Mean) where the peak of the bell exists.\n",
        "\n",
        "scale - (Standard Deviation) how flat the graph distribution should be.\n",
        "\n",
        "size - The shape of the returned array.\n",
        "\n",
        "'''\n",
        "\n",
        "#Generating a random normal distribution of size 2x3.\n",
        "\n",
        "x = random.normal(size = (2,3))\n",
        "print(x)"
      ],
      "execution_count": 64,
      "outputs": [
        {
          "output_type": "stream",
          "text": [
            "[[-1.29510653 -0.55967457  1.06453663]\n",
            " [-1.96469347  0.04409427  0.08129951]]\n"
          ],
          "name": "stdout"
        }
      ]
    },
    {
      "cell_type": "code",
      "metadata": {
        "colab": {
          "base_uri": "https://localhost:8080/"
        },
        "id": "U4oxa-tpzjQE",
        "outputId": "036a717e-36cd-41b7-f0fc-8cf772ccde4f"
      },
      "source": [
        "#Generating a random normal distribution of size 2x3 with mean at 1 and standard deviation of 2:\n",
        "\n",
        "x = random.normal(loc=1, scale=2, size = (2,3))\n",
        "print(x)"
      ],
      "execution_count": 65,
      "outputs": [
        {
          "output_type": "stream",
          "text": [
            "[[-1.28012411  3.21336858  0.7735356 ]\n",
            " [ 2.84990425  2.31233571  0.16992344]]\n"
          ],
          "name": "stdout"
        }
      ]
    },
    {
      "cell_type": "code",
      "metadata": {
        "colab": {
          "base_uri": "https://localhost:8080/",
          "height": 319
        },
        "id": "o1mYjC4Jz6CP",
        "outputId": "f429f22b-6641-42b9-fa66-d985ac5918ea"
      },
      "source": [
        "#Visualization of Normal Distribution\n",
        "\n",
        "sns.distplot(random.normal(size=1000), hist=False)\n",
        "plt.show()"
      ],
      "execution_count": 66,
      "outputs": [
        {
          "output_type": "stream",
          "text": [
            "/usr/local/lib/python3.7/dist-packages/seaborn/distributions.py:2557: FutureWarning: `distplot` is a deprecated function and will be removed in a future version. Please adapt your code to use either `displot` (a figure-level function with similar flexibility) or `kdeplot` (an axes-level function for kernel density plots).\n",
            "  warnings.warn(msg, FutureWarning)\n"
          ],
          "name": "stderr"
        },
        {
          "output_type": "display_data",
          "data": {
            "image/png": "[encoded data removed]",
            "text/plain": [
              "<Figure size 432x288 with 1 Axes>"
            ]
          },
          "metadata": {
            "tags": [],
            "needs_background": "light"
          }
        }
      ]
    },
    {
      "cell_type": "code",
      "metadata": {
        "colab": {
          "base_uri": "https://localhost:8080/",
          "height": 369
        },
        "id": "N1BEmqHS0SYh",
        "outputId": "7e60049f-0d08-474c-8476-0b112b0634d4"
      },
      "source": [
        "sns.displot(random.normal(size=1000))\n",
        "plt.show()"
      ],
      "execution_count": 67,
      "outputs": [
        {
          "output_type": "display_data",
          "data": {
            "image/png": "[encoded data removed]",
            "text/plain": [
              "<Figure size 360x360 with 1 Axes>"
            ]
          },
          "metadata": {
            "tags": [],
            "needs_background": "light"
          }
        }
      ]
    }
  ]
}