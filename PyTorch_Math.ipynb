{
  "nbformat": 4,
  "nbformat_minor": 0,
  "metadata": {
    "colab": {
      "name": "PyTorch_Math.ipynb",
      "provenance": [],
      "authorship_tag": "ABX9TyPIjnwUW7MVo10Dj0ae1r40",
      "include_colab_link": true
    },
    "kernelspec": {
      "name": "python3",
      "display_name": "Python 3"
    },
    "language_info": {
      "name": "python"
    }
  },
  "cells": [
    {
      "cell_type": "markdown",
      "metadata": {
        "id": "view-in-github",
        "colab_type": "text"
      },
      "source": [
        "<a href=\"https://colab.research.google.com/github/Saurav-Raghaw/Python/blob/main/PyTorch_Math.ipynb\" target=\"_parent\"><img src=\"https://colab.research.google.com/assets/colab-badge.svg\" alt=\"Open In Colab\"/></a>"
      ]
    },
    {
      "cell_type": "code",
      "metadata": {
        "id": "sBc0m124U1_E"
      },
      "source": [
        "########_________PyTorch Basic Operation__________##########"
      ],
      "execution_count": null,
      "outputs": []
    },
    {
      "cell_type": "code",
      "metadata": {
        "id": "FUQM0t7vVD5l"
      },
      "source": [
        "import torch"
      ],
      "execution_count": 1,
      "outputs": []
    },
    {
      "cell_type": "markdown",
      "metadata": {
        "id": "skxEzWxGVrTq"
      },
      "source": [
        "#1. torch.rand()\n",
        "\n",
        "*  Returns a tensor filled with random numbers from a uniform distribution on the interval [0, 1).\n",
        "*  For help run `?torch.rand()`"
      ]
    },
    {
      "cell_type": "code",
      "metadata": {
        "colab": {
          "base_uri": "https://localhost:8080/"
        },
        "id": "JMnZ32u5VWSL",
        "outputId": "7a8db270-ec6e-4c8c-d000-beb2e7712f3c"
      },
      "source": [
        "a = torch.rand(5)\n",
        "print(a,'\\n')\n",
        "\n",
        "torch.rand(3, 5)"
      ],
      "execution_count": 18,
      "outputs": [
        {
          "output_type": "stream",
          "text": [
            "tensor([0.6845, 0.6370, 0.2613, 0.5022, 0.6408]) \n",
            "\n"
          ],
          "name": "stdout"
        },
        {
          "output_type": "execute_result",
          "data": {
            "text/plain": [
              "tensor([[0.3184, 0.0680, 0.2421, 0.1870, 0.0050],\n",
              "        [0.3706, 0.4866, 0.1099, 0.3350, 0.9877],\n",
              "        [0.2038, 0.5867, 0.6958, 0.3866, 0.2518]])"
            ]
          },
          "metadata": {
            "tags": []
          },
          "execution_count": 18
        }
      ]
    },
    {
      "cell_type": "markdown",
      "metadata": {
        "id": "Gl4pdnrtXR48"
      },
      "source": [
        "#2. torch.rand_like()\n",
        "*  Returns a tensor with the same size as input that is filled with random numbers from a uniform distribution on the interval [0, 1) . \n"
      ]
    },
    {
      "cell_type": "code",
      "metadata": {
        "colab": {
          "base_uri": "https://localhost:8080/"
        },
        "id": "2OtX3gaxVapK",
        "outputId": "20dfbe34-f0dd-409c-f837-a8735363aab8"
      },
      "source": [
        "t1 = torch.rand_like(a)\n",
        "print(t1)\n",
        "\n",
        "t2 = torch.rand(a.shape) #same as rand(with a.shape).\n",
        "print(t2)"
      ],
      "execution_count": 24,
      "outputs": [
        {
          "output_type": "stream",
          "text": [
            "tensor([0.2195, 0.6093, 0.5904, 0.7406, 0.7221])\n",
            "tensor([0.1635, 0.8888, 0.0301, 0.6452, 0.0613])\n"
          ],
          "name": "stdout"
        },
        {
          "output_type": "execute_result",
          "data": {
            "text/plain": [
              "torch.float32"
            ]
          },
          "metadata": {
            "tags": []
          },
          "execution_count": 24
        }
      ]
    },
    {
      "cell_type": "markdown",
      "metadata": {
        "id": "1_k9faaXZmeI"
      },
      "source": [
        "#3. torch.randint(start, end , size)\n",
        "*  Returns a tensor filled with random integers generated uniformly between low (inclusive) and high (exclusive).\n",
        "\n",
        "> *  start (int, optional) – Lowest integer to be drawn from the distribution. Default: 0.\n",
        "*  end (int) – One above the highest integer to be drawn from the distribution.\n",
        "*  size (tuple) – a tuple defining the shape of the output tensor."
      ]
    },
    {
      "cell_type": "code",
      "metadata": {
        "colab": {
          "base_uri": "https://localhost:8080/"
        },
        "id": "cwPToPTRahvl",
        "outputId": "8bf70ec8-86e0-4c48-d8cf-a51551ae3ab0"
      },
      "source": [
        "t = torch.randint(3, 6, (10,))\n",
        "print(t, '\\n')\n",
        "\n",
        "#DataTypes.\n",
        "print(t2.dtype)\n",
        "t.dtype"
      ],
      "execution_count": 27,
      "outputs": [
        {
          "output_type": "stream",
          "text": [
            "tensor([5, 5, 3, 5, 4, 3, 3, 5, 5, 4]) \n",
            "\n",
            "torch.float32\n"
          ],
          "name": "stdout"
        },
        {
          "output_type": "execute_result",
          "data": {
            "text/plain": [
              "torch.int64"
            ]
          },
          "metadata": {
            "tags": []
          },
          "execution_count": 27
        }
      ]
    },
    {
      "cell_type": "code",
      "metadata": {
        "colab": {
          "base_uri": "https://localhost:8080/"
        },
        "id": "H8LBJd2IbWMZ",
        "outputId": "c54e0396-7d59-4b9a-ade6-f143c63ff43f"
      },
      "source": [
        "torch.randint(10, (3,3)) #start is 0."
      ],
      "execution_count": 29,
      "outputs": [
        {
          "output_type": "execute_result",
          "data": {
            "text/plain": [
              "tensor([[7, 4, 5],\n",
              "        [3, 6, 5],\n",
              "        [0, 2, 0]])"
            ]
          },
          "metadata": {
            "tags": []
          },
          "execution_count": 29
        }
      ]
    },
    {
      "cell_type": "markdown",
      "metadata": {
        "id": "xBkwjkKLcTuO"
      },
      "source": [
        "#4. torch.randn()\n",
        "* Returns a tensor filled with random numbers from a normal distribution with mean 0 and variance 1 (also called the standard normal distribution).\n"
      ]
    },
    {
      "cell_type": "code",
      "metadata": {
        "colab": {
          "base_uri": "https://localhost:8080/"
        },
        "id": "QZJOSU42cS6W",
        "outputId": "e10bf103-b5ae-4269-97e7-bf1a1697cf46"
      },
      "source": [
        "torch.randn(5)"
      ],
      "execution_count": 30,
      "outputs": [
        {
          "output_type": "execute_result",
          "data": {
            "text/plain": [
              "tensor([-0.4331, -0.9583, -0.3319, -1.1503,  0.5199])"
            ]
          },
          "metadata": {
            "tags": []
          },
          "execution_count": 30
        }
      ]
    },
    {
      "cell_type": "code",
      "metadata": {
        "colab": {
          "base_uri": "https://localhost:8080/"
        },
        "id": "Copnqzefch6s",
        "outputId": "3036e185-dc96-4d1d-fcd5-1dca6e26a688"
      },
      "source": [
        "torch.randn(4, 5)"
      ],
      "execution_count": 31,
      "outputs": [
        {
          "output_type": "execute_result",
          "data": {
            "text/plain": [
              "tensor([[ 0.6037, -0.2700,  0.2843, -1.0879, -1.1512],\n",
              "        [ 0.1958,  1.0823, -0.3895,  1.0206, -0.8872],\n",
              "        [-1.0798, -0.8705, -0.4660,  0.4727, -0.1131],\n",
              "        [-0.9025,  0.2551, -0.3048,  0.8060,  1.0945]])"
            ]
          },
          "metadata": {
            "tags": []
          },
          "execution_count": 31
        }
      ]
    },
    {
      "cell_type": "markdown",
      "metadata": {
        "id": "39D4W0qHc2Qm"
      },
      "source": [
        "#5. torch.randperm()\n",
        "* Returns a random permutation of integers from 0 to n - 1."
      ]
    },
    {
      "cell_type": "code",
      "metadata": {
        "colab": {
          "base_uri": "https://localhost:8080/"
        },
        "id": "SCC3FQmMc-3d",
        "outputId": "98da654b-9552-43af-f55b-d4d751b5f1de"
      },
      "source": [
        "torch.randperm(5)"
      ],
      "execution_count": 32,
      "outputs": [
        {
          "output_type": "execute_result",
          "data": {
            "text/plain": [
              "tensor([2, 1, 3, 0, 4])"
            ]
          },
          "metadata": {
            "tags": []
          },
          "execution_count": 32
        }
      ]
    },
    {
      "cell_type": "markdown",
      "metadata": {
        "id": "N-y4X85Pdo2L"
      },
      "source": [
        "#6. torch.numel()\n",
        "*  Returns the total number of elements in the input tensor."
      ]
    },
    {
      "cell_type": "code",
      "metadata": {
        "colab": {
          "base_uri": "https://localhost:8080/"
        },
        "id": "gFTvBuZndzxw",
        "outputId": "3d60cc80-f6e8-4238-e65e-46305e14ce7f"
      },
      "source": [
        "t = torch.randn(4, 5)\n",
        "print(t, '\\n')\n",
        "print('Length of t:', +torch.numel(t))"
      ],
      "execution_count": 40,
      "outputs": [
        {
          "output_type": "stream",
          "text": [
            "tensor([[ 0.9245, -0.2542, -0.4275, -1.3297,  0.5035],\n",
            "        [-1.2464, -1.2554,  1.1284,  1.4145, -0.4358],\n",
            "        [ 1.1167, -0.7841, -1.0878, -0.2742,  3.6850],\n",
            "        [ 0.7516, -1.7655,  1.1681, -0.4039,  0.6874]]) \n",
            "\n",
            "Length of t: 20\n"
          ],
          "name": "stdout"
        }
      ]
    },
    {
      "cell_type": "markdown",
      "metadata": {
        "id": "jiTS7r5Qe5Z0"
      },
      "source": [
        "#7. torch.zeros()\n",
        "*  Returns a tensor filled with the scalar value 0, with the shape defined by the variable argument size."
      ]
    },
    {
      "cell_type": "code",
      "metadata": {
        "colab": {
          "base_uri": "https://localhost:8080/"
        },
        "id": "gmSFSr16fDLK",
        "outputId": "c1954cfd-5d57-4fa1-ae63-d9563aa89c42"
      },
      "source": [
        "t = torch.zeros(10)\n",
        "t"
      ],
      "execution_count": 43,
      "outputs": [
        {
          "output_type": "execute_result",
          "data": {
            "text/plain": [
              "tensor([0., 0., 0., 0., 0., 0., 0., 0., 0., 0.])"
            ]
          },
          "metadata": {
            "tags": []
          },
          "execution_count": 43
        }
      ]
    },
    {
      "cell_type": "code",
      "metadata": {
        "colab": {
          "base_uri": "https://localhost:8080/"
        },
        "id": "SB0e4YEMfGVD",
        "outputId": "775ac003-5c7c-4c5f-96ee-8ae8bee54690"
      },
      "source": [
        "t = torch.zeros(3, 5)\n",
        "t"
      ],
      "execution_count": 45,
      "outputs": [
        {
          "output_type": "execute_result",
          "data": {
            "text/plain": [
              "tensor([[0., 0., 0., 0., 0.],\n",
              "        [0., 0., 0., 0., 0.],\n",
              "        [0., 0., 0., 0., 0.]])"
            ]
          },
          "metadata": {
            "tags": []
          },
          "execution_count": 45
        }
      ]
    },
    {
      "cell_type": "code",
      "metadata": {
        "colab": {
          "base_uri": "https://localhost:8080/"
        },
        "id": "wVFsN6zbfkOV",
        "outputId": "4e770cc8-b59e-4664-cc31-899f131a91c0"
      },
      "source": [
        "torch.zeros_like(t)\n",
        "\n",
        "#Returns a tensor filled with the scalar value 0, with the same size as input. \n",
        "#torch.zeros_like(input) is equivalent to torch.zeros(input.size(), dtype=input.dtype, layout=input.layout, device=input.device)."
      ],
      "execution_count": 46,
      "outputs": [
        {
          "output_type": "execute_result",
          "data": {
            "text/plain": [
              "tensor([[0., 0., 0., 0., 0.],\n",
              "        [0., 0., 0., 0., 0.],\n",
              "        [0., 0., 0., 0., 0.]])"
            ]
          },
          "metadata": {
            "tags": []
          },
          "execution_count": 46
        }
      ]
    },
    {
      "cell_type": "code",
      "metadata": {
        "colab": {
          "base_uri": "https://localhost:8080/"
        },
        "id": "UWme1Gi8f8yT",
        "outputId": "dd2e4532-02f2-4479-c803-5ca817c9d31f"
      },
      "source": [
        "t = torch.ones(4,5)\n",
        "print(t)"
      ],
      "execution_count": 48,
      "outputs": [
        {
          "output_type": "stream",
          "text": [
            "tensor([[1., 1., 1., 1., 1.],\n",
            "        [1., 1., 1., 1., 1.],\n",
            "        [1., 1., 1., 1., 1.],\n",
            "        [1., 1., 1., 1., 1.]])\n"
          ],
          "name": "stdout"
        }
      ]
    },
    {
      "cell_type": "code",
      "metadata": {
        "colab": {
          "base_uri": "https://localhost:8080/"
        },
        "id": "fmxVkRrYgB8T",
        "outputId": "a39d7a82-1fc4-4ad0-bc7e-1e76ad95d01c"
      },
      "source": [
        "torch.ones_like(t)  #Returns a tensor filled with the scalar value 1, with the same size as input."
      ],
      "execution_count": 49,
      "outputs": [
        {
          "output_type": "execute_result",
          "data": {
            "text/plain": [
              "tensor([[1., 1., 1., 1., 1.],\n",
              "        [1., 1., 1., 1., 1.],\n",
              "        [1., 1., 1., 1., 1.],\n",
              "        [1., 1., 1., 1., 1.]])"
            ]
          },
          "metadata": {
            "tags": []
          },
          "execution_count": 49
        }
      ]
    },
    {
      "cell_type": "code",
      "metadata": {
        "colab": {
          "base_uri": "https://localhost:8080/"
        },
        "id": "Bc12-AmrhHGD",
        "outputId": "1bf60693-4799-4277-eb7e-49eb8c4fe215"
      },
      "source": [
        "#torch.empty()\n",
        "\n",
        "#Returns a tensor filled with uninitialized data. The shape of the tensor is defined by the variable argument size.\n",
        "\n",
        "torch.empty(2,3)"
      ],
      "execution_count": 51,
      "outputs": [
        {
          "output_type": "execute_result",
          "data": {
            "text/plain": [
              "tensor([[2.8088e+34, 3.0950e-41, 2.3694e-38],\n",
              "        [2.3694e-38, 2.3694e-38, 1.2751e-40]])"
            ]
          },
          "metadata": {
            "tags": []
          },
          "execution_count": 51
        }
      ]
    },
    {
      "cell_type": "code",
      "metadata": {
        "colab": {
          "base_uri": "https://localhost:8080/"
        },
        "id": "A0z45C2fhsy-",
        "outputId": "9cb91446-a2a5-4e4f-c382-ef9026531b82"
      },
      "source": [
        "#torch.full()\n",
        "#Creates a tensor of size size filled with fill_value. The tensor’s dtype is inferred from fill_value.\n",
        "\n",
        "torch.full((3,4), 2.14674)"
      ],
      "execution_count": 53,
      "outputs": [
        {
          "output_type": "execute_result",
          "data": {
            "text/plain": [
              "tensor([[2.1467, 2.1467, 2.1467, 2.1467],\n",
              "        [2.1467, 2.1467, 2.1467, 2.1467],\n",
              "        [2.1467, 2.1467, 2.1467, 2.1467]])"
            ]
          },
          "metadata": {
            "tags": []
          },
          "execution_count": 53
        }
      ]
    },
    {
      "cell_type": "code",
      "metadata": {
        "colab": {
          "base_uri": "https://localhost:8080/"
        },
        "id": "FhAnhvBNjU0L",
        "outputId": "3fc1e64d-d144-4978-fcb9-82a0b4c0ccd3"
      },
      "source": [
        "#torch.transpose()\n",
        "t = torch.randn(3, 4)\n",
        "t"
      ],
      "execution_count": 55,
      "outputs": [
        {
          "output_type": "execute_result",
          "data": {
            "text/plain": [
              "tensor([[-0.1053, -0.9059,  2.0552,  0.0378],\n",
              "        [-0.5946, -0.1392,  0.7254,  1.1007],\n",
              "        [-0.3863,  0.7889, -0.1227, -0.6007]])"
            ]
          },
          "metadata": {
            "tags": []
          },
          "execution_count": 55
        }
      ]
    },
    {
      "cell_type": "code",
      "metadata": {
        "colab": {
          "base_uri": "https://localhost:8080/"
        },
        "id": "FxF2IDdTjeZ7",
        "outputId": "d6a8f002-61c1-4710-d0f2-f0bc196072ad"
      },
      "source": [
        "torch.transpose(t, 0, 1)"
      ],
      "execution_count": 57,
      "outputs": [
        {
          "output_type": "execute_result",
          "data": {
            "text/plain": [
              "tensor([[-0.1053, -0.5946, -0.3863],\n",
              "        [-0.9059, -0.1392,  0.7889],\n",
              "        [ 2.0552,  0.7254, -0.1227],\n",
              "        [ 0.0378,  1.1007, -0.6007]])"
            ]
          },
          "metadata": {
            "tags": []
          },
          "execution_count": 57
        }
      ]
    },
    {
      "cell_type": "code",
      "metadata": {
        "colab": {
          "base_uri": "https://localhost:8080/"
        },
        "id": "SjVBEWhbkNfv",
        "outputId": "15fdfeee-996a-422b-8d46-4cf6a3c998d9"
      },
      "source": [
        "#torch.abs()\n",
        "#Computes the absolute value of each element in input.\n",
        "\n",
        "t = torch.randn(5)\n",
        "t"
      ],
      "execution_count": 62,
      "outputs": [
        {
          "output_type": "execute_result",
          "data": {
            "text/plain": [
              "tensor([ 0.1942, -0.6066,  1.0267,  0.2795, -1.5949])"
            ]
          },
          "metadata": {
            "tags": []
          },
          "execution_count": 62
        }
      ]
    },
    {
      "cell_type": "code",
      "metadata": {
        "colab": {
          "base_uri": "https://localhost:8080/"
        },
        "id": "VkFb69YCkjlp",
        "outputId": "e7bc0605-66cd-47a9-b904-01555abd495c"
      },
      "source": [
        "torch.abs(t) #absolute value of each element."
      ],
      "execution_count": 63,
      "outputs": [
        {
          "output_type": "execute_result",
          "data": {
            "text/plain": [
              "tensor([0.1942, 0.6066, 1.0267, 0.2795, 1.5949])"
            ]
          },
          "metadata": {
            "tags": []
          },
          "execution_count": 63
        }
      ]
    },
    {
      "cell_type": "code",
      "metadata": {
        "colab": {
          "base_uri": "https://localhost:8080/"
        },
        "id": "BmDUgWq5msGa",
        "outputId": "be53ce7c-1f3d-4b88-eb9a-f587ec7f17df"
      },
      "source": [
        "#torch.acos\n",
        "#Computes the inverse cosine of each element in input.\n",
        "\n",
        "t = torch.randn(5)\n",
        "t"
      ],
      "execution_count": 64,
      "outputs": [
        {
          "output_type": "execute_result",
          "data": {
            "text/plain": [
              "tensor([-0.1400,  1.0957,  0.9070,  0.5290, -0.3028])"
            ]
          },
          "metadata": {
            "tags": []
          },
          "execution_count": 64
        }
      ]
    },
    {
      "cell_type": "code",
      "metadata": {
        "colab": {
          "base_uri": "https://localhost:8080/"
        },
        "id": "HxjbNtnbmzt8",
        "outputId": "819a65cb-ad5e-4c69-ec43-3a6900a1f3fd"
      },
      "source": [
        "torch.acos(t)"
      ],
      "execution_count": 65,
      "outputs": [
        {
          "output_type": "execute_result",
          "data": {
            "text/plain": [
              "tensor([1.7113,    nan, 0.4347, 1.0134, 1.8784])"
            ]
          },
          "metadata": {
            "tags": []
          },
          "execution_count": 65
        }
      ]
    },
    {
      "cell_type": "markdown",
      "metadata": {
        "id": "XGm9NiXGrYHI"
      },
      "source": [
        "#torch.add(input, other)\n",
        "*  Adds the scalar `other` to each element of the input `input` and returns a new resulting tensor.\n",
        "\n",
        "*  out=input+other"
      ]
    },
    {
      "cell_type": "code",
      "metadata": {
        "colab": {
          "base_uri": "https://localhost:8080/"
        },
        "id": "MOlfX7IxnLJY",
        "outputId": "edcfffba-0d04-4a43-8bdc-f08570b5eaca"
      },
      "source": [
        "t = torch.randn(5)\n",
        "t"
      ],
      "execution_count": 66,
      "outputs": [
        {
          "output_type": "execute_result",
          "data": {
            "text/plain": [
              "tensor([-1.0009,  0.3310, -0.6285, -1.1551, -0.1357])"
            ]
          },
          "metadata": {
            "tags": []
          },
          "execution_count": 66
        }
      ]
    },
    {
      "cell_type": "code",
      "metadata": {
        "colab": {
          "base_uri": "https://localhost:8080/"
        },
        "id": "wvjRe77nrtW3",
        "outputId": "f6e3da28-a557-4e25-f7f3-fed2bd977573"
      },
      "source": [
        "torch.add(t, 20)"
      ],
      "execution_count": 67,
      "outputs": [
        {
          "output_type": "execute_result",
          "data": {
            "text/plain": [
              "tensor([18.9991, 20.3310, 19.3715, 18.8449, 19.8643])"
            ]
          },
          "metadata": {
            "tags": []
          },
          "execution_count": 67
        }
      ]
    },
    {
      "cell_type": "markdown",
      "metadata": {
        "id": "1YLvA8UXsc-m"
      },
      "source": [
        "#torch.add(input, other, alpha=1)\n",
        "*  Each element of the tensor other is multiplied by the scalar alpha and added to each element of the tensor input. The resulting tensor is returned.\n",
        "*  out = input + alpha × other"
      ]
    },
    {
      "cell_type": "code",
      "metadata": {
        "colab": {
          "base_uri": "https://localhost:8080/"
        },
        "id": "CkRYg6nBssl5",
        "outputId": "cf8ef168-a5b5-40ac-dfef-e1048aa90580"
      },
      "source": [
        "t1 = torch.randint(3, 6, (10,))\n",
        "t1"
      ],
      "execution_count": 68,
      "outputs": [
        {
          "output_type": "execute_result",
          "data": {
            "text/plain": [
              "tensor([3, 3, 5, 5, 3, 5, 3, 3, 4, 5])"
            ]
          },
          "metadata": {
            "tags": []
          },
          "execution_count": 68
        }
      ]
    },
    {
      "cell_type": "code",
      "metadata": {
        "colab": {
          "base_uri": "https://localhost:8080/"
        },
        "id": "xl9JVyj4tKJg",
        "outputId": "9b9c4888-5cd2-48e2-da3b-70e4beb332e4"
      },
      "source": [
        "t2 = torch.randint(3, 6, (10,))\n",
        "t2"
      ],
      "execution_count": 69,
      "outputs": [
        {
          "output_type": "execute_result",
          "data": {
            "text/plain": [
              "tensor([4, 3, 3, 5, 3, 3, 3, 3, 5, 5])"
            ]
          },
          "metadata": {
            "tags": []
          },
          "execution_count": 69
        }
      ]
    },
    {
      "cell_type": "code",
      "metadata": {
        "colab": {
          "base_uri": "https://localhost:8080/"
        },
        "id": "_ZBiRRgntO7_",
        "outputId": "c1b51f66-335a-4c4b-c786-19613764731f"
      },
      "source": [
        "torch.add(t1, t2, alpha=10)"
      ],
      "execution_count": 71,
      "outputs": [
        {
          "output_type": "execute_result",
          "data": {
            "text/plain": [
              "tensor([43, 33, 35, 55, 33, 35, 33, 33, 54, 55])"
            ]
          },
          "metadata": {
            "tags": []
          },
          "execution_count": 71
        }
      ]
    },
    {
      "cell_type": "code",
      "metadata": {
        "colab": {
          "base_uri": "https://localhost:8080/"
        },
        "id": "5J7WA1WktfXW",
        "outputId": "7f1bdf87-40ea-4310-c944-87bf0794d089"
      },
      "source": [
        "t1 = torch.randn(3)\n",
        "print(t1, '\\n')\n",
        "\n",
        "t2 = torch.randn(4, 1)\n",
        "print(t2, '\\n')\n",
        "\n",
        "print(torch.add(t1, t2, alpha=10))"
      ],
      "execution_count": 76,
      "outputs": [
        {
          "output_type": "stream",
          "text": [
            "tensor([-0.9761, -0.3137,  0.9136]) \n",
            "\n",
            "tensor([[ 0.5234],\n",
            "        [-1.2397],\n",
            "        [-0.9897],\n",
            "        [-1.3131]]) \n",
            "\n",
            "tensor([[  4.2576,   4.9200,   6.1473],\n",
            "        [-13.3727, -12.7103, -11.4831],\n",
            "        [-10.8727, -10.2103,  -8.9830],\n",
            "        [-14.1072, -13.4448, -12.2175]])\n"
          ],
          "name": "stdout"
        }
      ]
    },
    {
      "cell_type": "markdown",
      "metadata": {
        "id": "Me6uonM2vegI"
      },
      "source": [
        "#torch.addcdiv(input, tensor1, tensor2, value=1)\n",
        "*  Performs the element-wise division of `tensor1` by `tensor2`, multiply the result by the scalar `value` and add it to `input`.\n",
        "\n",
        "\n",
        "\n",
        "> *  input (Tensor) – the tensor to be added\n",
        "*  tensor1 (Tensor) – the numerator tensor\n",
        "*  tensor2 (Tensor) – the denominator tensor\n",
        "*  value (Number, optional) – multiplier for tensor1/tensor2\n",
        "\n",
        "Integer division with addcdiv is no longer supported, and in a future release addcdiv will perform a true division of tensor1 and tensor2. "
      ]
    },
    {
      "cell_type": "code",
      "metadata": {
        "colab": {
          "base_uri": "https://localhost:8080/"
        },
        "id": "ZxPiKAXiwQxZ",
        "outputId": "e886f36a-df96-4dfc-8a96-1e158c38d994"
      },
      "source": [
        "input = torch.randint(3, 6, (10,))\n",
        "print(input, '\\n')\n",
        "\n",
        "t1 = torch.randint(3, 6, (10,))\n",
        "print(t1, '\\n')\n",
        "\n",
        "t2 = torch.randint(3, 6, (10,))\n",
        "print(t2, '\\n')\n",
        "\n",
        "value= 10\n",
        "print((input + value * torch.trunc(t1 / t2)).to(input.dtype), '\\n')\n",
        "\n",
        "print((input + value * t1 / t2))"
      ],
      "execution_count": 82,
      "outputs": [
        {
          "output_type": "stream",
          "text": [
            "tensor([3, 3, 5, 4, 4, 3, 3, 4, 5, 5]) \n",
            "\n",
            "tensor([3, 3, 3, 3, 5, 4, 4, 3, 3, 3]) \n",
            "\n",
            "tensor([5, 3, 3, 4, 3, 3, 5, 3, 3, 4]) \n",
            "\n",
            "tensor([ 3, 13, 15,  4, 14, 13,  3, 14, 15,  5]) \n",
            "\n",
            "tensor([ 9.0000, 13.0000, 15.0000, 11.5000, 20.6667, 16.3333, 11.0000, 14.0000,\n",
            "        15.0000, 12.5000])\n"
          ],
          "name": "stdout"
        }
      ]
    },
    {
      "cell_type": "code",
      "metadata": {
        "colab": {
          "base_uri": "https://localhost:8080/"
        },
        "id": "eLx214ynx0zc",
        "outputId": "fadb313c-8cba-4c4f-b38a-b1e47a3419ac"
      },
      "source": [
        "t = torch.randn(1, 3)\n",
        "t1 = torch.randn(3, 1)\n",
        "t2 = torch.randn(1, 3)\n",
        "print(torch.addcdiv(t, t1, t2, value=0.1), '\\n')\n",
        "\n",
        "value=0.01\n",
        "print((t + value * t1 / t2))"
      ],
      "execution_count": 85,
      "outputs": [
        {
          "output_type": "stream",
          "text": [
            "tensor([[  1.5354,  -1.0019,   0.4363],\n",
            "        [  1.0643, -22.4808,   0.7804],\n",
            "        [  1.7461,   8.6027,   0.2824]]) \n",
            "\n",
            "tensor([[ 1.5418, -0.7128,  0.4317],\n",
            "        [ 1.4946, -2.8606,  0.4661],\n",
            "        [ 1.5628,  0.2477,  0.4163]])\n"
          ],
          "name": "stdout"
        }
      ]
    },
    {
      "cell_type": "code",
      "metadata": {
        "colab": {
          "base_uri": "https://localhost:8080/"
        },
        "id": "UhrHTmbwyu6c",
        "outputId": "ab5a9836-1fc4-48c2-e4a6-9b46ff4849f0"
      },
      "source": [
        "#torch.addcmul(input, tensor1, tensor2, value=1)\n",
        "\n",
        "#Performs the element-wise multiplication of tensor1 by tensor2, multiply the result by the scalar value and add it to input.\n",
        "\n",
        "input = torch.randint(3, 6, (10,))\n",
        "print(input, '\\n')\n",
        "\n",
        "t1 = torch.randint(3, 6, (10,))\n",
        "print(t1, '\\n')\n",
        "\n",
        "t2 = torch.randint(3, 6, (10,))\n",
        "print(t2, '\\n')\n",
        "\n",
        "print(torch.addcmul(input, t1, t2, value=10))"
      ],
      "execution_count": 87,
      "outputs": [
        {
          "output_type": "stream",
          "text": [
            "tensor([5, 4, 4, 4, 4, 5, 5, 3, 4, 4]) \n",
            "\n",
            "tensor([3, 4, 5, 3, 4, 4, 3, 3, 4, 3]) \n",
            "\n",
            "tensor([4, 3, 5, 5, 3, 3, 4, 5, 5, 4]) \n",
            "\n",
            "tensor([125, 124, 254, 154, 124, 125, 125, 153, 204, 124])\n"
          ],
          "name": "stdout"
        }
      ]
    },
    {
      "cell_type": "code",
      "metadata": {
        "colab": {
          "base_uri": "https://localhost:8080/"
        },
        "id": "erKuhF0dzgRE",
        "outputId": "82b0cd15-34f0-4fb4-ad7d-5152508de8df"
      },
      "source": [
        "t = torch.randn(1, 3)\n",
        "t1 = torch.randn(3, 1)\n",
        "t2 = torch.randn(1, 3)\n",
        "print(torch.addcmul(t, t1, t2, value=0.1), '\\n')\n",
        "\n",
        "value=0.1\n",
        "print((t + value * t1 * t2))"
      ],
      "execution_count": 89,
      "outputs": [
        {
          "output_type": "stream",
          "text": [
            "tensor([[0.6863, 0.3794, 0.9321],\n",
            "        [0.6502, 0.4307, 0.9385],\n",
            "        [0.6954, 0.3665, 0.9305]]) \n",
            "\n",
            "tensor([[0.6863, 0.3794, 0.9321],\n",
            "        [0.6502, 0.4307, 0.9385],\n",
            "        [0.6954, 0.3665, 0.9305]])\n"
          ],
          "name": "stdout"
        }
      ]
    },
    {
      "cell_type": "code",
      "metadata": {
        "colab": {
          "base_uri": "https://localhost:8080/"
        },
        "id": "fWOK_kk80ZuI",
        "outputId": "b23edc40-15b2-431a-bbb7-1b0d7c91a26a"
      },
      "source": [
        "#torch.exp()\n",
        "#Returns a new tensor with the exponential of the elements of the input tensor input.\n",
        "t1 = torch.randint(3, 6, (10,))\n",
        "torch.exp(t1)"
      ],
      "execution_count": 91,
      "outputs": [
        {
          "output_type": "execute_result",
          "data": {
            "text/plain": [
              "tensor([ 54.5981, 148.4132, 148.4132,  20.0855,  20.0855,  54.5981,  54.5981,\n",
              "         54.5981,  20.0855,  20.0855])"
            ]
          },
          "metadata": {
            "tags": []
          },
          "execution_count": 91
        }
      ]
    },
    {
      "cell_type": "code",
      "metadata": {
        "colab": {
          "base_uri": "https://localhost:8080/"
        },
        "id": "IHBy6SfM034a",
        "outputId": "bd99adf2-9eb2-4ac5-9fbb-d9d463eecb90"
      },
      "source": [
        "import math\n",
        "t = torch.tensor([0, math.log(2.)])\n",
        "print(t,'\\n')\n",
        "torch.exp(t)"
      ],
      "execution_count": 94,
      "outputs": [
        {
          "output_type": "stream",
          "text": [
            "tensor([0.0000, 0.6931]) \n",
            "\n"
          ],
          "name": "stdout"
        },
        {
          "output_type": "execute_result",
          "data": {
            "text/plain": [
              "tensor([1., 2.])"
            ]
          },
          "metadata": {
            "tags": []
          },
          "execution_count": 94
        }
      ]
    },
    {
      "cell_type": "code",
      "metadata": {
        "colab": {
          "base_uri": "https://localhost:8080/"
        },
        "id": "JV3_yvtZ1NX7",
        "outputId": "c4777462-71ac-439c-d439-931c5beee1c9"
      },
      "source": [
        "#torch.exp2()\n",
        "#Computes the base two exponential function of input.\n",
        "\n",
        "t = torch.tensor([0, math.log(2.), 2, 3])\n",
        "print(t,'\\n')\n",
        "torch.exp2(t)"
      ],
      "execution_count": 96,
      "outputs": [
        {
          "output_type": "stream",
          "text": [
            "tensor([0.0000, 0.6931, 2.0000, 3.0000]) \n",
            "\n"
          ],
          "name": "stdout"
        },
        {
          "output_type": "execute_result",
          "data": {
            "text/plain": [
              "tensor([1.0000, 1.6168, 4.0000, 8.0000])"
            ]
          },
          "metadata": {
            "tags": []
          },
          "execution_count": 96
        }
      ]
    },
    {
      "cell_type": "code",
      "metadata": {
        "colab": {
          "base_uri": "https://localhost:8080/"
        },
        "id": "BgQbkGMR3Zpn",
        "outputId": "da49dc9b-3ad2-433f-8e12-dd9b98102d6d"
      },
      "source": [
        "#torch.trunc(input)\n",
        "#Returns a new tensor with the truncated integer values of the elements of input.\n",
        "\n",
        "input  = torch.randn(4)\n",
        "print(input, '\\n')\n",
        "\n",
        "print(torch.trunc(input))"
      ],
      "execution_count": 100,
      "outputs": [
        {
          "output_type": "stream",
          "text": [
            "tensor([-0.4473,  1.0704, -1.2216,  0.1048]) \n",
            "\n",
            "tensor([-0.,  1., -1.,  0.])\n"
          ],
          "name": "stdout"
        }
      ]
    },
    {
      "cell_type": "code",
      "metadata": {
        "colab": {
          "base_uri": "https://localhost:8080/"
        },
        "id": "7qcZMgZF4iGY",
        "outputId": "d1ce34c0-519a-436e-dfc2-db85016676bd"
      },
      "source": [
        "#torch.float_power(input, exponent)\n",
        "#Raises input to the power of exponent, elementwise, in double precision. \n",
        "#If neither input is complex returns a torch.float64 tensor, and if one or more inputs is complex returns a torch.complex128 tensor.\n",
        "\n",
        "t = torch.randint(3, 6, (4,))\n",
        "print(t, '\\n')\n",
        "\n",
        "torch.float_power(t, 2)"
      ],
      "execution_count": 102,
      "outputs": [
        {
          "output_type": "stream",
          "text": [
            "tensor([4, 3, 5, 4]) \n",
            "\n"
          ],
          "name": "stdout"
        },
        {
          "output_type": "execute_result",
          "data": {
            "text/plain": [
              "tensor([16.,  9., 25., 16.], dtype=torch.float64)"
            ]
          },
          "metadata": {
            "tags": []
          },
          "execution_count": 102
        }
      ]
    },
    {
      "cell_type": "code",
      "metadata": {
        "colab": {
          "base_uri": "https://localhost:8080/"
        },
        "id": "f56wulAZ5imv",
        "outputId": "bbd225f5-a73e-49a8-cb4a-d1107b176ae1"
      },
      "source": [
        "#torch.log(input)\n",
        "#Returns a new tensor with the natural logarithm of the elements of input.\n",
        "#base is e\n",
        "\n",
        "t = torch.randint(3, 6, (4,))\n",
        "print(t, '\\n')\n",
        "\n",
        "torch.log(t)"
      ],
      "execution_count": 103,
      "outputs": [
        {
          "output_type": "stream",
          "text": [
            "tensor([4, 3, 5, 3]) \n",
            "\n"
          ],
          "name": "stdout"
        },
        {
          "output_type": "execute_result",
          "data": {
            "text/plain": [
              "tensor([1.3863, 1.0986, 1.6094, 1.0986])"
            ]
          },
          "metadata": {
            "tags": []
          },
          "execution_count": 103
        }
      ]
    },
    {
      "cell_type": "code",
      "metadata": {
        "colab": {
          "base_uri": "https://localhost:8080/"
        },
        "id": "LcpbAdSt535o",
        "outputId": "584f582a-dfce-4134-dced-375fe76483be"
      },
      "source": [
        "#torch.log10(input)\n",
        "#Returns a new tensor with the logarithm to the base 10 of the elements of input.\n",
        "t = torch.randint(2, 20, (10,))\n",
        "print(t, '\\n')\n",
        "\n",
        "torch.log10(t)"
      ],
      "execution_count": 104,
      "outputs": [
        {
          "output_type": "stream",
          "text": [
            "tensor([ 7, 10,  4, 10, 19, 15,  2, 10,  4, 17]) \n",
            "\n"
          ],
          "name": "stdout"
        },
        {
          "output_type": "execute_result",
          "data": {
            "text/plain": [
              "tensor([0.8451, 1.0000, 0.6021, 1.0000, 1.2788, 1.1761, 0.3010, 1.0000, 0.6021,\n",
              "        1.2304])"
            ]
          },
          "metadata": {
            "tags": []
          },
          "execution_count": 104
        }
      ]
    },
    {
      "cell_type": "code",
      "metadata": {
        "colab": {
          "base_uri": "https://localhost:8080/"
        },
        "id": "1LYChNuW9W2p",
        "outputId": "516f4686-07a0-49d9-f146-3cdc6e2b1d13"
      },
      "source": [
        "#torch.pow(input, exponent)\n",
        "#Takes the power of each element in input with exponent and returns a tensor with the result.\n",
        "\n",
        "#exponent can be either a single float number or a Tensor with the same number of elements as input.\n",
        "\n",
        "t = torch.randint(2, 20, (10,))\n",
        "print(t, '\\n')\n",
        "\n",
        "torch.pow(t, 2)"
      ],
      "execution_count": 105,
      "outputs": [
        {
          "output_type": "stream",
          "text": [
            "tensor([ 2, 14,  8,  5, 14,  6,  4, 17, 15,  2]) \n",
            "\n"
          ],
          "name": "stdout"
        },
        {
          "output_type": "execute_result",
          "data": {
            "text/plain": [
              "tensor([  4, 196,  64,  25, 196,  36,  16, 289, 225,   4])"
            ]
          },
          "metadata": {
            "tags": []
          },
          "execution_count": 105
        }
      ]
    },
    {
      "cell_type": "code",
      "metadata": {
        "colab": {
          "base_uri": "https://localhost:8080/"
        },
        "id": "c99BfbF59nqV",
        "outputId": "775344d2-7aa0-4daf-ed31-a27ac8c676f0"
      },
      "source": [
        "t = torch.randint(2, 20, (10,))\n",
        "print(t, '\\n')\n",
        "\n",
        "print(t.add_(10, 2)) #In-place version\n"
      ],
      "execution_count": 118,
      "outputs": [
        {
          "output_type": "stream",
          "text": [
            "tensor([10,  8, 11, 13,  3,  3,  7,  5, 15, 18]) \n",
            "\n",
            "tensor([30, 28, 31, 33, 23, 23, 27, 25, 35, 38])\n"
          ],
          "name": "stdout"
        }
      ]
    },
    {
      "cell_type": "code",
      "metadata": {
        "colab": {
          "base_uri": "https://localhost:8080/"
        },
        "id": "Ux9bDRiz_X8Q",
        "outputId": "7105bb82-54f6-4f1b-9d21-0b1f52029dcf"
      },
      "source": [
        "t = torch.randint(2, 20, (10,))\n",
        "print(t, '\\n')\n",
        "print(t.add(10, 2))"
      ],
      "execution_count": 119,
      "outputs": [
        {
          "output_type": "stream",
          "text": [
            "tensor([18,  2,  8, 10,  2, 16,  5, 17,  7,  2]) \n",
            "\n",
            "tensor([38, 22, 28, 30, 22, 36, 25, 37, 27, 22])\n"
          ],
          "name": "stdout"
        }
      ]
    }
  ]
}