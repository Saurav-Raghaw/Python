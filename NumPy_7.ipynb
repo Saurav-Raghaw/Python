{
  "nbformat": 4,
  "nbformat_minor": 0,
  "metadata": {
    "colab": {
      "name": "NumPy_7.ipynb",
      "provenance": [],
      "authorship_tag": "ABX9TyPPgsL6KTipFXMqc0x/X+tt",
      "include_colab_link": true
    },
    "kernelspec": {
      "name": "python3",
      "display_name": "Python 3"
    },
    "language_info": {
      "name": "python"
    }
  },
  "cells": [
    {
      "cell_type": "markdown",
      "metadata": {
        "id": "view-in-github",
        "colab_type": "text"
      },
      "source": [
        "<a href=\"https://colab.research.google.com/github/Saurav-Raghaw/Python/blob/main/NumPy_7.ipynb\" target=\"_parent\"><img src=\"https://colab.research.google.com/assets/colab-badge.svg\" alt=\"Open In Colab\"/></a>"
      ]
    },
    {
      "cell_type": "code",
      "metadata": {
        "colab": {
          "base_uri": "https://localhost:8080/",
          "height": 52
        },
        "id": "VpMMTkciDFB-",
        "outputId": "bc13bc0a-f0cd-4e2e-a28f-33fd87f75608"
      },
      "source": [
        "#_____NumPy ufunc_____#\n",
        "\n",
        "#ufuncs stands for \"Universal Functions\" and they are NumPy functions that operates on the ndarray object.\n",
        "#ufuncs are used to implement vectorization in NumPy which is way faster than iterating over elements.\n",
        "\n",
        "'''\n",
        "ufunc also take additional arguments:\n",
        "\n",
        "where: boolean array or condition defining where the operations should take place.\n",
        "\n",
        "dtype: defining the return type of elements.\n",
        "\n",
        "out: output array where the return value should be copied.\n",
        "\n",
        "'''\n",
        "#What is Vectorization?\n",
        "#Converting iterative statements into a vector based operation is called vectorization.\n",
        "\n",
        "#It is faster as modern CPUs are optimized for such operations."
      ],
      "execution_count": 3,
      "outputs": [
        {
          "output_type": "execute_result",
          "data": {
            "application/vnd.google.colaboratory.intrinsic+json": {
              "type": "string"
            },
            "text/plain": [
              "'\\nufunc also take additional arguments:\\n\\nwhere: boolean array or condition defining where the operations should take place.\\n\\ndtype: defining the return type of elements.\\n\\nout: output array where the return value should be copied.\\n\\n'"
            ]
          },
          "metadata": {
            "tags": []
          },
          "execution_count": 3
        }
      ]
    },
    {
      "cell_type": "code",
      "metadata": {
        "colab": {
          "base_uri": "https://localhost:8080/"
        },
        "id": "L3BhZ_WAGNGK",
        "outputId": "64a00f61-c20d-41d8-d12c-6c5d91a07bec"
      },
      "source": [
        "#Adding the Elements of Two Lists.\n",
        "#without ufunc.\n",
        "\n",
        "x = [1, 2, 3, 4]\n",
        "y = [4, 5, 6, 7]\n",
        "z = []\n",
        "\n",
        "for i, j in zip(x, y):\n",
        "  z.append(i + j)\n",
        "print(z)"
      ],
      "execution_count": 4,
      "outputs": [
        {
          "output_type": "stream",
          "text": [
            "[5, 7, 9, 11]\n"
          ],
          "name": "stdout"
        }
      ]
    },
    {
      "cell_type": "code",
      "metadata": {
        "colab": {
          "base_uri": "https://localhost:8080/"
        },
        "id": "xaTmlBB4Gq56",
        "outputId": "7b0c7c9b-d2e6-495f-bef1-851452ce1007"
      },
      "source": [
        "#NumPy has a ufunc for this, called add(x, y) that will produce the same result.\n",
        "\n",
        "#With ufunc.\n",
        "\n",
        "import numpy as np\n",
        "\n",
        "x = [1, 2, 3, 4]\n",
        "y = [4, 5, 6, 7]\n",
        "z = np.add(x, y)\n",
        "\n",
        "print(z)"
      ],
      "execution_count": 5,
      "outputs": [
        {
          "output_type": "stream",
          "text": [
            "[ 5  7  9 11]\n"
          ],
          "name": "stdout"
        }
      ]
    },
    {
      "cell_type": "code",
      "metadata": {
        "id": "WsETOlxEHhIh"
      },
      "source": [
        "#Create Your Own ufunc\n",
        "'''\n",
        "To create you own ufunc, you have to define a function, like you do with normal functions in Python, \n",
        "then you add it to your NumPy ufunc library with the frompyfunc() method.\n",
        "\n",
        "The frompyfunc() method takes the following arguments:\n",
        "\n",
        "function - the name of the function.\n",
        "inputs - the number of input arguments (arrays).\n",
        "outputs - the number of output arrays.\n",
        "'''"
      ],
      "execution_count": null,
      "outputs": []
    },
    {
      "cell_type": "code",
      "metadata": {
        "colab": {
          "base_uri": "https://localhost:8080/"
        },
        "id": "SQpPYIkhLfBY",
        "outputId": "3ad4beaf-bbf3-4089-e610-1cb1a0f9e0ea"
      },
      "source": [
        "#Creating your own ufunc for addition.\n",
        "\n",
        "def myadd(x, y):\n",
        "  return x+y\n",
        "\n",
        "myadd = np.frompyfunc(myadd, 2, 1)\n",
        "\n",
        "print(myadd([1, 2, 3, 4], [5, 6, 7, 8]))\n",
        "print(type(np.add))   #Checking the type of a function to check if it is a ufunc or not.\n",
        "print(type(myadd))"
      ],
      "execution_count": 15,
      "outputs": [
        {
          "output_type": "stream",
          "text": [
            "[6 8 10 12]\n",
            "<class 'numpy.ufunc'>\n",
            "<class 'numpy.ufunc'>\n"
          ],
          "name": "stdout"
        }
      ]
    },
    {
      "cell_type": "code",
      "metadata": {
        "colab": {
          "base_uri": "https://localhost:8080/"
        },
        "id": "tSU47bCDOTJz",
        "outputId": "f49dda43-b39b-4eb2-888d-f74fddaddf15"
      },
      "source": [
        "#another wat to check the type.\n",
        "if type(np.add) == np.ufunc:\n",
        "  print('add is ufunc')\n",
        "else:\n",
        "  print('add is not ufunc')"
      ],
      "execution_count": 13,
      "outputs": [
        {
          "output_type": "stream",
          "text": [
            "add is ufunc\n"
          ],
          "name": "stdout"
        }
      ]
    },
    {
      "cell_type": "code",
      "metadata": {
        "colab": {
          "base_uri": "https://localhost:8080/"
        },
        "id": "eW6jEAXkOjY3",
        "outputId": "18d40862-8f6c-4c38-c181-5c10fa7a4563"
      },
      "source": [
        "#Simple Arithmetic\n",
        "#The add() function sums the content of two arrays, and return the results in a new array.\n",
        "\n",
        "arr1 = np.array([10, 11, 12, 13, 14, 15])\n",
        "arr2 = np.array([20, 21, 22, 23, 24, 25])\n",
        "\n",
        "newarr = np.add(arr1, arr2)\n",
        "\n",
        "print(newarr)"
      ],
      "execution_count": 16,
      "outputs": [
        {
          "output_type": "stream",
          "text": [
            "[30 32 34 36 38 40]\n"
          ],
          "name": "stdout"
        }
      ]
    },
    {
      "cell_type": "code",
      "metadata": {
        "colab": {
          "base_uri": "https://localhost:8080/"
        },
        "id": "cZ0uLijWQZzQ",
        "outputId": "c95e28d6-4002-47ed-9fba-34ca5c3f795e"
      },
      "source": [
        "#The subtract() function subtracts the values from one array with the values from another array, \n",
        "#and return the results in a new array.\n",
        "arr1 = np.array([10, 20, 30, 40, 50, 60])\n",
        "arr2 = np.array([20, 21, 22, 23, 24, 25])\n",
        "\n",
        "newarr = np.subtract(arr1, arr2)\n",
        "\n",
        "print(newarr)"
      ],
      "execution_count": 17,
      "outputs": [
        {
          "output_type": "stream",
          "text": [
            "[-10  -1   8  17  26  35]\n"
          ],
          "name": "stdout"
        }
      ]
    },
    {
      "cell_type": "code",
      "metadata": {
        "colab": {
          "base_uri": "https://localhost:8080/"
        },
        "id": "c5XE6unKUCWO",
        "outputId": "09c91361-066d-4828-dbdb-66bb751770d1"
      },
      "source": [
        "#The multiply() function multiplies the values from one array with the values from another array, and return the results in a new array.\n",
        "\n",
        "arr1 = np.array([10, 20, 30, 40, 50, 60])\n",
        "arr2 = np.array([20, 21, 22, 23, 24, 25])\n",
        "\n",
        "newarr = np.multiply(arr1, arr2)\n",
        "\n",
        "print(newarr)"
      ],
      "execution_count": 18,
      "outputs": [
        {
          "output_type": "stream",
          "text": [
            "[ 200  420  660  920 1200 1500]\n"
          ],
          "name": "stdout"
        }
      ]
    },
    {
      "cell_type": "code",
      "metadata": {
        "colab": {
          "base_uri": "https://localhost:8080/"
        },
        "id": "_kIRLtfnUOJf",
        "outputId": "63927a36-e1ec-41aa-99d5-eefb4eaaa53b"
      },
      "source": [
        "#The divide() function divides the values from one array with the values from another array, and return the results in a new array.\n",
        "\n",
        "arr1 = np.array([10, 20, 30, 40, 50, 60])\n",
        "arr2 = np.array([3, 5, 10, 8, 2, 33])\n",
        "\n",
        "newarr = np.divide(arr1, arr2)\n",
        "\n",
        "print(newarr)"
      ],
      "execution_count": 19,
      "outputs": [
        {
          "output_type": "stream",
          "text": [
            "[ 3.33333333  4.          3.          5.         25.          1.81818182]\n"
          ],
          "name": "stdout"
        }
      ]
    },
    {
      "cell_type": "code",
      "metadata": {
        "colab": {
          "base_uri": "https://localhost:8080/"
        },
        "id": "WQNOKcL-U5QZ",
        "outputId": "f8981f2d-4017-4cb7-f9ec-8cee203e6c26"
      },
      "source": [
        "#The power() function rises the values from the first array to the power of the values of the second array, and return the results in a new array.\n",
        "\n",
        "arr1 = np.array([10, 20, 30, 40, 50, 60])\n",
        "arr2 = np.array([3, 5, 6, 8, 2, 33])\n",
        "\n",
        "newarr = np.power(arr1, arr2)\n",
        "\n",
        "print(newarr)"
      ],
      "execution_count": 20,
      "outputs": [
        {
          "output_type": "stream",
          "text": [
            "[         1000       3200000     729000000 6553600000000          2500\n",
            "             0]\n"
          ],
          "name": "stdout"
        }
      ]
    },
    {
      "cell_type": "code",
      "metadata": {
        "colab": {
          "base_uri": "https://localhost:8080/"
        },
        "id": "Mya4PNXAVZl-",
        "outputId": "5d801de1-d442-4053-84d1-f7b2d34b02eb"
      },
      "source": [
        "#Both the mod() and the remainder() functions return the remainder of the values in the first array corresponding to the values in the second array, \n",
        "#and return the results in a new array.\n",
        "\n",
        "arr1 = np.array([10, 20, 30, 40, 50, 60])\n",
        "arr2 = np.array([3, 7, 9, 8, 2, 33])\n",
        "\n",
        "newarr = np.mod(arr1, arr2)\n",
        "newaar = np.remainder(arr1, arr2)\n",
        "\n",
        "print(newarr)\n",
        "print(newaar)"
      ],
      "execution_count": 22,
      "outputs": [
        {
          "output_type": "stream",
          "text": [
            "[ 1  6  3  0  0 27]\n",
            "[ 1  6  3  0  0 27]\n"
          ],
          "name": "stdout"
        }
      ]
    },
    {
      "cell_type": "code",
      "metadata": {
        "colab": {
          "base_uri": "https://localhost:8080/"
        },
        "id": "lX-jSaH8XnyY",
        "outputId": "087facc7-0f9f-4e90-eb44-a0f4980640ab"
      },
      "source": [
        "#The divmod() function return both the quotient and the the mod. The return value is two arrays, \n",
        "#the first array contains the quotient and second array contains the mod.\n",
        "\n",
        "arr1 = np.array([10, 20, 30, 40, 50, 60])\n",
        "arr2 = np.array([3, 7, 9, 8, 2, 33])\n",
        "\n",
        "newarr = np.divmod(arr1, arr2)\n",
        "\n",
        "print(newarr)"
      ],
      "execution_count": 23,
      "outputs": [
        {
          "output_type": "stream",
          "text": [
            "(array([ 3,  2,  3,  5, 25,  1]), array([ 1,  6,  3,  0,  0, 27]))\n"
          ],
          "name": "stdout"
        }
      ]
    },
    {
      "cell_type": "code",
      "metadata": {
        "colab": {
          "base_uri": "https://localhost:8080/"
        },
        "id": "UFvuyKQjZ-YG",
        "outputId": "c578937e-900e-4563-bc35-b2b520dde321"
      },
      "source": [
        "#Both the absolute() and the abs() functions functions do the same absolute operation element-wise but we should use absolute() \n",
        "#to avoid confusion with python's inbuilt math.abs()\n",
        "\n",
        "arr = np.array([-1, -2, 1, 2, 3, -4])\n",
        "\n",
        "newarr = np.absolute(arr)\n",
        "newaar = np.abs(arr)\n",
        "\n",
        "print(newarr)\n",
        "print(newaar)"
      ],
      "execution_count": 25,
      "outputs": [
        {
          "output_type": "stream",
          "text": [
            "[1 2 1 2 3 4]\n",
            "[1 2 1 2 3 4]\n"
          ],
          "name": "stdout"
        }
      ]
    },
    {
      "cell_type": "markdown",
      "metadata": {
        "id": "SzJLQTaKbBXO"
      },
      "source": [
        "#Rounding Decimals\n",
        "There are primarily five ways of rounding off decimals in NumPy:\n",
        "\n",
        "*  truncation\n",
        "*  fix\n",
        "*  rounding\n",
        "*  floor\n",
        "*  ceil"
      ]
    },
    {
      "cell_type": "code",
      "metadata": {
        "colab": {
          "base_uri": "https://localhost:8080/"
        },
        "id": "J5SQyrKVa0kW",
        "outputId": "7668be75-3bd4-45e8-f7fe-c0170fc6f845"
      },
      "source": [
        "#Remove the decimals, and return the float number closest to zero. Use the trunc() and fix() functions.\n",
        "\n",
        "arr = np.trunc([-3.1666, 3.6667])\n",
        "aar = np.fix([-3.1666, 3.6667])\n",
        "\n",
        "print(arr)\n",
        "print(aar)"
      ],
      "execution_count": 27,
      "outputs": [
        {
          "output_type": "stream",
          "text": [
            "[-3.  3.]\n",
            "[-3.  3.]\n"
          ],
          "name": "stdout"
        }
      ]
    },
    {
      "cell_type": "code",
      "metadata": {
        "colab": {
          "base_uri": "https://localhost:8080/"
        },
        "id": "vO6md53Hb-yi",
        "outputId": "590a6988-0f47-488e-bcd7-84c3d9a85417"
      },
      "source": [
        "#Rounding\n",
        "#The around() function increments preceding digit or decimal by 1 if >=5 else do nothing.\n",
        "\n",
        "arr = np.around(3.1666, 2)\n",
        "\n",
        "print(arr)"
      ],
      "execution_count": 28,
      "outputs": [
        {
          "output_type": "stream",
          "text": [
            "3.17\n"
          ],
          "name": "stdout"
        }
      ]
    },
    {
      "cell_type": "code",
      "metadata": {
        "colab": {
          "base_uri": "https://localhost:8080/"
        },
        "id": "bn8m9x4Ccuji",
        "outputId": "b13ec005-fbcd-4d42-c427-e4d9c01c863a"
      },
      "source": [
        "#Floor\n",
        "#The floor() function rounds off decimal to nearest lower integer.\n",
        "\n",
        "arr = np.floor([-3.1666, 3.6667])\n",
        "\n",
        "print(arr)\n",
        "\n",
        "#Note: The floor() function returns floats, unlike the trunc() function who returns integers."
      ],
      "execution_count": 30,
      "outputs": [
        {
          "output_type": "stream",
          "text": [
            "[-4.  3.]\n"
          ],
          "name": "stdout"
        }
      ]
    },
    {
      "cell_type": "code",
      "metadata": {
        "colab": {
          "base_uri": "https://localhost:8080/"
        },
        "id": "sJsvw-JtdWFv",
        "outputId": "2309fe56-4c55-45b1-dd53-054e72c0489b"
      },
      "source": [
        "#Ceil\n",
        "#The ceil() function rounds off decimal to nearest upper integer.\n",
        "\n",
        "arr = np.ceil([-3.1666, 3.6667])\n",
        "\n",
        "print(arr)"
      ],
      "execution_count": 31,
      "outputs": [
        {
          "output_type": "stream",
          "text": [
            "[-3.  4.]\n"
          ],
          "name": "stdout"
        }
      ]
    },
    {
      "cell_type": "code",
      "metadata": {
        "colab": {
          "base_uri": "https://localhost:8080/"
        },
        "id": "IvAurtRseIIZ",
        "outputId": "6682a987-df4f-4182-d62f-d90e9363899c"
      },
      "source": [
        "#NumPy Logs\n",
        "#NumPy provides functions to perform log at the base 2, e and 10.\n",
        "\n",
        "#Log at Base 2\n",
        "#Use the log2() function to perform log at the base 2.\n",
        "\n",
        "arr = np.arange(1, 10)\n",
        "\n",
        "print(arr)\n",
        "print(np.log2(arr))\n",
        "\n",
        "#Note: The arange(1, 10) function returns an array with integers starting from 1 (included) to 10 (not included)."
      ],
      "execution_count": 32,
      "outputs": [
        {
          "output_type": "stream",
          "text": [
            "[1 2 3 4 5 6 7 8 9]\n",
            "[0.         1.         1.5849625  2.         2.32192809 2.5849625\n",
            " 2.80735492 3.         3.169925  ]\n"
          ],
          "name": "stdout"
        }
      ]
    },
    {
      "cell_type": "code",
      "metadata": {
        "colab": {
          "base_uri": "https://localhost:8080/"
        },
        "id": "V7P9julOfK-s",
        "outputId": "cb6b157a-6c44-48d1-fcbb-4c963f934d92"
      },
      "source": [
        "#Log at Base 10\n",
        "#Use the log10() function to perform log at the base 10.\n",
        "\n",
        "arr = np.arange(1, 10)\n",
        "\n",
        "print(arr)\n",
        "print(np.log10(arr))"
      ],
      "execution_count": 34,
      "outputs": [
        {
          "output_type": "stream",
          "text": [
            "[1 2 3 4 5 6 7 8 9]\n",
            "[0.         0.30103    0.47712125 0.60205999 0.69897    0.77815125\n",
            " 0.84509804 0.90308999 0.95424251]\n"
          ],
          "name": "stdout"
        }
      ]
    },
    {
      "cell_type": "code",
      "metadata": {
        "colab": {
          "base_uri": "https://localhost:8080/"
        },
        "id": "C0onp64YgCre",
        "outputId": "0a8f52f9-f351-4575-c7df-d6ae3b65d6fc"
      },
      "source": [
        "#Natural Log, or Log at Base e\n",
        "#Use the log() function to perform log at the base e.\n",
        "\n",
        "arr = np.arange(1, 10)\n",
        "\n",
        "print(arr)\n",
        "print(np.log(arr))"
      ],
      "execution_count": 36,
      "outputs": [
        {
          "output_type": "stream",
          "text": [
            "[1 2 3 4 5 6 7 8 9]\n",
            "[0.         0.69314718 1.09861229 1.38629436 1.60943791 1.79175947\n",
            " 1.94591015 2.07944154 2.19722458]\n"
          ],
          "name": "stdout"
        }
      ]
    }
  ]
}