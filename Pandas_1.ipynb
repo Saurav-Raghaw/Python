{
  "nbformat": 4,
  "nbformat_minor": 0,
  "metadata": {
    "colab": {
      "name": "Pandas_1.ipynb",
      "provenance": [],
      "authorship_tag": "ABX9TyMCMRhYS1L9Kq815QmH6uuI",
      "include_colab_link": true
    },
    "kernelspec": {
      "name": "python3",
      "display_name": "Python 3"
    },
    "language_info": {
      "name": "python"
    }
  },
  "cells": [
    {
      "cell_type": "markdown",
      "metadata": {
        "id": "view-in-github",
        "colab_type": "text"
      },
      "source": [
        "<a href=\"https://colab.research.google.com/github/Saurav-Raghaw/Python/blob/main/Pandas_1.ipynb\" target=\"_parent\"><img src=\"https://colab.research.google.com/assets/colab-badge.svg\" alt=\"Open In Colab\"/></a>"
      ]
    },
    {
      "cell_type": "code",
      "metadata": {
        "id": "chGKB91b1dle"
      },
      "source": [
        "'''\n",
        "\"Pandas\" --> \"Panel Data\", and \"Python Data Analysis\" and was created by Wes McKinney in 2008.\n",
        "It has functions for analyzing, cleaning, exploring, and manipulating data.\n",
        "Pandas allows us to analyze big data and make conclusions based on statistical theories.\n",
        "\n",
        "Pandas can clean messy data sets, and make them readable and relevant.\n",
        "\n",
        "Relevant data is very important in data science.\n",
        "\n",
        "'''"
      ],
      "execution_count": null,
      "outputs": []
    },
    {
      "cell_type": "code",
      "metadata": {
        "id": "2oUuYeXlLALb"
      },
      "source": [
        "import pandas as pd"
      ],
      "execution_count": 6,
      "outputs": []
    },
    {
      "cell_type": "code",
      "metadata": {
        "colab": {
          "base_uri": "https://localhost:8080/"
        },
        "id": "0KmDMacOK_Br",
        "outputId": "41722701-e546-4eb4-8c67-969e0bed0415"
      },
      "source": [
        "print(pd.__version__)"
      ],
      "execution_count": 7,
      "outputs": [
        {
          "output_type": "stream",
          "text": [
            "1.1.5\n"
          ],
          "name": "stdout"
        }
      ]
    },
    {
      "cell_type": "code",
      "metadata": {
        "colab": {
          "base_uri": "https://localhost:8080/"
        },
        "id": "8bMKvIT8JhaR",
        "outputId": "52fe8fe4-3c63-4db2-c937-ba6b9ce5db81"
      },
      "source": [
        "\n",
        "name_dataset = {\n",
        "    'Name': ['Raju', 'Raj', 'Saurav'],\n",
        "    'Age': [25, 23, 24]\n",
        "}\n",
        "\n",
        "data_var = pd.DataFrame(name_dataset)\n",
        "print(data_var)"
      ],
      "execution_count": 5,
      "outputs": [
        {
          "output_type": "stream",
          "text": [
            "     Name  Age\n",
            "0    Raju   25\n",
            "1     Raj   23\n",
            "2  Saurav   24\n"
          ],
          "name": "stdout"
        }
      ]
    },
    {
      "cell_type": "code",
      "metadata": {
        "colab": {
          "base_uri": "https://localhost:8080/"
        },
        "id": "kEb5gOtmMA_F",
        "outputId": "4b29c59c-77ef-4f5e-8570-3e3b6dccaa08"
      },
      "source": [
        "#Pandas Series: A Pandas Series is like a column in a table. It is a one-dimensional array holding data of any type.\n",
        "\n",
        "age = [24, 23, 25]\n",
        "\n",
        "data_var = pd.Series(age)\n",
        "print(data_var)\n",
        "\n",
        "#By default label starts with 0 and used to access the item.\n",
        "print(data_var[2])"
      ],
      "execution_count": 9,
      "outputs": [
        {
          "output_type": "stream",
          "text": [
            "0    24\n",
            "1    23\n",
            "2    25\n",
            "dtype: int64\n",
            "25\n"
          ],
          "name": "stdout"
        }
      ]
    },
    {
      "cell_type": "code",
      "metadata": {
        "colab": {
          "base_uri": "https://localhost:8080/"
        },
        "id": "VO_AmqNLN7Ml",
        "outputId": "a7c2f995-943a-463d-c199-e579898c27ce"
      },
      "source": [
        "#Creating the labels with 'index'\n",
        "age = [24, 23, 25]\n",
        "\n",
        "data_var = pd.Series(age, index=['x', 'y', 'z'])\n",
        "print(data_var)\n",
        "print(data_var['y']) #now we can access with labels."
      ],
      "execution_count": 12,
      "outputs": [
        {
          "output_type": "stream",
          "text": [
            "x    24\n",
            "y    23\n",
            "z    25\n",
            "dtype: int64\n",
            "23\n"
          ],
          "name": "stdout"
        }
      ]
    },
    {
      "cell_type": "code",
      "metadata": {
        "colab": {
          "base_uri": "https://localhost:8080/"
        },
        "id": "j8DFftTFOsBt",
        "outputId": "c7749572-af32-4774-e622-d131d7203f9e"
      },
      "source": [
        "name_data = {'saurav':24, 'raju':23, 'raj':25}\n",
        "\n",
        "data_var= pd.Series(name_data)\n",
        "print(data_var)"
      ],
      "execution_count": 13,
      "outputs": [
        {
          "output_type": "stream",
          "text": [
            "saurav    24\n",
            "raju      23\n",
            "raj       25\n",
            "dtype: int64\n"
          ],
          "name": "stdout"
        }
      ]
    },
    {
      "cell_type": "code",
      "metadata": {
        "colab": {
          "base_uri": "https://localhost:8080/"
        },
        "id": "LiNGbsz3PngN",
        "outputId": "0c7e5c96-aa8c-4541-b8df-f2224df5038d"
      },
      "source": [
        "#To select only some of the items in the dictionary,\n",
        "#use the index argument and specify only the items you want to include in the Series.\n",
        "\n",
        "name_data = {'saurav':24, 'raju':23, 'raj':25}\n",
        "\n",
        "data_var= pd.Series(name_data, index = ['saurav', 'raj'])\n",
        "print(data_var)"
      ],
      "execution_count": 15,
      "outputs": [
        {
          "output_type": "stream",
          "text": [
            "saurav    24\n",
            "raj       25\n",
            "dtype: int64\n"
          ],
          "name": "stdout"
        }
      ]
    },
    {
      "cell_type": "code",
      "metadata": {
        "colab": {
          "base_uri": "https://localhost:8080/"
        },
        "id": "3RQP1YJ9QK3B",
        "outputId": "5cfa8eb1-fbf3-4997-f737-ecd22cfb3bf0"
      },
      "source": [
        "#DataFrames\n",
        "#Data sets in Pandas are usually multi-dimensional tables, called DataFrames.\n",
        "\n",
        "#Series is like a column, a DataFrame is the whole table.\n",
        "\n",
        "\n",
        "name_dataset = {\n",
        "    'Name': ['Raju', 'Raj', 'Saurav'],\n",
        "    'Age': [25, 23, 24]\n",
        "}\n",
        "\n",
        "df = pd.DataFrame(name_dataset)\n",
        "print(df)"
      ],
      "execution_count": 17,
      "outputs": [
        {
          "output_type": "stream",
          "text": [
            "     Name  Age\n",
            "0    Raju   25\n",
            "1     Raj   23\n",
            "2  Saurav   24\n"
          ],
          "name": "stdout"
        }
      ]
    },
    {
      "cell_type": "code",
      "metadata": {
        "colab": {
          "base_uri": "https://localhost:8080/"
        },
        "id": "rEBp_TfCRbcA",
        "outputId": "7990916c-55cc-4236-e404-c4039ee5dc78"
      },
      "source": [
        "#Pandas use the loc attribute to return one or more specified row(s).\n",
        "\n",
        "print(df.loc[0])\n",
        "print('\\n')\n",
        "print(df.loc[[0, 1]])"
      ],
      "execution_count": 20,
      "outputs": [
        {
          "output_type": "stream",
          "text": [
            "Name    Raju\n",
            "Age       25\n",
            "Name: 0, dtype: object\n",
            "\n",
            "\n",
            "   Name  Age\n",
            "0  Raju   25\n",
            "1   Raj   23\n"
          ],
          "name": "stdout"
        }
      ]
    },
    {
      "cell_type": "code",
      "metadata": {
        "colab": {
          "base_uri": "https://localhost:8080/"
        },
        "id": "J8FoUAzLhATF",
        "outputId": "2240636a-db1e-4362-c887-df5a8010d934"
      },
      "source": [
        "name_dataset = {\n",
        "    'Name': ['Raju', 'Raj', 'Saurav'],\n",
        "    'Age': [25, 23, 24]\n",
        "}\n",
        "\n",
        "df = pd.DataFrame(name_dataset, index=['x', 'y', 'z'])\n",
        "print(df)\n",
        "print('\\n')\n",
        "print(df.loc['y'])"
      ],
      "execution_count": 22,
      "outputs": [
        {
          "output_type": "stream",
          "text": [
            "     Name  Age\n",
            "x    Raju   25\n",
            "y     Raj   23\n",
            "z  Saurav   24\n",
            "\n",
            "\n",
            "Name    Raj\n",
            "Age      23\n",
            "Name: y, dtype: object\n"
          ],
          "name": "stdout"
        }
      ]
    }
  ]
}