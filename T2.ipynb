{
  "nbformat": 4,
  "nbformat_minor": 0,
  "metadata": {
    "colab": {
      "name": "T2.ipynb",
      "provenance": [],
      "authorship_tag": "ABX9TyOmdHgi/piGpaza/Y0P8Dyx",
      "include_colab_link": true
    },
    "kernelspec": {
      "name": "python3",
      "display_name": "Python 3"
    }
  },
  "cells": [
    {
      "cell_type": "markdown",
      "metadata": {
        "id": "view-in-github",
        "colab_type": "text"
      },
      "source": [
        "<a href=\"https://colab.research.google.com/github/Saurav-Raghaw/Python/blob/main/T2.ipynb\" target=\"_parent\"><img src=\"https://colab.research.google.com/assets/colab-badge.svg\" alt=\"Open In Colab\"/></a>"
      ]
    },
    {
      "cell_type": "code",
      "metadata": {
        "colab": {
          "base_uri": "https://localhost:8080/"
        },
        "id": "D75CAZje1qXm",
        "outputId": "68c9d526-838b-4974-b8af-1c0bc74bd3d9"
      },
      "source": [
        "#Python has the following data types built-in by default.\r\n",
        "'''\r\n",
        "\r\n",
        "Text Type:\tstr\r\n",
        "Numeric Types:\tint, float, complex\r\n",
        "Sequence Types:\tlist, tuple, range\r\n",
        "Mapping Type:\tdict\r\n",
        "Set Types:\tset, frozenset\r\n",
        "Boolean Type:\tbool\r\n",
        "Binary Types:\tbytes, bytearray, memoryview\r\n",
        "\r\n",
        "'''\r\n",
        "\r\n",
        "#we can get the data type of any object by using the type() function.\r\n",
        "\r\n",
        "x = 'IITI'\r\n",
        "print(type(x))\r\n",
        "\r\n",
        "y = 2j    #Complex numbers are written with a \"j\" as the imaginary part.\r\n",
        "print(type(y))"
      ],
      "execution_count": 10,
      "outputs": [
        {
          "output_type": "stream",
          "text": [
            "<class 'str'>\n",
            "<class 'complex'>\n"
          ],
          "name": "stdout"
        }
      ]
    },
    {
      "cell_type": "code",
      "metadata": {
        "colab": {
          "base_uri": "https://localhost:8080/"
        },
        "id": "VQYvR7qK5YMU",
        "outputId": "3f7099b3-ef17-4369-a3fe-e8bafe55eaa1"
      },
      "source": [
        "x = [\"apple\", \"banana\", \"cherry\"] #list\r\n",
        "type(x)"
      ],
      "execution_count": 6,
      "outputs": [
        {
          "output_type": "execute_result",
          "data": {
            "text/plain": [
              "list"
            ]
          },
          "metadata": {
            "tags": []
          },
          "execution_count": 6
        }
      ]
    },
    {
      "cell_type": "code",
      "metadata": {
        "colab": {
          "base_uri": "https://localhost:8080/"
        },
        "id": "q_XP_9eI5dJe",
        "outputId": "d4768356-7062-4538-b78f-82dec0686e3e"
      },
      "source": [
        "x = (\"apple\", \"banana\", \"cherry\")\t#tuple\r\n",
        "type(x)"
      ],
      "execution_count": 7,
      "outputs": [
        {
          "output_type": "execute_result",
          "data": {
            "text/plain": [
              "tuple"
            ]
          },
          "metadata": {
            "tags": []
          },
          "execution_count": 7
        }
      ]
    },
    {
      "cell_type": "code",
      "metadata": {
        "colab": {
          "base_uri": "https://localhost:8080/"
        },
        "id": "KzKj0NBZ5irG",
        "outputId": "2f696374-fcaa-48be-a0da-8ccd50870205"
      },
      "source": [
        "x = {\"name\" : \"John\", \"age\" : 36} #dict\r\n",
        "type(x)"
      ],
      "execution_count": 8,
      "outputs": [
        {
          "output_type": "execute_result",
          "data": {
            "text/plain": [
              "dict"
            ]
          },
          "metadata": {
            "tags": []
          },
          "execution_count": 8
        }
      ]
    },
    {
      "cell_type": "code",
      "metadata": {
        "colab": {
          "base_uri": "https://localhost:8080/"
        },
        "id": "T40aOZpL6wfJ",
        "outputId": "9d7f5065-62c3-4389-d1fd-4ca13b4bef9e"
      },
      "source": [
        "#Float can also be scientific numbers with an \"e\" to indicate the power of 10.\r\n",
        "\r\n",
        "x = 35e3    #35 x 10^3\r\n",
        "y = 12E4    #12 x 10^4\r\n",
        "z = -87.7e100   # -87.7 x 10^100\r\n",
        "\r\n",
        "print(type(x))\r\n",
        "print(type(y))\r\n",
        "print(type(z))\r\n",
        "\r\n",
        "#These notation will required when we implement ML model like linear Regression, MSE."
      ],
      "execution_count": 9,
      "outputs": [
        {
          "output_type": "stream",
          "text": [
            "<class 'float'>\n",
            "<class 'float'>\n",
            "<class 'float'>\n"
          ],
          "name": "stdout"
        }
      ]
    },
    {
      "cell_type": "code",
      "metadata": {
        "colab": {
          "base_uri": "https://localhost:8080/"
        },
        "id": "QX1u-5Ar94we",
        "outputId": "ff5f9ce2-319e-4919-8580-f141010910de"
      },
      "source": [
        "#Type Conversion\r\n",
        "\r\n",
        "x = 1    # int\r\n",
        "y = 2.8  # float\r\n",
        "z = 1j   # complex\r\n",
        "\r\n",
        "#convert from int to float:\r\n",
        "a = float(x)\r\n",
        "\r\n",
        "#convert from float to int:\r\n",
        "b = int(y)\r\n",
        "\r\n",
        "#convert from int to complex:\r\n",
        "c = complex(x)\r\n",
        "\r\n",
        "print(a)\r\n",
        "print(b)\r\n",
        "print(c)\r\n",
        "\r\n",
        "print(type(a))\r\n",
        "print(type(b))\r\n",
        "print(type(c))\r\n",
        "\r\n",
        "#We cannot convert complex numbers into another number type."
      ],
      "execution_count": 12,
      "outputs": [
        {
          "output_type": "stream",
          "text": [
            "1.0\n",
            "2\n",
            "(1+0j)\n",
            "<class 'float'>\n",
            "<class 'int'>\n",
            "<class 'complex'>\n"
          ],
          "name": "stdout"
        }
      ]
    },
    {
      "cell_type": "code",
      "metadata": {
        "colab": {
          "base_uri": "https://localhost:8080/"
        },
        "id": "hUeZm8HuB6aa",
        "outputId": "c5ede8a7-a883-4c7d-dcbf-244bb73700bf"
      },
      "source": [
        "#Random Number\r\n",
        "\r\n",
        "import random \r\n",
        "\r\n",
        "print(random.randrange(1, 10)) # 1 is included and 10 is excluded."
      ],
      "execution_count": 14,
      "outputs": [
        {
          "output_type": "stream",
          "text": [
            "8\n"
          ],
          "name": "stdout"
        }
      ]
    },
    {
      "cell_type": "code",
      "metadata": {
        "colab": {
          "base_uri": "https://localhost:8080/"
        },
        "id": "-abAznlrGVqs",
        "outputId": "3ae8ff80-3c7b-495c-b50d-89bd16467c43"
      },
      "source": [
        "#Casting\r\n",
        "\r\n",
        "x = int(1)   # x will be 1\r\n",
        "y = int(2.8) # y will be 2\r\n",
        "z = int(\"3\") # z will be 3\r\n",
        "\r\n",
        "print(type(x), type(y), type(z))\r\n",
        "\r\n",
        "x = float(1)     # x will be 1.0\r\n",
        "y = float(2.8)   # y will be 2.8\r\n",
        "z = float(\"3\")   # z will be 3.0\r\n",
        "w = float(\"4.2\") # w will be 4.2\r\n",
        "\r\n",
        "print(type(x), type(y), type(z), type(w))\r\n",
        "\r\n",
        "x = str(\"s1\") # x will be 's1'\r\n",
        "y = str(2)    # y will be '2'\r\n",
        "z = str(3.0)  # z will be '3.0'\r\n",
        "\r\n",
        "print(type(x), type(y), type(z))\r\n"
      ],
      "execution_count": 18,
      "outputs": [
        {
          "output_type": "stream",
          "text": [
            "<class 'int'> <class 'int'> <class 'int'>\n",
            "<class 'float'> <class 'float'> <class 'float'> <class 'float'>\n",
            "<class 'str'> <class 'str'> <class 'str'>\n"
          ],
          "name": "stdout"
        }
      ]
    },
    {
      "cell_type": "code",
      "metadata": {
        "colab": {
          "base_uri": "https://localhost:8080/"
        },
        "id": "v5h8Rv0KHb09",
        "outputId": "ebe768dc-6cc8-4a25-9453-24c1c2a95a58"
      },
      "source": [
        "#String\r\n",
        "#we can assign a multiline string to a variable by using three quotes.\r\n",
        "\r\n",
        "#If we write the below sentence with single quote then it will gives error.\r\n",
        "\r\n",
        "a = '''Lorem ipsum dolor sit amet, \r\n",
        "consectetur adipiscing elit, \r\n",
        "sed do eiusmod tempor incididunt \r\n",
        "ut labore et dolore magna aliqua.'''\r\n",
        "\r\n",
        "print(a) #Newline will also print."
      ],
      "execution_count": 26,
      "outputs": [
        {
          "output_type": "stream",
          "text": [
            "Lorem ipsum dolor sit amet, \n",
            "consectetur adipiscing elit, \n",
            "sed do eiusmod tempor incididunt \n",
            "ut labore et dolore magna aliqua.\n"
          ],
          "name": "stdout"
        }
      ]
    },
    {
      "cell_type": "code",
      "metadata": {
        "colab": {
          "base_uri": "https://localhost:8080/"
        },
        "id": "Clrrua9DJKg2",
        "outputId": "84b9921e-c6d5-4ab0-bbce-befc6275442b"
      },
      "source": [
        "#Strings are Arrays\r\n",
        "\r\n",
        "\r\n",
        "a = 'IIT Indore'\r\n",
        "print(a[5], '\\n')\r\n",
        "\r\n",
        "#Looping through string.\r\n",
        "\r\n",
        "for x in 'IIT Indore':\r\n",
        "  print(x)"
      ],
      "execution_count": 33,
      "outputs": [
        {
          "output_type": "stream",
          "text": [
            "n \n",
            "\n",
            "I\n",
            "I\n",
            "T\n",
            " \n",
            "I\n",
            "n\n",
            "d\n",
            "o\n",
            "r\n",
            "e\n"
          ],
          "name": "stdout"
        }
      ]
    },
    {
      "cell_type": "code",
      "metadata": {
        "colab": {
          "base_uri": "https://localhost:8080/"
        },
        "id": "PwOPk_YuLNJA",
        "outputId": "9a632fde-25b0-4831-8928-510ce2ce303c"
      },
      "source": [
        "#The len() function returns the length of a string.\r\n",
        "\r\n",
        "a = 'IIT Indore'\r\n",
        "print(len(a))"
      ],
      "execution_count": 34,
      "outputs": [
        {
          "output_type": "stream",
          "text": [
            "10\n"
          ],
          "name": "stdout"
        }
      ]
    },
    {
      "cell_type": "code",
      "metadata": {
        "colab": {
          "base_uri": "https://localhost:8080/"
        },
        "id": "4ySVG4GaMCnO",
        "outputId": "681c98fb-6325-4c67-85c6-f6f0bd753cb7"
      },
      "source": [
        "#To check if a certain phrase or character is present in a string, we can use the keyword in.\r\n",
        "\r\n",
        "txt = \"Indian Institute of technology Indore\"\r\n",
        "print(\"of\" in txt)"
      ],
      "execution_count": 40,
      "outputs": [
        {
          "output_type": "stream",
          "text": [
            "True\n"
          ],
          "name": "stdout"
        }
      ]
    },
    {
      "cell_type": "code",
      "metadata": {
        "colab": {
          "base_uri": "https://localhost:8080/"
        },
        "id": "7WPPn11ENgNq",
        "outputId": "1be46b17-2ed7-49ec-b899-b9130936bd5a"
      },
      "source": [
        "#To check if a certain phrase or character is NOT present in a string, we can use the keyword not in.\r\n",
        "\r\n",
        "txt = \"Indian Institute of technology Indore\"\r\n",
        "print(\"Indore\" not in txt)"
      ],
      "execution_count": 45,
      "outputs": [
        {
          "output_type": "stream",
          "text": [
            "False\n"
          ],
          "name": "stdout"
        }
      ]
    }
  ]
}