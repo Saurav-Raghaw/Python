{
  "nbformat": 4,
  "nbformat_minor": 0,
  "metadata": {
    "colab": {
      "name": "NumPy_1.ipynb",
      "provenance": [],
      "authorship_tag": "ABX9TyMe66WzrE5326n63w+BZGSC",
      "include_colab_link": true
    },
    "kernelspec": {
      "name": "python3",
      "display_name": "Python 3"
    },
    "language_info": {
      "name": "python"
    }
  },
  "cells": [
    {
      "cell_type": "markdown",
      "metadata": {
        "id": "view-in-github",
        "colab_type": "text"
      },
      "source": [
        "<a href=\"https://colab.research.google.com/github/Saurav-Raghaw/Python/blob/main/NumPy_1.ipynb\" target=\"_parent\"><img src=\"https://colab.research.google.com/assets/colab-badge.svg\" alt=\"Open In Colab\"/></a>"
      ]
    },
    {
      "cell_type": "code",
      "metadata": {
        "id": "5MuHr2RwXLEK"
      },
      "source": [
        "#NumPy: Numerical Python\n",
        "#NumPy is used for working with arrays.\n",
        "#It also has functions for working in domain of linear algebra, fourier transform, and matrices.\n",
        "\n",
        "#NumPy was created in 2005 by Travis Oliphant. It is an open source project and you can use it freely.\n",
        "\n",
        "#NumPy is 50 times faster than traditional Python List.\n",
        "#NumPy arrays follows locality of reference.\n",
        "#NumPy arrays are stored at one continuous place in memory unlike lists, so processes can access and manipulate them very efficiently.\n",
        "#It is optimized to work with latest CPU architectures.\n",
        "\n",
        "#NumPy written in python,C and C++."
      ],
      "execution_count": 31,
      "outputs": []
    },
    {
      "cell_type": "code",
      "metadata": {
        "id": "B-teG-y3bXpD"
      },
      "source": [
        "import numpy as np"
      ],
      "execution_count": 32,
      "outputs": []
    },
    {
      "cell_type": "code",
      "metadata": {
        "colab": {
          "base_uri": "https://localhost:8080/"
        },
        "id": "KGWlakXHbtsV",
        "outputId": "ce8b8fca-25ad-4543-a58b-e973721b2bf1"
      },
      "source": [
        "#NumPy version\n",
        "\n",
        "print(np.__version__)"
      ],
      "execution_count": 33,
      "outputs": [
        {
          "output_type": "stream",
          "text": [
            "1.19.5\n"
          ],
          "name": "stdout"
        }
      ]
    },
    {
      "cell_type": "code",
      "metadata": {
        "colab": {
          "base_uri": "https://localhost:8080/"
        },
        "id": "Bpzwbq7gbgas",
        "outputId": "5768d297-69d3-4a70-99ca-b015075f363e"
      },
      "source": [
        "arr = np.array([1,2,3,4,5])\n",
        "print(arr)\n",
        "print(type(arr))\n",
        "\n",
        "#NumPy is used to work with arrays. The array object in NumPy is called ndarray.\n",
        "\n",
        "#We can create a NumPy ndarray object by using the array() function."
      ],
      "execution_count": 34,
      "outputs": [
        {
          "output_type": "stream",
          "text": [
            "[1 2 3 4 5]\n",
            "<class 'numpy.ndarray'>\n"
          ],
          "name": "stdout"
        }
      ]
    },
    {
      "cell_type": "code",
      "metadata": {
        "colab": {
          "base_uri": "https://localhost:8080/"
        },
        "id": "rLsmjrvyfIDZ",
        "outputId": "54ce50e3-aadc-4327-a83e-478f5e91cc85"
      },
      "source": [
        "#0-D arrays/scalar with one value.\n",
        "a = np.array(34)\n",
        "print(a)\n",
        "print(type(a))"
      ],
      "execution_count": 35,
      "outputs": [
        {
          "output_type": "stream",
          "text": [
            "34\n",
            "<class 'numpy.ndarray'>\n"
          ],
          "name": "stdout"
        }
      ]
    },
    {
      "cell_type": "code",
      "metadata": {
        "colab": {
          "base_uri": "https://localhost:8080/"
        },
        "id": "fAEwQmBCfZHa",
        "outputId": "6c8bf011-c08d-4272-deb0-34bf24b41267"
      },
      "source": [
        "#1-D array: An array that has 0-D arrays as its elements is called uni-dimensional or 1-D array.\n",
        "b = np.array([1,2,3,4,5])\n",
        "print(b)\n",
        "print(type(b))"
      ],
      "execution_count": 36,
      "outputs": [
        {
          "output_type": "stream",
          "text": [
            "[1 2 3 4 5]\n",
            "<class 'numpy.ndarray'>\n"
          ],
          "name": "stdout"
        }
      ]
    },
    {
      "cell_type": "code",
      "metadata": {
        "colab": {
          "base_uri": "https://localhost:8080/"
        },
        "id": "JDZAEMTUf1XT",
        "outputId": "9c26823c-fe8b-434b-9ab5-a6a3e3046303"
      },
      "source": [
        "#2-D Arrays: An array that has 1-D arrays as its elements is called a 2-D array.\n",
        "c = np.array([[1,2,3,4,5], [2,3,4,5,6],[9,8,7,6,5]])\n",
        "print(c)\n",
        "print(type(c))"
      ],
      "execution_count": 37,
      "outputs": [
        {
          "output_type": "stream",
          "text": [
            "[[1 2 3 4 5]\n",
            " [2 3 4 5 6]\n",
            " [9 8 7 6 5]]\n",
            "<class 'numpy.ndarray'>\n"
          ],
          "name": "stdout"
        }
      ]
    },
    {
      "cell_type": "code",
      "metadata": {
        "colab": {
          "base_uri": "https://localhost:8080/"
        },
        "id": "JYb2IKEKgHq-",
        "outputId": "eb55cb6a-d545-4398-aea4-f4b9bc1fc8ef"
      },
      "source": [
        "#3-D arrays: An array that has 2-D arrays (matrices) as its elements is called 3-D array.\n",
        "d = np.array([[[1,2,3], [2,3,4]], [[9,8,7], [1,2,3]]])\n",
        "print(d)\n",
        "print(type(d))"
      ],
      "execution_count": 38,
      "outputs": [
        {
          "output_type": "stream",
          "text": [
            "[[[1 2 3]\n",
            "  [2 3 4]]\n",
            "\n",
            " [[9 8 7]\n",
            "  [1 2 3]]]\n",
            "<class 'numpy.ndarray'>\n"
          ],
          "name": "stdout"
        }
      ]
    },
    {
      "cell_type": "code",
      "metadata": {
        "colab": {
          "base_uri": "https://localhost:8080/"
        },
        "id": "DVVhv_Zfg2gh",
        "outputId": "348be83f-4e43-40d8-c04b-a72d998cf5ab"
      },
      "source": [
        "#ndim: returns an integer that tells us how many dimensions the array have.\n",
        "\n",
        "print(a.ndim)\n",
        "print(b.ndim)\n",
        "print(c.ndim)\n",
        "print(d.ndim)"
      ],
      "execution_count": 39,
      "outputs": [
        {
          "output_type": "stream",
          "text": [
            "0\n",
            "1\n",
            "2\n",
            "3\n"
          ],
          "name": "stdout"
        }
      ]
    },
    {
      "cell_type": "code",
      "metadata": {
        "colab": {
          "base_uri": "https://localhost:8080/"
        },
        "id": "tnCnSC9hhMCX",
        "outputId": "62c7a8af-6f0e-46b4-aebf-5ec634e49351"
      },
      "source": [
        "#An array can have any number of dimensions.\n",
        "\n",
        "arr = np.array([1,2,3,4], ndmin=4)\n",
        "print(arr)\n",
        "print(arr.ndim)"
      ],
      "execution_count": 40,
      "outputs": [
        {
          "output_type": "stream",
          "text": [
            "[[[[1 2 3 4]]]]\n",
            "4\n"
          ],
          "name": "stdout"
        }
      ]
    },
    {
      "cell_type": "code",
      "metadata": {
        "colab": {
          "base_uri": "https://localhost:8080/"
        },
        "id": "IQ_HxrAMozRN",
        "outputId": "545c54ea-134b-47c5-9a31-d0bc8db23ce4"
      },
      "source": [
        "#Array indexing\n",
        "arr = np.array([1,2,3,4,5])\n",
        "print(arr[0]) \n",
        "print(arr[1])\n",
        "print(arr[0] + arr[1])"
      ],
      "execution_count": 41,
      "outputs": [
        {
          "output_type": "stream",
          "text": [
            "1\n",
            "2\n",
            "3\n"
          ],
          "name": "stdout"
        }
      ]
    },
    {
      "cell_type": "code",
      "metadata": {
        "colab": {
          "base_uri": "https://localhost:8080/"
        },
        "id": "hL7NP6arpnX5",
        "outputId": "fcc58a6c-21b8-48d9-a8ba-d205b610abd2"
      },
      "source": [
        "#accessing 2D array: To access elements from 2-D arrays we can use comma separated integers representing the dimension and the index of the element.\n",
        "c = np.array([[1,2,3,4,5], [2,3,4,5,6],[9,8,7,6,5]])\n",
        "print(c[0,1])"
      ],
      "execution_count": 42,
      "outputs": [
        {
          "output_type": "stream",
          "text": [
            "2\n"
          ],
          "name": "stdout"
        }
      ]
    },
    {
      "cell_type": "code",
      "metadata": {
        "colab": {
          "base_uri": "https://localhost:8080/"
        },
        "id": "vYF2yatuqC4q",
        "outputId": "a53e7c15-2db7-42f0-c4ef-7c4c093ecb8b"
      },
      "source": [
        "#3D:\n",
        "d = np.array([[[1,2,3], [2,3,4]], [[9,8,7], [1,2,3]]])\n",
        "print(d[0,1,0])"
      ],
      "execution_count": 43,
      "outputs": [
        {
          "output_type": "stream",
          "text": [
            "2\n"
          ],
          "name": "stdout"
        }
      ]
    },
    {
      "cell_type": "code",
      "metadata": {
        "colab": {
          "base_uri": "https://localhost:8080/"
        },
        "id": "ShzGXNw_qbjp",
        "outputId": "e1c7f72f-d109-4e4f-f28d-114091d3c66a"
      },
      "source": [
        "#Print the last element from the 2nd dim.\n",
        "\n",
        "arr = np.array([[1,2,3,4,5], [6,7,8,9,10]])\n",
        "\n",
        "print('Last element from 2nd dim: ', arr[1, -1])"
      ],
      "execution_count": 44,
      "outputs": [
        {
          "output_type": "stream",
          "text": [
            "Last element from 2nd dim:  10\n"
          ],
          "name": "stdout"
        }
      ]
    }
  ]
}