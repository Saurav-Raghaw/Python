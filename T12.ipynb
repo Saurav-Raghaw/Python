{
  "nbformat": 4,
  "nbformat_minor": 0,
  "metadata": {
    "colab": {
      "name": "T12.ipynb",
      "provenance": [],
      "authorship_tag": "ABX9TyNJ43bk3O06QVCSRaIAuEfJ",
      "include_colab_link": true
    },
    "kernelspec": {
      "name": "python3",
      "display_name": "Python 3"
    },
    "language_info": {
      "name": "python"
    }
  },
  "cells": [
    {
      "cell_type": "markdown",
      "metadata": {
        "id": "view-in-github",
        "colab_type": "text"
      },
      "source": [
        "<a href=\"https://colab.research.google.com/github/Saurav-Raghaw/Python/blob/main/T12.ipynb\" target=\"_parent\"><img src=\"https://colab.research.google.com/assets/colab-badge.svg\" alt=\"Open In Colab\"/></a>"
      ]
    },
    {
      "cell_type": "code",
      "metadata": {
        "id": "Lfcad6I8y4uT"
      },
      "source": [
        "#####____Modules_____######\n",
        "#A file containing a set of functions you want to include in your application.\n",
        "#To create a module just save the code you want in a file with the file extension .py\n",
        "#We can use the module we just created, by using the import statement.\n",
        "#We can create an alias when you import a module, by using the as keyword.\n",
        "#We can choose to import only parts from a module, by using the from keyword."
      ],
      "execution_count": null,
      "outputs": []
    },
    {
      "cell_type": "code",
      "metadata": {
        "colab": {
          "base_uri": "https://localhost:8080/"
        },
        "id": "wZwxsdVq8uuJ",
        "outputId": "f4928476-ac36-49de-bcb8-42a5404afca6"
      },
      "source": [
        "#######_______Datetime______######\n",
        "\n",
        "import datetime\n",
        "\n",
        "x = datetime.datetime.now()\n",
        "print(x)\n",
        "print(x.year)\n",
        "print(x.strftime(\"%A\")) #For printing the Day!\n",
        "print(x.strftime(\"%B\")) #For printing month."
      ],
      "execution_count": 4,
      "outputs": [
        {
          "output_type": "stream",
          "text": [
            "2021-04-17 17:58:04.192173\n",
            "2021\n",
            "Saturday\n",
            "April\n"
          ],
          "name": "stdout"
        }
      ]
    },
    {
      "cell_type": "code",
      "metadata": {
        "colab": {
          "base_uri": "https://localhost:8080/"
        },
        "id": "WM4ZBqmh-br3",
        "outputId": "0655ad2c-9f54-4d5e-dc7f-2f3b6d4d5b24"
      },
      "source": [
        "#Creating a date object.\n",
        "import datetime\n",
        "\n",
        "x = datetime.datetime(2020, 5, 17)\n",
        "\n",
        "print(x)"
      ],
      "execution_count": 3,
      "outputs": [
        {
          "output_type": "stream",
          "text": [
            "2020-05-17 00:00:00\n"
          ],
          "name": "stdout"
        }
      ]
    },
    {
      "cell_type": "code",
      "metadata": {
        "colab": {
          "base_uri": "https://localhost:8080/"
        },
        "id": "GrzRg3nC_Iim",
        "outputId": "35463daa-88a1-460e-ba51-3690860b73b7"
      },
      "source": [
        "#######______Python Math_____########\n",
        "x = min(5, 10, 25)\n",
        "y = max(5, 10, 25)\n",
        "\n",
        "print(x)\n",
        "print(y)"
      ],
      "execution_count": 5,
      "outputs": [
        {
          "output_type": "stream",
          "text": [
            "5\n",
            "25\n"
          ],
          "name": "stdout"
        }
      ]
    },
    {
      "cell_type": "code",
      "metadata": {
        "colab": {
          "base_uri": "https://localhost:8080/"
        },
        "id": "chCz94gOA7HR",
        "outputId": "e192d9b6-faaa-4b8b-c01f-8dc3659979c2"
      },
      "source": [
        "#The abs() function returns the absolute (positive) value of the specified number.\n",
        "x = abs(-7.25)\n",
        "print(x)"
      ],
      "execution_count": 6,
      "outputs": [
        {
          "output_type": "stream",
          "text": [
            "7.25\n"
          ],
          "name": "stdout"
        }
      ]
    },
    {
      "cell_type": "code",
      "metadata": {
        "colab": {
          "base_uri": "https://localhost:8080/"
        },
        "id": "QrvZWAyvBjkP",
        "outputId": "c5fabeba-0e4d-4b24-b076-8630536d622d"
      },
      "source": [
        "#The pow(x, y) function returns the value of x to the power of y (x^y).\n",
        "x = pow(4, 3)\n",
        "\n",
        "print(x)"
      ],
      "execution_count": 7,
      "outputs": [
        {
          "output_type": "stream",
          "text": [
            "64\n"
          ],
          "name": "stdout"
        }
      ]
    },
    {
      "cell_type": "code",
      "metadata": {
        "colab": {
          "base_uri": "https://localhost:8080/"
        },
        "id": "7Mx21h4FCBBz",
        "outputId": "323142d1-827a-48d5-fd1c-3ff34e79181a"
      },
      "source": [
        "import math\n",
        "\n",
        "x = math.sqrt(64)\n",
        "\n",
        "print(x)"
      ],
      "execution_count": 8,
      "outputs": [
        {
          "output_type": "stream",
          "text": [
            "8.0\n"
          ],
          "name": "stdout"
        }
      ]
    },
    {
      "cell_type": "code",
      "metadata": {
        "colab": {
          "base_uri": "https://localhost:8080/"
        },
        "id": "nsOjqaniCWoa",
        "outputId": "5e6ecdb7-3e94-4a52-e467-abc3175fda2e"
      },
      "source": [
        "import math\n",
        "\n",
        "x = math.ceil(1.4)\n",
        "y = math.floor(1.4)\n",
        "\n",
        "print(x) # returns 2\n",
        "print(y) # returns 1"
      ],
      "execution_count": 9,
      "outputs": [
        {
          "output_type": "stream",
          "text": [
            "2\n",
            "1\n"
          ],
          "name": "stdout"
        }
      ]
    },
    {
      "cell_type": "markdown",
      "metadata": {
        "id": "5kO_CvyqDEf-"
      },
      "source": [
        "[math](https://www.w3schools.com/python/module_math.asp)"
      ]
    },
    {
      "cell_type": "code",
      "metadata": {
        "colab": {
          "base_uri": "https://localhost:8080/"
        },
        "id": "4myBhBXYChFo",
        "outputId": "7293a080-b3b1-49e7-b011-5dd3507f889c"
      },
      "source": [
        "import math\n",
        "\n",
        "x = math.pi\n",
        "\n",
        "print(x)"
      ],
      "execution_count": 10,
      "outputs": [
        {
          "output_type": "stream",
          "text": [
            "3.141592653589793\n"
          ],
          "name": "stdout"
        }
      ]
    },
    {
      "cell_type": "code",
      "metadata": {
        "colab": {
          "base_uri": "https://localhost:8080/"
        },
        "id": "Xvg_T1E8DdaG",
        "outputId": "176f5419-2018-4ce1-db80-e49ed74c442e"
      },
      "source": [
        "#math.exp()\n",
        "\n",
        "#Return 'E' raised to the power of different numbers:\n",
        "import math\n",
        "\n",
        "#find the exponential of the specified value\n",
        "print(math.exp(65))\n",
        "print(math.exp(-6.89))"
      ],
      "execution_count": 12,
      "outputs": [
        {
          "output_type": "stream",
          "text": [
            "1.6948892444103338e+28\n",
            "0.0010179138409954387\n"
          ],
          "name": "stdout"
        }
      ]
    },
    {
      "cell_type": "code",
      "metadata": {
        "colab": {
          "base_uri": "https://localhost:8080/"
        },
        "id": "WZV4yv-CDqIy",
        "outputId": "6f10d41b-6e57-4bd0-cc28-77fc3096d72f"
      },
      "source": [
        "#math.factorial()\n",
        "#Find the factorial of a number:\n",
        "import math\n",
        "\n",
        "#Return factorial of a number\n",
        "print(math.factorial(9))\n",
        "print(math.factorial(6))\n",
        "print(math.factorial(12))"
      ],
      "execution_count": 13,
      "outputs": [
        {
          "output_type": "stream",
          "text": [
            "362880\n",
            "720\n",
            "479001600\n"
          ],
          "name": "stdout"
        }
      ]
    },
    {
      "cell_type": "code",
      "metadata": {
        "colab": {
          "base_uri": "https://localhost:8080/"
        },
        "id": "6o49RIv2D3MG",
        "outputId": "c49fefa8-2171-422b-aeaa-5b90b09db04a"
      },
      "source": [
        "#math.fmod(): Returns the remainder of x/y\n",
        "import math\n",
        "\n",
        "print(math.fmod(20, 4))\n",
        "print(math.fmod(20, 3))\n",
        "print(math.fmod(15, 6))\n",
        "print(math.fmod(-10, 3))\n",
        "# print(math.fmod(0, 0)) #If both x and y = 0, it returns a ValueError."
      ],
      "execution_count": 15,
      "outputs": [
        {
          "output_type": "stream",
          "text": [
            "0.0\n",
            "2.0\n",
            "3.0\n",
            "-1.0\n"
          ],
          "name": "stdout"
        }
      ]
    },
    {
      "cell_type": "code",
      "metadata": {
        "colab": {
          "base_uri": "https://localhost:8080/"
        },
        "id": "X5ia9rfhEVGz",
        "outputId": "ffb1285a-1e8f-4908-861d-784a1591f8ab"
      },
      "source": [
        "#math.fsum(): Return the sum of all items:\n",
        "import math\n",
        "\n",
        "# Print the sum of all items\n",
        "print(math.fsum([1, 2, 3, 4, 5]))\n",
        "print(math.fsum([100, 400, 340, 500]))\n",
        "print(math.fsum([1.7, 0.3, 1.5, 4.5]))"
      ],
      "execution_count": 16,
      "outputs": [
        {
          "output_type": "stream",
          "text": [
            "15.0\n",
            "1340.0\n",
            "8.0\n"
          ],
          "name": "stdout"
        }
      ]
    },
    {
      "cell_type": "code",
      "metadata": {
        "colab": {
          "base_uri": "https://localhost:8080/"
        },
        "id": "pa03yP4qE1Fp",
        "outputId": "02418495-4bc7-4959-8e9f-dbabbecee52f"
      },
      "source": [
        "#math.gcd(): Find the greatest common divisor of the two integers:\n",
        "import math\n",
        "\n",
        "#find the  the greatest common divisor of the two integers\n",
        "print (math.gcd(3, 6))\n",
        "print (math.gcd(6, 12))\n",
        "print (math.gcd(12, 36))\n",
        "print (math.gcd(-12, -36))\n",
        "print (math.gcd(5, 12))\n",
        "print (math.gcd(10, 0))\n",
        "print (math.gcd(0, 34))\n",
        "print (math.gcd(0, 0))"
      ],
      "execution_count": 17,
      "outputs": [
        {
          "output_type": "stream",
          "text": [
            "3\n",
            "6\n",
            "12\n",
            "12\n",
            "1\n",
            "10\n",
            "34\n",
            "0\n"
          ],
          "name": "stdout"
        }
      ]
    },
    {
      "cell_type": "code",
      "metadata": {
        "id": "8qNDkLvsFIL0"
      },
      "source": [
        "#math.log(): Find the natural logarithm of different numbers.\n",
        "#math.log10(): Find the base-10 logarithm of different numbers.\n",
        "#math.log2(): Find the base-2 logarithm of different numbers."
      ],
      "execution_count": null,
      "outputs": []
    }
  ]
}