{
  "nbformat": 4,
  "nbformat_minor": 0,
  "metadata": {
    "colab": {
      "name": "T10.ipynb",
      "provenance": [],
      "authorship_tag": "ABX9TyMDotTiXM4jBYJ64DlKc1ij",
      "include_colab_link": true
    },
    "kernelspec": {
      "name": "python3",
      "display_name": "Python 3"
    },
    "language_info": {
      "name": "python"
    }
  },
  "cells": [
    {
      "cell_type": "markdown",
      "metadata": {
        "id": "view-in-github",
        "colab_type": "text"
      },
      "source": [
        "<a href=\"https://colab.research.google.com/github/Saurav-Raghaw/Python/blob/main/T10.ipynb\" target=\"_parent\"><img src=\"https://colab.research.google.com/assets/colab-badge.svg\" alt=\"Open In Colab\"/></a>"
      ]
    },
    {
      "cell_type": "code",
      "metadata": {
        "colab": {
          "base_uri": "https://localhost:8080/"
        },
        "id": "UswxcmLaBXKO",
        "outputId": "f7899bd2-59b5-4450-ceae-d35b778af022"
      },
      "source": [
        "###########################################Inheritance############################################################\n",
        "\n",
        "#Creating the parent class\n",
        "\n",
        "class Parent_:\n",
        "  def __init__(self, fname, lname):\n",
        "    self.fname = fname\n",
        "    self.lname = lname\n",
        "\n",
        "  def print_name(self):\n",
        "    print('Name: ' +self.fname, self.lname)\n",
        "\n",
        "ob1 = Parent_('Saurav', 'Kumar')\n",
        "ob1.print_name()"
      ],
      "execution_count": 2,
      "outputs": [
        {
          "output_type": "stream",
          "text": [
            "Name: Saurav Kumar\n"
          ],
          "name": "stdout"
        }
      ]
    },
    {
      "cell_type": "code",
      "metadata": {
        "colab": {
          "base_uri": "https://localhost:8080/"
        },
        "id": "0tAeD6iADOvh",
        "outputId": "5f735f51-7517-4673-f704-3378a5a8d644"
      },
      "source": [
        "#Creating the child class.\n",
        "\n",
        "#Craeting the child class Child_ and inherit the properties of Parent_ class.\n",
        "\n",
        "class Child_(Parent_):    #Just put the Parent_ class as an argument in the child class.\n",
        "  pass                    #If there is no any extra properties to add just use the pass keyword.\n",
        "\n",
        "\n",
        "#Creating the object of the child class and calling the print_name method.\n",
        "\n",
        "ob2  = Child_('IIT', 'Indore')\n",
        "ob2.print_name()\n"
      ],
      "execution_count": 4,
      "outputs": [
        {
          "output_type": "stream",
          "text": [
            "Name: IIT Indore\n"
          ],
          "name": "stdout"
        }
      ]
    },
    {
      "cell_type": "code",
      "metadata": {
        "colab": {
          "base_uri": "https://localhost:8080/"
        },
        "id": "iz77thG5FaLv",
        "outputId": "cd2f5fad-4ec0-4aaf-e994-5896b6e89026"
      },
      "source": [
        "#The __init__() function.\n",
        "\n",
        "class Child_(Parent_):\n",
        "  def __init__(self, fname, lname): \n",
        "    #####Now child calss is no longer inherit the __init__() method of parent class.\n",
        "    #####The child's __init__() function overrides the inheritance of the parent's __init__() function.\n",
        "    self.fname = fname\n",
        "    self.lname = lname\n",
        "\n",
        "ob3 = Child_('say', 'hi')\n",
        "ob3.print_name()"
      ],
      "execution_count": 7,
      "outputs": [
        {
          "output_type": "stream",
          "text": [
            "Name: say hi\n"
          ],
          "name": "stdout"
        }
      ]
    },
    {
      "cell_type": "code",
      "metadata": {
        "colab": {
          "base_uri": "https://localhost:8080/"
        },
        "id": "pdwGu4arGokk",
        "outputId": "fd7e8965-a8f2-46fc-b0e0-bf4d5ec021db"
      },
      "source": [
        "#To keep the inheritance of the parent's __init__() function, add a call to the parent's __init__() function.\n",
        "\n",
        "class Child_(Parent_):\n",
        "  def __init__(self, fname, lname): \n",
        "   Parent_.__init__(self, fname, lname)\n",
        "\n",
        "ob4 = Child_('say', 'hi')\n",
        "ob4.print_name()"
      ],
      "execution_count": 8,
      "outputs": [
        {
          "output_type": "stream",
          "text": [
            "Name: say hi\n"
          ],
          "name": "stdout"
        }
      ]
    },
    {
      "cell_type": "code",
      "metadata": {
        "colab": {
          "base_uri": "https://localhost:8080/"
        },
        "id": "56jl9XXrIcxe",
        "outputId": "29a467df-f14d-4c71-c450-4f1c4a09957c"
      },
      "source": [
        "#The super() function.\n",
        "\n",
        "class Child_(Parent_):\n",
        "  def __init__(self, fname, lname): \n",
        "   super().__init__(fname, lname)     #By using the super() function, we do not have to use the name of the parent element.\n",
        "\n",
        "ob5 = Child_('say', 'hi')\n",
        "ob5.print_name()"
      ],
      "execution_count": 11,
      "outputs": [
        {
          "output_type": "stream",
          "text": [
            "Name: say hi\n"
          ],
          "name": "stdout"
        }
      ]
    },
    {
      "cell_type": "code",
      "metadata": {
        "colab": {
          "base_uri": "https://localhost:8080/"
        },
        "id": "1dmIsiI1JRdo",
        "outputId": "0f3d697e-c8d7-4662-b016-2c34f9b1be40"
      },
      "source": [
        "#Adding another properties.\n",
        "\n",
        "class Child_(Parent_):\n",
        "  def __init__(self, fname, lname): \n",
        "   super().__init__(fname, lname)\n",
        "   self.location = 'indore'\n",
        "\n",
        "ob6 = Child_('say', 'hi')\n",
        "print(ob6.location)"
      ],
      "execution_count": 14,
      "outputs": [
        {
          "output_type": "stream",
          "text": [
            "indore\n"
          ],
          "name": "stdout"
        }
      ]
    },
    {
      "cell_type": "code",
      "metadata": {
        "colab": {
          "base_uri": "https://localhost:8080/"
        },
        "id": "kQDVLKxzNIof",
        "outputId": "ccc2a16b-e793-4405-e133-18e86eef7684"
      },
      "source": [
        "#Adding the methods.\n",
        "\n",
        "class Child_(Parent_):\n",
        "  def __init__(self, fname, lname): \n",
        "   super().__init__(fname, lname)\n",
        "\n",
        "  def Dept(self):\n",
        "    print('Department of', self.fname, self.lname, 'is CSE.')\n",
        "\n",
        "ob7 = Child_('Saurav', 'Kumar')\n",
        "ob7.Dept()\n",
        "\n",
        "#If you add a method in the child class with the same name as a function in the parent class, \n",
        "#the inheritance of the parent method will be overridden."
      ],
      "execution_count": 17,
      "outputs": [
        {
          "output_type": "stream",
          "text": [
            "Department of Saurav Kumar is CSE.\n"
          ],
          "name": "stdout"
        }
      ]
    }
  ]
}