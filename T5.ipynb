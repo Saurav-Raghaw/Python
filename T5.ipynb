{
  "nbformat": 4,
  "nbformat_minor": 0,
  "metadata": {
    "colab": {
      "name": "T5.ipynb",
      "provenance": [],
      "authorship_tag": "ABX9TyNWPCu2oDGITRsTWbuuZmW1",
      "include_colab_link": true
    },
    "kernelspec": {
      "name": "python3",
      "display_name": "Python 3"
    },
    "language_info": {
      "name": "python"
    }
  },
  "cells": [
    {
      "cell_type": "markdown",
      "metadata": {
        "id": "view-in-github",
        "colab_type": "text"
      },
      "source": [
        "<a href=\"https://colab.research.google.com/github/Saurav-Raghaw/Python/blob/main/T5.ipynb\" target=\"_parent\"><img src=\"https://colab.research.google.com/assets/colab-badge.svg\" alt=\"Open In Colab\"/></a>"
      ]
    },
    {
      "cell_type": "code",
      "metadata": {
        "colab": {
          "base_uri": "https://localhost:8080/"
        },
        "id": "qfjsLwmaHkjU",
        "outputId": "0b9e97e0-c188-4e3a-bbeb-4c60d2f31c72"
      },
      "source": [
        "#Tuples are used to store multiple items in a single variable.\n",
        "#Tuple items are ordered, unchangeable, and allow duplicate values.\n",
        "#Tuples are written with round brackets.\n",
        "\n",
        "thistuple = (\"apple\", \"banana\", \"cherry\")\n",
        "print(thistuple)"
      ],
      "execution_count": null,
      "outputs": [
        {
          "output_type": "stream",
          "text": [
            "('apple', 'banana', 'cherry')\n"
          ],
          "name": "stdout"
        }
      ]
    },
    {
      "cell_type": "code",
      "metadata": {
        "colab": {
          "base_uri": "https://localhost:8080/"
        },
        "id": "PFr_LVBWKDJE",
        "outputId": "72eb9ac9-400d-4993-c814-3f569fc3f5e2"
      },
      "source": [
        "#When we say that tuples are ordered, it means that the items have a defined order, and that order will not change.\n",
        "\n",
        "#Tuples are unchangeable, meaning that we cannot change, add or remove items after the tuple has been created.\n",
        "\n",
        "#Print the number of items in the tuple:\n",
        "\n",
        "thistuple = (\"apple\", \"banana\", \"cherry\")\n",
        "print(len(thistuple))"
      ],
      "execution_count": null,
      "outputs": [
        {
          "output_type": "stream",
          "text": [
            "3\n"
          ],
          "name": "stdout"
        }
      ]
    },
    {
      "cell_type": "code",
      "metadata": {
        "colab": {
          "base_uri": "https://localhost:8080/"
        },
        "id": "C9fzmcxoKU7l",
        "outputId": "e0c944d6-8405-4b84-cc78-c765680ee5ad"
      },
      "source": [
        "#One item tuple, remember the commma:\n",
        "\n",
        "thistuple = (\"apple\",)\n",
        "print(type(thistuple))\n",
        "\n",
        "#NOT a tuple\n",
        "thistuple = (\"apple\")\n",
        "print(type(thistuple))\n",
        "\n",
        "#Tuple items can be of any data type.\n",
        "#A tuple with strings, integers and boolean values:\n",
        "\n",
        "tuple1 = (\"abc\", 34, True, 40, \"male\")\n",
        "print(tuple1)"
      ],
      "execution_count": null,
      "outputs": [
        {
          "output_type": "stream",
          "text": [
            "<class 'tuple'>\n",
            "<class 'str'>\n",
            "('abc', 34, True, 40, 'male')\n"
          ],
          "name": "stdout"
        }
      ]
    },
    {
      "cell_type": "code",
      "metadata": {
        "colab": {
          "base_uri": "https://localhost:8080/"
        },
        "id": "KM6t9b7_MmrA",
        "outputId": "35436781-2502-4ac9-f4d7-e8491dcf50b3"
      },
      "source": [
        "#Using the tuple() method to make a tuple:\n",
        "\n",
        "thistuple = tuple((\"apple\", \"banana\", \"cherry\")) # note the double round-brackets\n",
        "print(thistuple)"
      ],
      "execution_count": null,
      "outputs": [
        {
          "output_type": "stream",
          "text": [
            "('apple', 'banana', 'cherry')\n"
          ],
          "name": "stdout"
        }
      ]
    },
    {
      "cell_type": "code",
      "metadata": {
        "colab": {
          "base_uri": "https://localhost:8080/"
        },
        "id": "5ikEZHo4NwKm",
        "outputId": "0daa5df7-adce-4b0e-bb8d-3cbf5e9c1495"
      },
      "source": [
        "#Print the second item in the tuple:\n",
        "\n",
        "thistuple = (\"apple\", \"banana\", \"cherry\")\n",
        "print(thistuple[1])\n",
        "\n",
        "#Print the last item of the tuple:\n",
        "\n",
        "thistuple = (\"apple\", \"banana\", \"cherry\")\n",
        "print(thistuple[-1])"
      ],
      "execution_count": null,
      "outputs": [
        {
          "output_type": "stream",
          "text": [
            "banana\n",
            "cherry\n"
          ],
          "name": "stdout"
        }
      ]
    },
    {
      "cell_type": "code",
      "metadata": {
        "colab": {
          "base_uri": "https://localhost:8080/"
        },
        "id": "24JTlqQeP0hk",
        "outputId": "3e6fff07-1676-46bd-8a8b-eff73d520e65"
      },
      "source": [
        "#Return the third, fourth, and fifth item:\n",
        "\n",
        "thistuple = (\"apple\", \"banana\", \"cherry\", \"orange\", \"kiwi\", \"melon\", \"mango\")\n",
        "print(thistuple[2:5])"
      ],
      "execution_count": null,
      "outputs": [
        {
          "output_type": "stream",
          "text": [
            "('cherry', 'orange', 'kiwi')\n"
          ],
          "name": "stdout"
        }
      ]
    },
    {
      "cell_type": "code",
      "metadata": {
        "colab": {
          "base_uri": "https://localhost:8080/"
        },
        "id": "3HZdjqyEQ6P7",
        "outputId": "0ef92153-0dce-4956-b755-fad177ee7db3"
      },
      "source": [
        "#Check if \"apple\" is present in the tuple:\n",
        "\n",
        "thistuple = (\"apple\", \"banana\", \"cherry\")\n",
        "if \"apple\" in thistuple:\n",
        "  print(\"Yes, 'apple' is in the fruits tuple\")"
      ],
      "execution_count": null,
      "outputs": [
        {
          "output_type": "stream",
          "text": [
            "Yes, 'apple' is in the fruits tuple\n"
          ],
          "name": "stdout"
        }
      ]
    },
    {
      "cell_type": "code",
      "metadata": {
        "colab": {
          "base_uri": "https://localhost:8080/"
        },
        "id": "-v2OjkYoSBGq",
        "outputId": "c3690d37-80a0-4381-fb8d-4d853d3094e1"
      },
      "source": [
        "#Convert the tuple into a list to be able to change it:\n",
        "\n",
        "x = (\"apple\", \"banana\", \"cherry\")\n",
        "y = list(x)\n",
        "y[1] = \"kiwi\"\n",
        "x = tuple(y)\n",
        "\n",
        "print(x)"
      ],
      "execution_count": null,
      "outputs": [
        {
          "output_type": "stream",
          "text": [
            "('apple', 'kiwi', 'cherry')\n"
          ],
          "name": "stdout"
        }
      ]
    },
    {
      "cell_type": "code",
      "metadata": {
        "id": "zvzc6s5TSOs1"
      },
      "source": [
        "#Just like the workaround for changing a tuple, you can convert it into a list, add your item(s), and convert it back into a tuple.\n",
        "\n",
        "#Convert the tuple into a list, add \"orange\", and convert it back into a tuple:\n",
        "\n",
        "thistuple = (\"apple\", \"banana\", \"cherry\")\n",
        "y = list(thistuple)\n",
        "y.append(\"orange\")\n",
        "thistuple = tuple(y)"
      ],
      "execution_count": null,
      "outputs": []
    },
    {
      "cell_type": "code",
      "metadata": {
        "id": "qiVZ1uFxSegs"
      },
      "source": [
        "#Convert the tuple into a list, remove \"apple\", and convert it back into a tuple:\n",
        "\n",
        "thistuple = (\"apple\", \"banana\", \"cherry\")\n",
        "y = list(thistuple)\n",
        "y.remove(\"apple\")\n",
        "thistuple = tuple(y)"
      ],
      "execution_count": null,
      "outputs": []
    },
    {
      "cell_type": "code",
      "metadata": {
        "id": "tMStESgKSmN0"
      },
      "source": [
        "#The del keyword can delete the tuple completely:\n",
        "\n",
        "thistuple = (\"apple\", \"banana\", \"cherry\")\n",
        "del thistuple\n",
        "#print(thistuple) #this will raise an error because the tuple no longer exists"
      ],
      "execution_count": null,
      "outputs": []
    },
    {
      "cell_type": "code",
      "metadata": {
        "id": "rK3xyE2WNxkY",
        "colab": {
          "base_uri": "https://localhost:8080/"
        },
        "outputId": "64f53d60-0a7b-4ecd-c9b3-a150df4c0b72"
      },
      "source": [
        "#When we create a tuple, we normally assign values to it. This is called \"packing\" a tuple.\n",
        "#Packing a tuple.\n",
        "\n",
        "fruits = (\"apple\", \"banana\", \"cherry\")\n",
        "\n",
        "#But, in Python, we are also allowed to extract the values back into variables. This is called \"unpacking\".\n",
        "#Unpacking a tuple.\n",
        "\n",
        "fruits = (\"apple\", \"banana\", \"cherry\")\n",
        "\n",
        "(green, yellow, red) = fruits\n",
        "\n",
        "print(green)\n",
        "print(yellow)\n",
        "print(red)\n",
        "\n",
        "#Assign the rest of the values as a list called \"red\":\n",
        "\n",
        "fruits = (\"apple\", \"banana\", \"cherry\", \"strawberry\", \"raspberry\")\n",
        "\n",
        "(green, yellow, *red) = fruits\n",
        "\n",
        "print(green)\n",
        "print(yellow)\n",
        "print(red)"
      ],
      "execution_count": 3,
      "outputs": [
        {
          "output_type": "stream",
          "text": [
            "apple\n",
            "banana\n",
            "cherry\n",
            "apple\n",
            "banana\n",
            "['cherry', 'strawberry', 'raspberry']\n"
          ],
          "name": "stdout"
        }
      ]
    },
    {
      "cell_type": "code",
      "metadata": {
        "colab": {
          "base_uri": "https://localhost:8080/"
        },
        "id": "LwvT9LaCyWcq",
        "outputId": "390c709c-9e80-4c67-ad1d-ab4d09d4ab2d"
      },
      "source": [
        "#Add a list of values the \"tropic\" variable:\n",
        "\n",
        "fruits = (\"apple\", \"mango\", \"papaya\", \"pineapple\", \"cherry\")\n",
        "\n",
        "(green, *tropic, red) = fruits\n",
        "\n",
        "print(green)\n",
        "print(tropic)\n",
        "print(red)"
      ],
      "execution_count": 4,
      "outputs": [
        {
          "output_type": "stream",
          "text": [
            "apple\n",
            "['mango', 'papaya', 'pineapple']\n",
            "cherry\n"
          ],
          "name": "stdout"
        }
      ]
    },
    {
      "cell_type": "code",
      "metadata": {
        "colab": {
          "base_uri": "https://localhost:8080/"
        },
        "id": "vkUInNRnzVs9",
        "outputId": "02ca7779-5ffa-4f8f-d33f-665410b71b45"
      },
      "source": [
        "#Iterate through the items and print the values:\n",
        "\n",
        "thistuple = (\"apple\", \"banana\", \"cherry\")\n",
        "for x in thistuple:\n",
        "  print(x)\n",
        "\n",
        "print('\\n')\n",
        "#Print all items by referring to their index number:\n",
        "\n",
        "thistuple = (\"apple\", \"banana\", \"cherry\")\n",
        "for i in range(len(thistuple)):\n",
        "  print(thistuple[i])"
      ],
      "execution_count": 8,
      "outputs": [
        {
          "output_type": "stream",
          "text": [
            "apple\n",
            "banana\n",
            "cherry\n",
            "\n",
            "\n",
            "apple\n",
            "banana\n",
            "cherry\n"
          ],
          "name": "stdout"
        }
      ]
    },
    {
      "cell_type": "code",
      "metadata": {
        "colab": {
          "base_uri": "https://localhost:8080/"
        },
        "id": "I8uLlHDM0-dt",
        "outputId": "9f6787f5-e7fc-4950-e8b7-17820212bb07"
      },
      "source": [
        "#Join two tuples:\n",
        "\n",
        "tuple1 = (\"a\", \"b\" , \"c\")\n",
        "tuple2 = (1, 2, 3)\n",
        "\n",
        "tuple3 = tuple1 + tuple2\n",
        "print(tuple3)"
      ],
      "execution_count": 9,
      "outputs": [
        {
          "output_type": "stream",
          "text": [
            "('a', 'b', 'c', 1, 2, 3)\n"
          ],
          "name": "stdout"
        }
      ]
    },
    {
      "cell_type": "code",
      "metadata": {
        "colab": {
          "base_uri": "https://localhost:8080/"
        },
        "id": "ZHHSQeqV1y_a",
        "outputId": "e3778ee6-60a3-4408-d049-9ada500d593b"
      },
      "source": [
        "#If you want to multiply the content of a tuple a given number of times, you can use the * operator:\n",
        "\n",
        "#Multiply the fruits tuple by 2:\n",
        "\n",
        "fruits = (\"apple\", \"banana\", \"cherry\")\n",
        "mytuple = fruits * 2\n",
        "\n",
        "print(mytuple)"
      ],
      "execution_count": 14,
      "outputs": [
        {
          "output_type": "stream",
          "text": [
            "('apple', 'banana', 'cherry', 'apple', 'banana', 'cherry')\n",
            "1\n"
          ],
          "name": "stdout"
        }
      ]
    },
    {
      "cell_type": "code",
      "metadata": {
        "colab": {
          "base_uri": "https://localhost:8080/"
        },
        "id": "uxJPbXJ36X83",
        "outputId": "22f424e4-7f20-46e0-e931-dad7fa1e9f80"
      },
      "source": [
        "'''\n",
        "Python has two built-in methods that you can use on tuples.\n",
        "\n",
        "count()\tReturns the number of times a specified value occurs in a tuple\n",
        "index()\tSearches the tuple for a specified value and returns the position of where it was found\n",
        "\n",
        "'''\n",
        "print(fruits.count('apple'))\n",
        "print(fruits.index('cherry'))"
      ],
      "execution_count": 18,
      "outputs": [
        {
          "output_type": "stream",
          "text": [
            "1\n",
            "2\n"
          ],
          "name": "stdout"
        }
      ]
    },
    {
      "cell_type": "code",
      "metadata": {
        "colab": {
          "base_uri": "https://localhost:8080/"
        },
        "id": "kqXJRGmi-rAO",
        "outputId": "eb47840c-4e82-4c64-8d81-c52f203296a6"
      },
      "source": [
        "#Set\n",
        "#Sets are used to store multiple items in a single variable.\n",
        "#A set is a collection which is both unordered and unindexed.\n",
        "\n",
        "#Sets are written with curly brackets.\n",
        "\n",
        "thisset = {\"apple\", \"banana\", \"cherry\"}\n",
        "print(thisset)  #Sets are unordered, so you cannot be sure in which order the items will appear.\n",
        "\n",
        "#Once a set is created, you cannot change its items, but you can add new items."
      ],
      "execution_count": 21,
      "outputs": [
        {
          "output_type": "stream",
          "text": [
            "{'apple', 'cherry', 'banana'}\n"
          ],
          "name": "stdout"
        }
      ]
    },
    {
      "cell_type": "code",
      "metadata": {
        "colab": {
          "base_uri": "https://localhost:8080/"
        },
        "id": "-KsSxhO5APmy",
        "outputId": "dc1ec0e8-744c-4d6f-aea5-5bf7a9f00612"
      },
      "source": [
        "#Duplicate values will be ignored:\n",
        "\n",
        "thisset = {\"apple\", \"banana\", \"cherry\", \"apple\"}\n",
        "\n",
        "print(thisset)"
      ],
      "execution_count": 22,
      "outputs": [
        {
          "output_type": "stream",
          "text": [
            "{'apple', 'cherry', 'banana'}\n"
          ],
          "name": "stdout"
        }
      ]
    },
    {
      "cell_type": "code",
      "metadata": {
        "colab": {
          "base_uri": "https://localhost:8080/"
        },
        "id": "zlGpyRsuAtLt",
        "outputId": "27121b74-26ef-47d3-fdfe-afccd35f0dd6"
      },
      "source": [
        "#To determine how many items a set has, use the len() method.\n",
        "\n",
        "#Get the number of items in a set.\n",
        "\n",
        "thisset = {\"apple\", \"banana\", \"cherry\"}\n",
        "\n",
        "print(len(thisset))"
      ],
      "execution_count": 23,
      "outputs": [
        {
          "output_type": "stream",
          "text": [
            "3\n"
          ],
          "name": "stdout"
        }
      ]
    },
    {
      "cell_type": "code",
      "metadata": {
        "id": "CmN_gAe5A7bm"
      },
      "source": [
        "#A set can contain different data types.\n",
        "\n",
        "#A set with strings, integers and boolean values.\n",
        "\n",
        "set1 = {\"abc\", 34, True, 40, \"male\"}"
      ],
      "execution_count": 24,
      "outputs": []
    },
    {
      "cell_type": "code",
      "metadata": {
        "colab": {
          "base_uri": "https://localhost:8080/"
        },
        "id": "fd3uavPlGfY7",
        "outputId": "b7334435-4713-466c-8589-8532aaf8cfb8"
      },
      "source": [
        "#Loop through the set, and print the values:\n",
        "\n",
        "thisset = {\"apple\", \"banana\", \"cherry\"}\n",
        "\n",
        "for x in thisset:\n",
        "  print(x)"
      ],
      "execution_count": 25,
      "outputs": [
        {
          "output_type": "stream",
          "text": [
            "apple\n",
            "cherry\n",
            "banana\n"
          ],
          "name": "stdout"
        }
      ]
    },
    {
      "cell_type": "code",
      "metadata": {
        "colab": {
          "base_uri": "https://localhost:8080/"
        },
        "id": "Fqf0L5WrGpO6",
        "outputId": "492c3536-1db9-484e-d446-a414e507d772"
      },
      "source": [
        "#Check if \"banana\" is present in the set:\n",
        "\n",
        "thisset = {\"apple\", \"banana\", \"cherry\"}\n",
        "\n",
        "print(\"banana\" in thisset)"
      ],
      "execution_count": 26,
      "outputs": [
        {
          "output_type": "stream",
          "text": [
            "True\n"
          ],
          "name": "stdout"
        }
      ]
    },
    {
      "cell_type": "code",
      "metadata": {
        "id": "CbEOj0NlG0ZU"
      },
      "source": [
        "#Add an item to a set, using the add() method:\n",
        "\n",
        "thisset = {\"apple\", \"banana\", \"cherry\"}\n",
        "\n",
        "thisset.add(\"orange\")\n",
        "\n",
        "print(thisset)"
      ],
      "execution_count": null,
      "outputs": []
    },
    {
      "cell_type": "code",
      "metadata": {
        "colab": {
          "base_uri": "https://localhost:8080/"
        },
        "id": "m21a8x95JS1l",
        "outputId": "af3279a5-7f60-4e88-ff1a-7f16b811b4d0"
      },
      "source": [
        "#Add elements from tropical and thisset into newset:\n",
        "\n",
        "thisset = {\"apple\", \"banana\", \"cherry\"}\n",
        "tropical = {\"pineapple\", \"mango\", \"papaya\"}\n",
        "\n",
        "thisset.update(tropical)\n",
        "\n",
        "print(thisset)"
      ],
      "execution_count": 27,
      "outputs": [
        {
          "output_type": "stream",
          "text": [
            "{'apple', 'papaya', 'cherry', 'pineapple', 'banana', 'mango'}\n"
          ],
          "name": "stdout"
        }
      ]
    },
    {
      "cell_type": "code",
      "metadata": {
        "colab": {
          "base_uri": "https://localhost:8080/"
        },
        "id": "8qSCHNv-Jar2",
        "outputId": "54143c3a-8688-4183-a3bc-52d225860685"
      },
      "source": [
        "#Add elements of a list to at set:\n",
        "\n",
        "thisset = {\"apple\", \"banana\", \"cherry\"}\n",
        "mylist = [\"kiwi\", \"orange\"]\n",
        "\n",
        "thisset.update(mylist)\n",
        "\n",
        "print(thisset)"
      ],
      "execution_count": 28,
      "outputs": [
        {
          "output_type": "stream",
          "text": [
            "{'apple', 'orange', 'banana', 'kiwi', 'cherry'}\n"
          ],
          "name": "stdout"
        }
      ]
    },
    {
      "cell_type": "code",
      "metadata": {
        "colab": {
          "base_uri": "https://localhost:8080/"
        },
        "id": "gpZMt5o3MQTA",
        "outputId": "92ac3685-687a-411a-9139-2c6c6e414d91"
      },
      "source": [
        "#Remove \"banana\" by using the remove() method:\n",
        "\n",
        "thisset = {\"apple\", \"banana\", \"cherry\"}\n",
        "\n",
        "thisset.remove(\"banana\")\n",
        "\n",
        "print(thisset)\n",
        "\n",
        "#If the item to remove does not exist, remove() will raise an error."
      ],
      "execution_count": 29,
      "outputs": [
        {
          "output_type": "stream",
          "text": [
            "{'apple', 'cherry'}\n"
          ],
          "name": "stdout"
        }
      ]
    },
    {
      "cell_type": "code",
      "metadata": {
        "colab": {
          "base_uri": "https://localhost:8080/"
        },
        "id": "J3joZuipMja3",
        "outputId": "845ed305-3f9d-4a58-c4d1-9c6636a3a70f"
      },
      "source": [
        "#Remove \"banana\" by using the discard() method:\n",
        "\n",
        "thisset = {\"apple\", \"banana\", \"cherry\"}\n",
        "\n",
        "thisset.discard(\"banana\")\n",
        "\n",
        "print(thisset)\n",
        "\n",
        "#If the item to remove does not exist, discard() will NOT raise an error."
      ],
      "execution_count": 30,
      "outputs": [
        {
          "output_type": "stream",
          "text": [
            "{'apple', 'cherry'}\n"
          ],
          "name": "stdout"
        }
      ]
    },
    {
      "cell_type": "code",
      "metadata": {
        "colab": {
          "base_uri": "https://localhost:8080/"
        },
        "id": "IPBiVr2jM7Ll",
        "outputId": "76affa04-6711-4aa2-edb6-8dd4c4a56832"
      },
      "source": [
        "#Remove the last item by using the pop() method.\n",
        "#You will not know what item that gets removed.\n",
        "\n",
        "thisset = {\"apple\", \"banana\", \"cherry\"}\n",
        "\n",
        "x = thisset.pop()\n",
        "\n",
        "print(x)\n",
        "\n",
        "print(thisset)"
      ],
      "execution_count": 31,
      "outputs": [
        {
          "output_type": "stream",
          "text": [
            "apple\n",
            "{'cherry', 'banana'}\n"
          ],
          "name": "stdout"
        }
      ]
    },
    {
      "cell_type": "code",
      "metadata": {
        "colab": {
          "base_uri": "https://localhost:8080/"
        },
        "id": "9JFVHLIvQXfl",
        "outputId": "07cbfa67-48ee-48d1-e85a-5d1460f79f05"
      },
      "source": [
        "#The clear() method empties the set:\n",
        "\n",
        "thisset = {\"apple\", \"banana\", \"cherry\"}\n",
        "\n",
        "thisset.clear()\n",
        "\n",
        "print(thisset)"
      ],
      "execution_count": 32,
      "outputs": [
        {
          "output_type": "stream",
          "text": [
            "set()\n"
          ],
          "name": "stdout"
        }
      ]
    },
    {
      "cell_type": "code",
      "metadata": {
        "id": "WtrbE_oUQjF9"
      },
      "source": [
        "#The del keyword will delete the set completely:\n",
        "\n",
        "thisset = {\"apple\", \"banana\", \"cherry\"}\n",
        "\n",
        "del thisset\n",
        "\n",
        "#print(thisset) #Gives error as  name 'thisset' is not defined"
      ],
      "execution_count": 35,
      "outputs": []
    },
    {
      "cell_type": "code",
      "metadata": {
        "colab": {
          "base_uri": "https://localhost:8080/"
        },
        "id": "fVgwwOMVSDME",
        "outputId": "dfb6e122-4587-4294-82ad-76789f783ac2"
      },
      "source": [
        "#Loop through the set, and print the values:\n",
        "\n",
        "thisset = {\"apple\", \"banana\", \"cherry\"}\n",
        "\n",
        "for x in thisset:\n",
        "  print(x)"
      ],
      "execution_count": 36,
      "outputs": [
        {
          "output_type": "stream",
          "text": [
            "apple\n",
            "cherry\n",
            "banana\n"
          ],
          "name": "stdout"
        }
      ]
    },
    {
      "cell_type": "code",
      "metadata": {
        "colab": {
          "base_uri": "https://localhost:8080/"
        },
        "id": "4FULE99QSbxy",
        "outputId": "2c3ee96c-e182-4f83-f3ff-877673735659"
      },
      "source": [
        "#The union() method returns a new set with all items from both sets:\n",
        "\n",
        "set1 = {\"a\", \"b\" , \"c\"}\n",
        "set2 = {1, 2, 3}\n",
        "\n",
        "set3 = set1.union(set2)\n",
        "print(set3)"
      ],
      "execution_count": 37,
      "outputs": [
        {
          "output_type": "stream",
          "text": [
            "{'b', 1, 2, 3, 'a', 'c'}\n"
          ],
          "name": "stdout"
        }
      ]
    },
    {
      "cell_type": "code",
      "metadata": {
        "colab": {
          "base_uri": "https://localhost:8080/"
        },
        "id": "7jNOWEfkUI6s",
        "outputId": "557dadb6-99c0-48df-be48-d8256dba3088"
      },
      "source": [
        "#The update() method inserts the items in set2 into set1:\n",
        "\n",
        "set1 = {\"a\", \"b\" , \"c\"}\n",
        "set2 = {1, 2, 3}\n",
        "\n",
        "set1.update(set2)\n",
        "print(set1)\n",
        "\n",
        "#Both union() and update() will exclude any duplicate items."
      ],
      "execution_count": 39,
      "outputs": [
        {
          "output_type": "stream",
          "text": [
            "{'b', 1, 2, 3, 'a', 'c'}\n"
          ],
          "name": "stdout"
        }
      ]
    },
    {
      "cell_type": "code",
      "metadata": {
        "colab": {
          "base_uri": "https://localhost:8080/"
        },
        "id": "QamJ6KhxUjnT",
        "outputId": "16718ba6-d058-493c-f6cf-34c57137ab8f"
      },
      "source": [
        "#Keep the items that exist in both set x, and set y:\n",
        "\n",
        "x = {\"apple\", \"banana\", \"cherry\"}\n",
        "y = {\"google\", \"microsoft\", \"apple\"}\n",
        "\n",
        "x.intersection_update(y)\n",
        "\n",
        "print(x)"
      ],
      "execution_count": 40,
      "outputs": [
        {
          "output_type": "stream",
          "text": [
            "{'apple'}\n"
          ],
          "name": "stdout"
        }
      ]
    },
    {
      "cell_type": "code",
      "metadata": {
        "colab": {
          "base_uri": "https://localhost:8080/"
        },
        "id": "PQCMCJogUsMX",
        "outputId": "c3a3d6d1-dde2-42ba-d721-38bd268ce747"
      },
      "source": [
        "#The intersection() method will return a new set, that only contains the items that are present in both sets.\n",
        "\n",
        "x = {\"apple\", \"banana\", \"cherry\"}\n",
        "y = {\"google\", \"microsoft\", \"apple\"}\n",
        "\n",
        "z = x.intersection(y)\n",
        "\n",
        "print(z)"
      ],
      "execution_count": 41,
      "outputs": [
        {
          "output_type": "stream",
          "text": [
            "{'apple'}\n"
          ],
          "name": "stdout"
        }
      ]
    },
    {
      "cell_type": "code",
      "metadata": {
        "colab": {
          "base_uri": "https://localhost:8080/"
        },
        "id": "p9iE7IQAU7QB",
        "outputId": "cbd13009-2228-4296-ea8a-7858051ef21f"
      },
      "source": [
        "#Keep the items that are not present in both sets:\n",
        "\n",
        "x = {\"apple\", \"banana\", \"cherry\"}\n",
        "y = {\"google\", \"microsoft\", \"apple\"}\n",
        "\n",
        "x.symmetric_difference_update(y)\n",
        "\n",
        "print(x)"
      ],
      "execution_count": 42,
      "outputs": [
        {
          "output_type": "stream",
          "text": [
            "{'banana', 'cherry', 'google', 'microsoft'}\n"
          ],
          "name": "stdout"
        }
      ]
    },
    {
      "cell_type": "code",
      "metadata": {
        "colab": {
          "base_uri": "https://localhost:8080/"
        },
        "id": "hd09OFCQVHqQ",
        "outputId": "778de376-b5cd-4dc6-f73a-c480895fde7a"
      },
      "source": [
        "#Return a set that contains all items from both sets, except items that are present in both:\n",
        "\n",
        "x = {\"apple\", \"banana\", \"cherry\"}\n",
        "y = {\"google\", \"microsoft\", \"apple\"}\n",
        "\n",
        "z = x.symmetric_difference(y)\n",
        "\n",
        "print(z)"
      ],
      "execution_count": 43,
      "outputs": [
        {
          "output_type": "stream",
          "text": [
            "{'banana', 'cherry', 'google', 'microsoft'}\n"
          ],
          "name": "stdout"
        }
      ]
    },
    {
      "cell_type": "code",
      "metadata": {
        "colab": {
          "base_uri": "https://localhost:8080/",
          "height": 137
        },
        "id": "E4zsP-bgV4EG",
        "outputId": "6918b342-616c-4340-874b-f49fa172798b"
      },
      "source": [
        "'''\n",
        "Set Methods\n",
        "Python has a set of built-in methods that you can use on sets.\n",
        "\n",
        "add()\tAdds an element to the set\n",
        "clear()\tRemoves all the elements from the set\n",
        "copy()\tReturns a copy of the set\n",
        "difference()\tReturns a set containing the difference between two or more sets\n",
        "difference_update()\tRemoves the items in this set that are also included in another, specified set\n",
        "discard()\tRemove the specified item\n",
        "intersection()\tReturns a set, that is the intersection of two other sets\n",
        "intersection_update()\tRemoves the items in this set that are not present in other, specified set(s)\n",
        "isdisjoint()\tReturns whether two sets have a intersection or not\n",
        "issubset()\tReturns whether another set contains this set or not\n",
        "issuperset()\tReturns whether this set contains another set or not\n",
        "pop()\tRemoves an element from the set\n",
        "remove()\tRemoves the specified element\n",
        "symmetric_difference()\tReturns a set with the symmetric differences of two sets\n",
        "symmetric_difference_update()\tinserts the symmetric differences from this set and another\n",
        "union()\tReturn a set containing the union of sets\n",
        "update()\tUpdate the set with the union of this set and others\n",
        "\n",
        "\n",
        "'''"
      ],
      "execution_count": 44,
      "outputs": [
        {
          "output_type": "execute_result",
          "data": {
            "application/vnd.google.colaboratory.intrinsic+json": {
              "type": "string"
            },
            "text/plain": [
              "'\\nSet Methods\\nPython has a set of built-in methods that you can use on sets.\\n\\nadd()\\tAdds an element to the set\\nclear()\\tRemoves all the elements from the set\\ncopy()\\tReturns a copy of the set\\ndifference()\\tReturns a set containing the difference between two or more sets\\ndifference_update()\\tRemoves the items in this set that are also included in another, specified set\\ndiscard()\\tRemove the specified item\\nintersection()\\tReturns a set, that is the intersection of two other sets\\nintersection_update()\\tRemoves the items in this set that are not present in other, specified set(s)\\nisdisjoint()\\tReturns whether two sets have a intersection or not\\nissubset()\\tReturns whether another set contains this set or not\\nissuperset()\\tReturns whether this set contains another set or not\\npop()\\tRemoves an element from the set\\nremove()\\tRemoves the specified element\\nsymmetric_difference()\\tReturns a set with the symmetric differences of two sets\\nsymmetric_difference_update()\\tinserts the symmetric differences from this set and another\\nunion()\\tReturn a set containing the union of sets\\nupdate()\\tUpdate the set with the union of this set and others\\n\\n\\n'"
            ]
          },
          "metadata": {
            "tags": []
          },
          "execution_count": 44
        }
      ]
    }
  ]
}