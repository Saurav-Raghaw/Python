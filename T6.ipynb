{
  "nbformat": 4,
  "nbformat_minor": 0,
  "metadata": {
    "colab": {
      "name": "T6.ipynb",
      "provenance": [],
      "authorship_tag": "ABX9TyO8P7GcU5avav5Yc163lBVX",
      "include_colab_link": true
    },
    "kernelspec": {
      "name": "python3",
      "display_name": "Python 3"
    },
    "language_info": {
      "name": "python"
    }
  },
  "cells": [
    {
      "cell_type": "markdown",
      "metadata": {
        "id": "view-in-github",
        "colab_type": "text"
      },
      "source": [
        "<a href=\"https://colab.research.google.com/github/Saurav-Raghaw/Python/blob/main/T6.ipynb\" target=\"_parent\"><img src=\"https://colab.research.google.com/assets/colab-badge.svg\" alt=\"Open In Colab\"/></a>"
      ]
    },
    {
      "cell_type": "code",
      "metadata": {
        "colab": {
          "base_uri": "https://localhost:8080/"
        },
        "id": "v5t321Mciop1",
        "outputId": "976e129c-6aa9-4c88-8ba0-b05b1622c1c2"
      },
      "source": [
        "#Dictionary\n",
        "\n",
        "#Dictionaries are used to store data values in key:value pairs.\n",
        "#A dictionary is a collection which is ordered*, changeable and does not allow duplicates.\n",
        "#As of Python version 3.7, dictionaries are ordered. In Python 3.6 and earlier, dictionaries are unordered.\n",
        "#Dictionaries are written with curly brackets, and have keys and values.\n",
        "\n",
        "#Create and print a dictionary:\n",
        "\n",
        "dict_name = {\n",
        "  \"College\": \"IITI\",\n",
        "  \"City\": \"indore\",\n",
        "  \"year\": 2009\n",
        "}\n",
        "print(dict_name)\n",
        "\n",
        "#The values in dictionary items can be of any data type."
      ],
      "execution_count": 12,
      "outputs": [
        {
          "output_type": "stream",
          "text": [
            "{'College': 'IITI', 'City': 'indore', 'year': 2009}\n"
          ],
          "name": "stdout"
        }
      ]
    },
    {
      "cell_type": "code",
      "metadata": {
        "colab": {
          "base_uri": "https://localhost:8080/"
        },
        "id": "EMmp4tztk4zT",
        "outputId": "9b68b286-66d7-4575-bc74-7b4704946505"
      },
      "source": [
        "#Dictionary items are presented in key:value pairs, and can be referred to by using the key name.\n",
        "\n",
        "#Print the \"year\" value of the dictionary:\n",
        "\n",
        "dict_name = {\n",
        "  \"College\": \"IITI\",\n",
        "  \"City\": \"indore\",\n",
        "  \"year\": 2009\n",
        "}\n",
        "print(dict_name['year'], '\\n')\n",
        "\n",
        "#We can access the items of a dictionary by referring to its key name, inside square brackets.\n",
        "#There is also a method called get() that will give you the same result.\n",
        "\n",
        "print(dict_name.get('year'))"
      ],
      "execution_count": 14,
      "outputs": [
        {
          "output_type": "stream",
          "text": [
            "2009 \n",
            "\n",
            "2009\n"
          ],
          "name": "stdout"
        }
      ]
    },
    {
      "cell_type": "code",
      "metadata": {
        "colab": {
          "base_uri": "https://localhost:8080/"
        },
        "id": "t5JjfZ-qmDNm",
        "outputId": "610f615d-7355-4b9e-84f4-50b4063cd24f"
      },
      "source": [
        "#Dictionaries cannot have two items with the same key.\n",
        "#Duplicate values will overwrite existing values.\n",
        "\n",
        "dict_name = {\n",
        "  \"College\": \"IITI\",\n",
        "  \"City\": \"indore\",\n",
        "  \"year\": 2009,\n",
        "  'City': 'INDORE'\n",
        "}\n",
        "print(dict_name, '\\n')\n",
        "\n",
        "#Print the number of items in the dictionary.\n",
        "\n",
        "print(len(dict_name))"
      ],
      "execution_count": 11,
      "outputs": [
        {
          "output_type": "stream",
          "text": [
            "{'College': 'IITI', 'City': 'INDORE', 'year': 2009} \n",
            "\n",
            "3\n"
          ],
          "name": "stdout"
        }
      ]
    },
    {
      "cell_type": "code",
      "metadata": {
        "colab": {
          "base_uri": "https://localhost:8080/"
        },
        "id": "RBKWqB_mm6k6",
        "outputId": "74711518-bc30-4cea-8ce1-a6f739f3c726"
      },
      "source": [
        "#The keys() method will return a list of all the keys in the dictionary.\n",
        "\n",
        "dict_name = {\n",
        "  \"College\": \"IITI\",\n",
        "  \"City\": \"indore\",\n",
        "  \"year\": 2009,\n",
        "}\n",
        "\n",
        "x= dict_name.keys()\n",
        "print(x, '\\n')\n",
        "\n",
        "#The list of the keys is a view of the dictionary, meaning that any changes done to the dictionary will be reflected in the keys list.\n",
        "\n",
        "print(x, '\\n') #before the change\n",
        "\n",
        "dict_name['Dept'] = 'CSE' #Adding a new key and value pair into the dictionary.\n",
        "\n",
        "print(x) #after the change"
      ],
      "execution_count": 20,
      "outputs": [
        {
          "output_type": "stream",
          "text": [
            "dict_keys(['College', 'City', 'year']) \n",
            "\n",
            "dict_keys(['College', 'City', 'year']) \n",
            "\n",
            "dict_keys(['College', 'City', 'year', 'Dept'])\n"
          ],
          "name": "stdout"
        }
      ]
    },
    {
      "cell_type": "code",
      "metadata": {
        "colab": {
          "base_uri": "https://localhost:8080/"
        },
        "id": "Q8L_yDpgr4uz",
        "outputId": "714b5c8a-fd77-4bc7-9d89-023d8e25d892"
      },
      "source": [
        "#The values() method will return a list of all the values in the dictionary.\n",
        "\n",
        "dict_name = {\n",
        "  \"College\": \"IITI\",\n",
        "  \"City\": \"indore\",\n",
        "  \"year\": 2009,\n",
        "}\n",
        "\n",
        "print(dict_name.values())\n",
        "\n",
        "#The list of the values is a view of the dictionary, meaning that any changes done to the dictionary will be reflected in the values list.\n",
        "\n",
        "dict_name['Dept'] = 'CSE'\n",
        "\n",
        "print(dict_name.values())"
      ],
      "execution_count": 19,
      "outputs": [
        {
          "output_type": "stream",
          "text": [
            "dict_values(['IITI', 'indore', 2009])\n",
            "dict_values(['IITI', 'indore', 2009, 'CSE'])\n"
          ],
          "name": "stdout"
        }
      ]
    },
    {
      "cell_type": "code",
      "metadata": {
        "colab": {
          "base_uri": "https://localhost:8080/"
        },
        "id": "TDAfeDx5t6LO",
        "outputId": "6c06d72c-b61a-446e-e9b2-55bb560ebdf5"
      },
      "source": [
        "#The items() method will return each item in a dictionary, as tuples in a list.\n",
        "\n",
        "print(dict_name.items())\n",
        "\n",
        "#The returned list is a view of the items of the dictionary, meaning that any changes done to the dictionary will be reflected in the items list.\n",
        "#same as above."
      ],
      "execution_count": 22,
      "outputs": [
        {
          "output_type": "stream",
          "text": [
            "dict_items([('College', 'IITI'), ('City', 'indore'), ('year', 2009), ('Dept', 'CSE')])\n"
          ],
          "name": "stdout"
        }
      ]
    },
    {
      "cell_type": "code",
      "metadata": {
        "colab": {
          "base_uri": "https://localhost:8080/"
        },
        "id": "37N4yZBzwMOc",
        "outputId": "f3c59709-7367-459c-c576-d06f3f3a3be3"
      },
      "source": [
        "#To determine if a specified key is present in a dictionary use the in keyword.\n",
        "\n",
        "dict_name = {\n",
        "  \"College\": \"IITI\",\n",
        "  \"City\": \"indore\",\n",
        "  \"year\": 2009,\n",
        "}\n",
        "if 'City' in dict_name:\n",
        "  print(\"Yes, 'City' is one of the keys in the dict_name dictionary\")"
      ],
      "execution_count": 30,
      "outputs": [
        {
          "output_type": "stream",
          "text": [
            "Yes, 'City' is one of the keys in the dict_name dictionary\n"
          ],
          "name": "stdout"
        }
      ]
    },
    {
      "cell_type": "code",
      "metadata": {
        "colab": {
          "base_uri": "https://localhost:8080/"
        },
        "id": "YGdwiUZFxjfS",
        "outputId": "e26f6f6d-e133-401c-c02c-486443218f94"
      },
      "source": [
        "#Change and Update\n",
        "\n",
        "dict_name['City'] = 'INDORE'\n",
        "print(dict_name)\n",
        "\n",
        "dict_name.update({'City': 'indore'}) #The update() method will update the dictionary with the items from the given argument.\n",
        "\n",
        "print(dict_name)\n"
      ],
      "execution_count": 31,
      "outputs": [
        {
          "output_type": "stream",
          "text": [
            "{'College': 'IITI', 'City': 'INDORE', 'year': 2009}\n",
            "{'College': 'IITI', 'City': 'indore', 'year': 2009}\n"
          ],
          "name": "stdout"
        }
      ]
    },
    {
      "cell_type": "code",
      "metadata": {
        "colab": {
          "base_uri": "https://localhost:8080/"
        },
        "id": "al5YmNIG0MhN",
        "outputId": "af5ea8bd-2dc0-4b09-9bf5-ffa398c946c8"
      },
      "source": [
        "##Add a color item to the dictionary by using the update() method.\n",
        "dict_name = {\n",
        "  \"College\": \"IITI\",\n",
        "  \"City\": \"indore\",\n",
        "  \"year\": 2009\n",
        "}\n",
        "\n",
        "dict_name.update({'Dept': 'CSE'})\n",
        "print(dict_name)"
      ],
      "execution_count": 34,
      "outputs": [
        {
          "output_type": "stream",
          "text": [
            "{'College': 'IITI', 'City': 'indore', 'year': 2009, 'Dept': 'CSE'}\n"
          ],
          "name": "stdout"
        }
      ]
    },
    {
      "cell_type": "code",
      "metadata": {
        "colab": {
          "base_uri": "https://localhost:8080/"
        },
        "id": "XZkhGhH40XvD",
        "outputId": "7b366c4a-973e-4ac4-eaed-5f64cbeaba11"
      },
      "source": [
        "#Removing Items.\n",
        "#The pop() method removes the item with the specified key name.\n",
        "\n",
        "dict_name.pop('Dept')\n",
        "print(dict_name)"
      ],
      "execution_count": 33,
      "outputs": [
        {
          "output_type": "stream",
          "text": [
            "{'College': 'IITI', 'City': 'indore', 'year': 2009}\n"
          ],
          "name": "stdout"
        }
      ]
    },
    {
      "cell_type": "code",
      "metadata": {
        "colab": {
          "base_uri": "https://localhost:8080/"
        },
        "id": "NZNWeZ6v0vRz",
        "outputId": "807bbfcc-859a-46aa-e4ca-b218adcb6060"
      },
      "source": [
        "#The popitem() method removes the last inserted item (in versions before 3.7, a random item is removed instead).\n",
        "dict_name = {\n",
        "  \"College\": \"IITI\",\n",
        "  \"City\": \"indore\",\n",
        "  \"year\": 2009,\n",
        "  'dept': 'cse'\n",
        "}\n",
        "print(dict_name)\n",
        "\n",
        "dict_name.popitem()\n",
        "print(dict_name)\n",
        "\n",
        "'''\n",
        "The del keyword removes the item with the specified key name.\n",
        "del dict_name['year]\n",
        "\n",
        "The del keyword can also delete the dictionary completely.\n",
        "del dict_name\n",
        "\n",
        "The clear() method empties the dictionary.\n",
        "dict_name.clear()\n",
        "\n",
        "'''"
      ],
      "execution_count": 37,
      "outputs": [
        {
          "output_type": "stream",
          "text": [
            "{'College': 'IITI', 'City': 'indore', 'year': 2009, 'dept': 'cse'}\n",
            "{'College': 'IITI', 'City': 'indore', 'year': 2009}\n"
          ],
          "name": "stdout"
        }
      ]
    },
    {
      "cell_type": "code",
      "metadata": {
        "colab": {
          "base_uri": "https://localhost:8080/"
        },
        "id": "hYoHRrqM3gKD",
        "outputId": "3d2d0fff-26a0-4cef-99c7-176f35022eeb"
      },
      "source": [
        "#Loop Dict.\n",
        "#Print all key names in the dictionary, one by one:\n",
        "\n",
        "for x in dict_name:\n",
        "  print(x)\n",
        "\n",
        "print('\\n')\n",
        "#Print all values in the dictionary, one by one.\n",
        "\n",
        "for x in dict_name:\n",
        "  print(dict_name[x])\n",
        "\n",
        "#We can also use the values() method to return values of a dictionary.\n",
        "\n",
        "for x in dict_name.values():\n",
        "  print(x)\n",
        "\n",
        "#You can use the keys() method to return the keys of a dictionary:\n",
        "print('\\n')\n",
        "for x in dict_name.keys():\n",
        "  print(x)"
      ],
      "execution_count": 43,
      "outputs": [
        {
          "output_type": "stream",
          "text": [
            "College\n",
            "City\n",
            "year\n",
            "\n",
            "\n",
            "IITI\n",
            "indore\n",
            "2009\n",
            "IITI\n",
            "indore\n",
            "2009\n",
            "\n",
            "\n",
            "College\n",
            "City\n",
            "year\n"
          ],
          "name": "stdout"
        }
      ]
    },
    {
      "cell_type": "code",
      "metadata": {
        "colab": {
          "base_uri": "https://localhost:8080/"
        },
        "id": "5YdG3OekIAHR",
        "outputId": "32ee07dd-ab94-40c8-cce1-0ea72b2b8764"
      },
      "source": [
        "#Loop through both keys and values, by using the items() method:\n",
        "\n",
        "for x, y in dict_name.items():\n",
        "  print(x, y)"
      ],
      "execution_count": 45,
      "outputs": [
        {
          "output_type": "stream",
          "text": [
            "College IITI\n",
            "City indore\n",
            "year 2009\n"
          ],
          "name": "stdout"
        }
      ]
    },
    {
      "cell_type": "code",
      "metadata": {
        "colab": {
          "base_uri": "https://localhost:8080/"
        },
        "id": "zHbUrCnENhFa",
        "outputId": "fbfd3be8-516e-407f-f8f5-1589a98a96c4"
      },
      "source": [
        "#Make a copy of a dictionary with the copy() method.\n",
        "\n",
        "dict_name = {\n",
        "  \"College\": \"IITI\",\n",
        "  \"City\": \"indore\",\n",
        "  \"year\": 2009,\n",
        "  'dept': 'cse'\n",
        "}\n",
        "\n",
        "dict_name1 = dict_name.copy()\n",
        "print(dict_name, '\\n')\n",
        "\n",
        "#using dict method.\n",
        "dict_name2 = dict(dict_name)\n",
        "print(dict_name2)\n"
      ],
      "execution_count": 48,
      "outputs": [
        {
          "output_type": "stream",
          "text": [
            "{'College': 'IITI', 'City': 'indore', 'year': 2009, 'dept': 'cse'} \n",
            "\n",
            "{'College': 'IITI', 'City': 'indore', 'year': 2009, 'dept': 'cse'}\n"
          ],
          "name": "stdout"
        }
      ]
    },
    {
      "cell_type": "code",
      "metadata": {
        "colab": {
          "base_uri": "https://localhost:8080/"
        },
        "id": "zdjyiQytQWGQ",
        "outputId": "a85a803e-c58c-47ef-ed53-ca97e3aa4e7e"
      },
      "source": [
        "#Nested Dictionaries\n",
        "\n",
        "dict_name3 = {\n",
        "    'son1':{\n",
        "        'name':'A',\n",
        "        'year': 2005\n",
        "    },\n",
        "\n",
        "    'son2' :{\n",
        "        'name':'B',\n",
        "        'year':2010\n",
        "\n",
        "    }\n",
        "}\n",
        "\n",
        "print(dict_name3)"
      ],
      "execution_count": 51,
      "outputs": [
        {
          "output_type": "stream",
          "text": [
            "{'son1': {'name': 'A', 'year': 2005}, 'son2': {'name': 'B', 'year': 2010}}\n"
          ],
          "name": "stdout"
        }
      ]
    },
    {
      "cell_type": "code",
      "metadata": {
        "colab": {
          "base_uri": "https://localhost:8080/",
          "height": 120
        },
        "id": "o7wF3fT_SJiU",
        "outputId": "aea1aafa-7eb3-43df-f803-afc6e5a94312"
      },
      "source": [
        "'''\n",
        "Dictionary Methods\n",
        "Python has a set of built-in methods that you can use on dictionaries.\n",
        "\n",
        "Method\tDescription\n",
        "clear()\tRemoves all the elements from the dictionary\n",
        "copy()\tReturns a copy of the dictionary\n",
        "fromkeys()\tReturns a dictionary with the specified keys and value\n",
        "get()\tReturns the value of the specified key\n",
        "items()\tReturns a list containing a tuple for each key value pair\n",
        "keys()\tReturns a list containing the dictionary's keys\n",
        "pop()\tRemoves the element with the specified key\n",
        "popitem()\tRemoves the last inserted key-value pair\n",
        "setdefault()\tReturns the value of the specified key. If the key does not exist: insert the key, with the specified value\n",
        "update()\tUpdates the dictionary with the specified key-value pairs\n",
        "values()\tReturns a list of all the values in the dictionary\n",
        "\n",
        "'''"
      ],
      "execution_count": 52,
      "outputs": [
        {
          "output_type": "execute_result",
          "data": {
            "application/vnd.google.colaboratory.intrinsic+json": {
              "type": "string"
            },
            "text/plain": [
              "\"\\nDictionary Methods\\nPython has a set of built-in methods that you can use on dictionaries.\\n\\nMethod\\tDescription\\nclear()\\tRemoves all the elements from the dictionary\\ncopy()\\tReturns a copy of the dictionary\\nfromkeys()\\tReturns a dictionary with the specified keys and value\\nget()\\tReturns the value of the specified key\\nitems()\\tReturns a list containing a tuple for each key value pair\\nkeys()\\tReturns a list containing the dictionary's keys\\npop()\\tRemoves the element with the specified key\\npopitem()\\tRemoves the last inserted key-value pair\\nsetdefault()\\tReturns the value of the specified key. If the key does not exist: insert the key, with the specified value\\nupdate()\\tUpdates the dictionary with the specified key-value pairs\\nvalues()\\tReturns a list of all the values in the dictionary\\n\\n\""
            ]
          },
          "metadata": {
            "tags": []
          },
          "execution_count": 52
        }
      ]
    }
  ]
}