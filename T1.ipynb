{
  "nbformat": 4,
  "nbformat_minor": 0,
  "metadata": {
    "colab": {
      "name": "T1.ipynb",
      "provenance": []
    },
    "kernelspec": {
      "name": "python3",
      "display_name": "Python 3"
    }
  },
  "cells": [
    {
      "cell_type": "markdown",
      "metadata": {
        "id": "JWUzKPWbWbji"
      },
      "source": [
        "source: w3school."
      ]
    },
    {
      "cell_type": "code",
      "metadata": {
        "colab": {
          "base_uri": "https://localhost:8080/"
        },
        "id": "H1pMvA7SwKZe",
        "outputId": "f33bf830-dfcb-400b-ae7f-2d0ff079428b"
      },
      "source": [
        "#String variables can be declared either by using single or double quotes.\r\n",
        "\r\n",
        "print('saurav')"
      ],
      "execution_count": 12,
      "outputs": [
        {
          "output_type": "stream",
          "text": [
            "saurav\n"
          ],
          "name": "stdout"
        }
      ]
    },
    {
      "cell_type": "code",
      "metadata": {
        "colab": {
          "base_uri": "https://localhost:8080/"
        },
        "id": "0SzuIHQEy2CG",
        "outputId": "06853c0d-d83c-4351-bd29-3f518657e05b"
      },
      "source": [
        "#Python will give you an error if you skip the indentation.\r\n",
        "#The number of spaces is up to you as a programmer, but it has to be at least one.\r\n",
        "\r\n",
        "if 7<8:\r\n",
        "  print('indentation should be atleast one')\r\n",
        "\r\n",
        "if 7<8:\r\n",
        "    print('more white spaces.')\r\n",
        "\r\n",
        "#We have to use the same number of spaces in the same block of code."
      ],
      "execution_count": 6,
      "outputs": [
        {
          "output_type": "stream",
          "text": [
            "indentation should be atleast one\n",
            "more white spaces.\n"
          ],
          "name": "stdout"
        }
      ]
    },
    {
      "cell_type": "code",
      "metadata": {
        "colab": {
          "base_uri": "https://localhost:8080/"
        },
        "id": "sD2WyilOzbou",
        "outputId": "073247ed-51f8-4c1d-d658-5c37f452aa20"
      },
      "source": [
        "#If we want to specify the data type of a variable, this can be done with casting.\r\n",
        "\r\n",
        "x = str(3)    # x will be '3'\r\n",
        "y = int(3)    # y will be 3\r\n",
        "z = float(3)  # z will be 3.0\r\n",
        "\r\n",
        "#We can get the data type of a variable with the type() function.\r\n",
        "\r\n",
        "type(x), type(y), type(z)"
      ],
      "execution_count": 11,
      "outputs": [
        {
          "output_type": "execute_result",
          "data": {
            "text/plain": [
              "(str, int, float)"
            ]
          },
          "metadata": {
            "tags": []
          },
          "execution_count": 11
        }
      ]
    },
    {
      "cell_type": "code",
      "metadata": {
        "colab": {
          "base_uri": "https://localhost:8080/"
        },
        "id": "TZhh9XU41nHy",
        "outputId": "454a60f0-6886-4dc6-baaa-2a0986821d16"
      },
      "source": [
        "#We can assign the same value to multiple variables in one line.\r\n",
        "x=y=z=2\r\n",
        "\r\n",
        "x, y, z "
      ],
      "execution_count": 14,
      "outputs": [
        {
          "output_type": "execute_result",
          "data": {
            "text/plain": [
              "(2, 2, 2)"
            ]
          },
          "metadata": {
            "tags": []
          },
          "execution_count": 14
        }
      ]
    },
    {
      "cell_type": "code",
      "metadata": {
        "colab": {
          "base_uri": "https://localhost:8080/"
        },
        "id": "q2J8S5SG1W5n",
        "outputId": "6c9e13e3-f0c9-40d6-8f5e-3d51f06ff0bf"
      },
      "source": [
        "#Unpacking a list.\r\n",
        "\r\n",
        "day = ['monday', 'Tuesday', 'sunday']\r\n",
        "x, y, z = day\r\n",
        "x, y, z"
      ],
      "execution_count": 17,
      "outputs": [
        {
          "output_type": "execute_result",
          "data": {
            "text/plain": [
              "('monday', 'Tuesday', 'sunday')"
            ]
          },
          "metadata": {
            "tags": []
          },
          "execution_count": 17
        }
      ]
    },
    {
      "cell_type": "code",
      "metadata": {
        "colab": {
          "base_uri": "https://localhost:8080/"
        },
        "id": "0Yof4MF-Rce6",
        "outputId": "827152d7-d456-404b-cc21-a2bfe9d776bd"
      },
      "source": [
        "x = 'IITI'\r\n",
        "print('College: ' + x)"
      ],
      "execution_count": 18,
      "outputs": [
        {
          "output_type": "stream",
          "text": [
            "College: IITI\n"
          ],
          "name": "stdout"
        }
      ]
    },
    {
      "cell_type": "code",
      "metadata": {
        "colab": {
          "base_uri": "https://localhost:8080/"
        },
        "id": "ofd_ElbCRms8",
        "outputId": "c5e52bf6-ba5f-4f10-e24d-3c18bb47401b"
      },
      "source": [
        "x = 'IIT'\r\n",
        "y = 'Indore'\r\n",
        "z = x + y\r\n",
        "print(z)\r\n",
        "\r\n",
        "#If you try to combine a string and a number, Python will give you an error."
      ],
      "execution_count": 22,
      "outputs": [
        {
          "output_type": "stream",
          "text": [
            "IITIndore\n"
          ],
          "name": "stdout"
        }
      ]
    },
    {
      "cell_type": "code",
      "metadata": {
        "colab": {
          "base_uri": "https://localhost:8080/"
        },
        "id": "V70jOkxeTQH6",
        "outputId": "0f70dfac-1d3d-4e6c-acab-778258e0425d"
      },
      "source": [
        "#Global Vs Local variable\r\n",
        "\r\n",
        "x = \"IITI\"\r\n",
        "\r\n",
        "def myfunc():\r\n",
        "  x = \"IIT Indore\"\r\n",
        "  print(x)\r\n",
        "\r\n",
        "myfunc()\r\n",
        "\r\n",
        "print(x)\r\n",
        "\r\n",
        "#Normally, when you create a variable inside a function, that variable is local, and can only be used inside that function.\r\n",
        "#To create a global variable inside a function, you can use the global keyword."
      ],
      "execution_count": 27,
      "outputs": [
        {
          "output_type": "stream",
          "text": [
            "IIT Indore\n",
            "IITI\n"
          ],
          "name": "stdout"
        }
      ]
    },
    {
      "cell_type": "code",
      "metadata": {
        "colab": {
          "base_uri": "https://localhost:8080/"
        },
        "id": "U6GrcFr5UxLs",
        "outputId": "a577f546-0f99-4878-a31e-cc61342ae021"
      },
      "source": [
        "def myfunc():\r\n",
        "  global x\r\n",
        "  x = \"IITI\"\r\n",
        "\r\n",
        "myfunc()\r\n",
        "\r\n",
        "print(x)"
      ],
      "execution_count": 32,
      "outputs": [
        {
          "output_type": "stream",
          "text": [
            "IITI\n"
          ],
          "name": "stdout"
        }
      ]
    },
    {
      "cell_type": "code",
      "metadata": {
        "colab": {
          "base_uri": "https://localhost:8080/"
        },
        "id": "nE-M6F2SVEPr",
        "outputId": "26ba4d36-a794-45af-c0f3-ace4b115577e"
      },
      "source": [
        "#To change the value of a global variable inside a function, refer to the variable by using the global keyword.\r\n",
        "\r\n",
        "x = \"IITI\"\r\n",
        "\r\n",
        "def myfunc():\r\n",
        "  global x\r\n",
        "  x = \"IIT Indore\"\r\n",
        "\r\n",
        "myfunc()\r\n",
        "\r\n",
        "print(x)"
      ],
      "execution_count": 34,
      "outputs": [
        {
          "output_type": "stream",
          "text": [
            "IIT Indore\n"
          ],
          "name": "stdout"
        }
      ]
    }
  ]
}